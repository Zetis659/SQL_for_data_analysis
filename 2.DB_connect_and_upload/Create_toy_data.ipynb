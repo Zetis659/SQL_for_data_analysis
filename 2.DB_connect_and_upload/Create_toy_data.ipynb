{
 "cells": [
  {
   "cell_type": "code",
   "execution_count": 1,
   "metadata": {
    "collapsed": true,
    "id": "6TlUIqV9pebe",
    "executionInfo": {
     "status": "ok",
     "timestamp": 1684326312804,
     "user_tz": -180,
     "elapsed": 241,
     "user": {
      "displayName": "Sergey Zavodun",
      "userId": "13975373041411226899"
     }
    }
   },
   "outputs": [],
   "source": [
    "import pandas as pd"
   ]
  },
  {
   "cell_type": "code",
   "execution_count": 2,
   "outputs": [],
   "source": [
    "df = pd.DataFrame({'coll': [1, 2, 3], 'coll2': [4, 5, 6]})"
   ],
   "metadata": {
    "pycharm": {
     "name": "#%%\n"
    },
    "id": "sB6V2pT8pebg",
    "executionInfo": {
     "status": "ok",
     "timestamp": 1684326313086,
     "user_tz": -180,
     "elapsed": 6,
     "user": {
      "displayName": "Sergey Zavodun",
      "userId": "13975373041411226899"
     }
    }
   }
  },
  {
   "cell_type": "code",
   "execution_count": 3,
   "outputs": [
    {
     "data": {
      "text/plain": "   coll  coll2\n0     1      4\n1     2      5\n2     3      6",
      "text/html": "<div>\n<style scoped>\n    .dataframe tbody tr th:only-of-type {\n        vertical-align: middle;\n    }\n\n    .dataframe tbody tr th {\n        vertical-align: top;\n    }\n\n    .dataframe thead th {\n        text-align: right;\n    }\n</style>\n<table border=\"1\" class=\"dataframe\">\n  <thead>\n    <tr style=\"text-align: right;\">\n      <th></th>\n      <th>coll</th>\n      <th>coll2</th>\n    </tr>\n  </thead>\n  <tbody>\n    <tr>\n      <th>0</th>\n      <td>1</td>\n      <td>4</td>\n    </tr>\n    <tr>\n      <th>1</th>\n      <td>2</td>\n      <td>5</td>\n    </tr>\n    <tr>\n      <th>2</th>\n      <td>3</td>\n      <td>6</td>\n    </tr>\n  </tbody>\n</table>\n</div>"
     },
     "execution_count": 3,
     "metadata": {},
     "output_type": "execute_result"
    }
   ],
   "source": [
    "df"
   ],
   "metadata": {
    "pycharm": {
     "name": "#%%\n"
    },
    "id": "qieN15Tdpebg",
    "outputId": "2ca9f0e7-3492-4978-cda3-b01375390dbf",
    "colab": {
     "base_uri": "https://localhost:8080/",
     "height": 143
    },
    "executionInfo": {
     "status": "ok",
     "timestamp": 1684326313086,
     "user_tz": -180,
     "elapsed": 6,
     "user": {
      "displayName": "Sergey Zavodun",
      "userId": "13975373041411226899"
     }
    }
   }
  },
  {
   "cell_type": "code",
   "execution_count": 4,
   "outputs": [],
   "source": [
    "import sqlite3"
   ],
   "metadata": {
    "pycharm": {
     "name": "#%%\n"
    },
    "id": "o4Iiy6EMpebi",
    "executionInfo": {
     "status": "ok",
     "timestamp": 1684326313087,
     "user_tz": -180,
     "elapsed": 5,
     "user": {
      "displayName": "Sergey Zavodun",
      "userId": "13975373041411226899"
     }
    }
   }
  },
  {
   "cell_type": "code",
   "execution_count": 5,
   "outputs": [],
   "source": [
    "con = sqlite3.connect('db')"
   ],
   "metadata": {
    "pycharm": {
     "name": "#%%\n"
    },
    "id": "rBe8jwNQpebi",
    "executionInfo": {
     "status": "ok",
     "timestamp": 1684326313087,
     "user_tz": -180,
     "elapsed": 5,
     "user": {
      "displayName": "Sergey Zavodun",
      "userId": "13975373041411226899"
     }
    }
   }
  },
  {
   "cell_type": "code",
   "execution_count": 6,
   "outputs": [
    {
     "data": {
      "text/plain": "3"
     },
     "execution_count": 6,
     "metadata": {},
     "output_type": "execute_result"
    }
   ],
   "source": [
    "df.to_sql('users', con, index=False, if_exists='replace')"
   ],
   "metadata": {
    "pycharm": {
     "name": "#%%\n"
    },
    "id": "0Wadsy0Lpebi",
    "outputId": "73d20e02-b796-47d2-8918-ce8205bfe2a4",
    "colab": {
     "base_uri": "https://localhost:8080/"
    },
    "executionInfo": {
     "status": "ok",
     "timestamp": 1684326313366,
     "user_tz": -180,
     "elapsed": 7,
     "user": {
      "displayName": "Sergey Zavodun",
      "userId": "13975373041411226899"
     }
    }
   }
  },
  {
   "cell_type": "code",
   "execution_count": 7,
   "outputs": [],
   "source": [
    "sql = '''select * from users t'''"
   ],
   "metadata": {
    "pycharm": {
     "name": "#%%\n"
    },
    "id": "3p7Iq8iZpebj",
    "executionInfo": {
     "status": "ok",
     "timestamp": 1684326313366,
     "user_tz": -180,
     "elapsed": 5,
     "user": {
      "displayName": "Sergey Zavodun",
      "userId": "13975373041411226899"
     }
    }
   }
  },
  {
   "cell_type": "code",
   "execution_count": 8,
   "outputs": [
    {
     "data": {
      "text/plain": "   coll  coll2\n0     1      4\n1     2      5\n2     3      6",
      "text/html": "<div>\n<style scoped>\n    .dataframe tbody tr th:only-of-type {\n        vertical-align: middle;\n    }\n\n    .dataframe tbody tr th {\n        vertical-align: top;\n    }\n\n    .dataframe thead th {\n        text-align: right;\n    }\n</style>\n<table border=\"1\" class=\"dataframe\">\n  <thead>\n    <tr style=\"text-align: right;\">\n      <th></th>\n      <th>coll</th>\n      <th>coll2</th>\n    </tr>\n  </thead>\n  <tbody>\n    <tr>\n      <th>0</th>\n      <td>1</td>\n      <td>4</td>\n    </tr>\n    <tr>\n      <th>1</th>\n      <td>2</td>\n      <td>5</td>\n    </tr>\n    <tr>\n      <th>2</th>\n      <td>3</td>\n      <td>6</td>\n    </tr>\n  </tbody>\n</table>\n</div>"
     },
     "execution_count": 8,
     "metadata": {},
     "output_type": "execute_result"
    }
   ],
   "source": [
    "pd.read_sql(sql, con)"
   ],
   "metadata": {
    "pycharm": {
     "name": "#%%\n"
    },
    "id": "nDAGjTXxpebj",
    "outputId": "ead1cb9f-8f64-4668-9d69-7e978766da45",
    "colab": {
     "base_uri": "https://localhost:8080/",
     "height": 143
    },
    "executionInfo": {
     "status": "ok",
     "timestamp": 1684326313366,
     "user_tz": -180,
     "elapsed": 5,
     "user": {
      "displayName": "Sergey Zavodun",
      "userId": "13975373041411226899"
     }
    }
   }
  },
  {
   "cell_type": "code",
   "source": [
    "def select(sql):\n",
    "    return pd.read_sql(sql, con)"
   ],
   "metadata": {
    "id": "-qY4iX9zrNFl",
    "executionInfo": {
     "status": "ok",
     "timestamp": 1684326424366,
     "user_tz": -180,
     "elapsed": 231,
     "user": {
      "displayName": "Sergey Zavodun",
      "userId": "13975373041411226899"
     }
    }
   },
   "execution_count": 9,
   "outputs": []
  },
  {
   "cell_type": "markdown",
   "source": [
    "### Скачиваем данные из google sheets"
   ],
   "metadata": {
    "id": "kzjHqVGYptdd"
   }
  },
  {
   "cell_type": "code",
   "source": [
    "import pandas as pd"
   ],
   "metadata": {
    "id": "M0e41EgWqjzG",
    "executionInfo": {
     "status": "ok",
     "timestamp": 1684326313367,
     "user_tz": -180,
     "elapsed": 5,
     "user": {
      "displayName": "Sergey Zavodun",
      "userId": "13975373041411226899"
     }
    }
   },
   "execution_count": 10,
   "outputs": []
  },
  {
   "cell_type": "markdown",
   "source": [
    "https://docs.google.com/spreadsheets/d/1tE1YXPdB5sMcTJl2iImeaWOojLLbkyTX_J7D51zOqyQ/edit?usp=sharing"
   ],
   "metadata": {
    "id": "bgpsFgi2pebk"
   }
  },
  {
   "cell_type": "code",
   "source": [
    "id = '1tE1YXPdB5sMcTJl2iImeaWOojLLbkyTX_J7D51zOqyQ'"
   ],
   "metadata": {
    "id": "tYS-gcdxpjQV",
    "executionInfo": {
     "status": "ok",
     "timestamp": 1684326313367,
     "user_tz": -180,
     "elapsed": 5,
     "user": {
      "displayName": "Sergey Zavodun",
      "userId": "13975373041411226899"
     }
    }
   },
   "execution_count": 11,
   "outputs": []
  },
  {
   "cell_type": "code",
   "source": [
    "df = pd.read_csv(f'https://docs.google.com/spreadsheets/d/{id}/export?format=csv')"
   ],
   "metadata": {
    "id": "p8R9ZKgIp8JG",
    "executionInfo": {
     "status": "ok",
     "timestamp": 1684326314317,
     "user_tz": -180,
     "elapsed": 955,
     "user": {
      "displayName": "Sergey Zavodun",
      "userId": "13975373041411226899"
     }
    }
   },
   "execution_count": 12,
   "outputs": []
  },
  {
   "cell_type": "code",
   "source": [
    "df"
   ],
   "metadata": {
    "colab": {
     "base_uri": "https://localhost:8080/",
     "height": 143
    },
    "id": "qB8KOBx3qfyO",
    "executionInfo": {
     "status": "ok",
     "timestamp": 1684326314317,
     "user_tz": -180,
     "elapsed": 8,
     "user": {
      "displayName": "Sergey Zavodun",
      "userId": "13975373041411226899"
     }
    },
    "outputId": "fabea370-6b63-4bdb-92bb-3c0e2fdf9d8f"
   },
   "execution_count": 13,
   "outputs": [
    {
     "data": {
      "text/plain": "   user_id name\n0        2    b\n1        3    c\n2        4    d",
      "text/html": "<div>\n<style scoped>\n    .dataframe tbody tr th:only-of-type {\n        vertical-align: middle;\n    }\n\n    .dataframe tbody tr th {\n        vertical-align: top;\n    }\n\n    .dataframe thead th {\n        text-align: right;\n    }\n</style>\n<table border=\"1\" class=\"dataframe\">\n  <thead>\n    <tr style=\"text-align: right;\">\n      <th></th>\n      <th>user_id</th>\n      <th>name</th>\n    </tr>\n  </thead>\n  <tbody>\n    <tr>\n      <th>0</th>\n      <td>2</td>\n      <td>b</td>\n    </tr>\n    <tr>\n      <th>1</th>\n      <td>3</td>\n      <td>c</td>\n    </tr>\n    <tr>\n      <th>2</th>\n      <td>4</td>\n      <td>d</td>\n    </tr>\n  </tbody>\n</table>\n</div>"
     },
     "execution_count": 13,
     "metadata": {},
     "output_type": "execute_result"
    }
   ]
  },
  {
   "cell_type": "code",
   "source": [
    "df.to_sql('users2', con)"
   ],
   "metadata": {
    "colab": {
     "base_uri": "https://localhost:8080/",
     "height": 311
    },
    "id": "7nRc2g7rqoat",
    "executionInfo": {
     "status": "error",
     "timestamp": 1684326457401,
     "user_tz": -180,
     "elapsed": 256,
     "user": {
      "displayName": "Sergey Zavodun",
      "userId": "13975373041411226899"
     }
    },
    "outputId": "922fe0a3-a426-45a1-9e89-e735442b46cc"
   },
   "execution_count": 14,
   "outputs": [
    {
     "data": {
      "text/plain": "3"
     },
     "execution_count": 14,
     "metadata": {},
     "output_type": "execute_result"
    }
   ]
  },
  {
   "cell_type": "code",
   "source": [
    "sql = '''select * from users2 t'''"
   ],
   "metadata": {
    "id": "kAFRzjLQq5MO",
    "executionInfo": {
     "status": "ok",
     "timestamp": 1684326348770,
     "user_tz": -180,
     "elapsed": 237,
     "user": {
      "displayName": "Sergey Zavodun",
      "userId": "13975373041411226899"
     }
    }
   },
   "execution_count": 15,
   "outputs": []
  },
  {
   "cell_type": "code",
   "source": [
    "select(sql)"
   ],
   "metadata": {
    "colab": {
     "base_uri": "https://localhost:8080/",
     "height": 143
    },
    "id": "LzvJ-4MVrHSe",
    "executionInfo": {
     "status": "ok",
     "timestamp": 1684326428083,
     "user_tz": -180,
     "elapsed": 362,
     "user": {
      "displayName": "Sergey Zavodun",
      "userId": "13975373041411226899"
     }
    },
    "outputId": "9fb5636f-682b-4b7f-b107-a5967966044c"
   },
   "execution_count": 16,
   "outputs": [
    {
     "data": {
      "text/plain": "   index  user_id name\n0      0        2    b\n1      1        3    c\n2      2        4    d",
      "text/html": "<div>\n<style scoped>\n    .dataframe tbody tr th:only-of-type {\n        vertical-align: middle;\n    }\n\n    .dataframe tbody tr th {\n        vertical-align: top;\n    }\n\n    .dataframe thead th {\n        text-align: right;\n    }\n</style>\n<table border=\"1\" class=\"dataframe\">\n  <thead>\n    <tr style=\"text-align: right;\">\n      <th></th>\n      <th>index</th>\n      <th>user_id</th>\n      <th>name</th>\n    </tr>\n  </thead>\n  <tbody>\n    <tr>\n      <th>0</th>\n      <td>0</td>\n      <td>2</td>\n      <td>b</td>\n    </tr>\n    <tr>\n      <th>1</th>\n      <td>1</td>\n      <td>3</td>\n      <td>c</td>\n    </tr>\n    <tr>\n      <th>2</th>\n      <td>2</td>\n      <td>4</td>\n      <td>d</td>\n    </tr>\n  </tbody>\n</table>\n</div>"
     },
     "execution_count": 16,
     "metadata": {},
     "output_type": "execute_result"
    }
   ]
  },
  {
   "cell_type": "code",
   "source": [],
   "metadata": {
    "id": "V5AdpGckrJZW"
   },
   "execution_count": 16,
   "outputs": []
  }
 ],
 "metadata": {
  "kernelspec": {
   "display_name": "Python 3",
   "language": "python",
   "name": "python3"
  },
  "language_info": {
   "codemirror_mode": {
    "name": "ipython",
    "version": 2
   },
   "file_extension": ".py",
   "mimetype": "text/x-python",
   "name": "python",
   "nbconvert_exporter": "python",
   "pygments_lexer": "ipython2",
   "version": "2.7.6"
  },
  "colab": {
   "provenance": []
  }
 },
 "nbformat": 4,
 "nbformat_minor": 0
}