{
 "cells": [
  {
   "cell_type": "markdown",
   "source": [
    "# Group by"
   ],
   "metadata": {
    "collapsed": false
   }
  },
  {
   "cell_type": "markdown",
   "source": [
    "##### Импорт библиотек"
   ],
   "metadata": {
    "collapsed": false
   }
  },
  {
   "cell_type": "code",
   "execution_count": 1,
   "outputs": [],
   "source": [
    "import pandas as pd\n",
    "import numpy as np\n",
    "import sqlite3"
   ],
   "metadata": {
    "collapsed": false,
    "pycharm": {
     "name": "#%%\n"
    }
   }
  },
  {
   "cell_type": "code",
   "execution_count": 2,
   "outputs": [
    {
     "data": {
      "text/plain": "'3.39.4'"
     },
     "execution_count": 2,
     "metadata": {},
     "output_type": "execute_result"
    }
   ],
   "source": [
    "sqlite3.sqlite_version"
   ],
   "metadata": {
    "collapsed": false,
    "pycharm": {
     "name": "#%%\n"
    }
   }
  },
  {
   "cell_type": "markdown",
   "source": [
    "##### Подключение к БД"
   ],
   "metadata": {
    "collapsed": false
   }
  },
  {
   "cell_type": "code",
   "execution_count": 3,
   "outputs": [],
   "source": [
    "con = sqlite3.connect('db')"
   ],
   "metadata": {
    "collapsed": false,
    "pycharm": {
     "name": "#%%\n"
    }
   }
  },
  {
   "cell_type": "markdown",
   "source": [
    "## Colab"
   ],
   "metadata": {
    "collapsed": false,
    "pycharm": {
     "name": "#%% md\n"
    }
   }
  },
  {
   "cell_type": "code",
   "execution_count": 5,
   "outputs": [
    {
     "name": "stderr",
     "output_type": "stream",
     "text": [
      "\"gdown\" ­Ґ пў«пҐвбп ў­гваҐ­­Ґ© Ё«Ё ў­Ґи­Ґ©\n",
      "Є®¬ ­¤®©, ЁбЇ®«­пҐ¬®© Їа®Ја ¬¬®© Ё«Ё Ї ЄҐв­л¬ д ©«®¬.\n"
     ]
    },
    {
     "ename": "FileNotFoundError",
     "evalue": "[Errno 2] No such file or directory: '/content/german_credit_augmented.csv'",
     "output_type": "error",
     "traceback": [
      "\u001B[1;31m---------------------------------------------------------------------------\u001B[0m",
      "\u001B[1;31mFileNotFoundError\u001B[0m                         Traceback (most recent call last)",
      "Cell \u001B[1;32mIn [5], line 3\u001B[0m\n\u001B[0;32m      1\u001B[0m get_ipython()\u001B[38;5;241m.\u001B[39msystem(\u001B[38;5;124m'\u001B[39m\u001B[38;5;124m gdown --id 1cUYNwlHjUZ6gZZMSFBdX0NCnvgRTprsQ\u001B[39m\u001B[38;5;124m'\u001B[39m)\n\u001B[1;32m----> 3\u001B[0m df \u001B[38;5;241m=\u001B[39m \u001B[43mpd\u001B[49m\u001B[38;5;241;43m.\u001B[39;49m\u001B[43mread_csv\u001B[49m\u001B[43m(\u001B[49m\u001B[38;5;124;43m'\u001B[39;49m\u001B[38;5;124;43m/content/german_credit_augmented.csv\u001B[39;49m\u001B[38;5;124;43m'\u001B[39;49m\u001B[43m)\u001B[49m\n",
      "File \u001B[1;32m~\\AppData\\Local\\Programs\\Python\\Python311\\Lib\\site-packages\\pandas\\util\\_decorators.py:211\u001B[0m, in \u001B[0;36mdeprecate_kwarg.<locals>._deprecate_kwarg.<locals>.wrapper\u001B[1;34m(*args, **kwargs)\u001B[0m\n\u001B[0;32m    209\u001B[0m     \u001B[38;5;28;01melse\u001B[39;00m:\n\u001B[0;32m    210\u001B[0m         kwargs[new_arg_name] \u001B[38;5;241m=\u001B[39m new_arg_value\n\u001B[1;32m--> 211\u001B[0m \u001B[38;5;28;01mreturn\u001B[39;00m \u001B[43mfunc\u001B[49m\u001B[43m(\u001B[49m\u001B[38;5;241;43m*\u001B[39;49m\u001B[43margs\u001B[49m\u001B[43m,\u001B[49m\u001B[43m \u001B[49m\u001B[38;5;241;43m*\u001B[39;49m\u001B[38;5;241;43m*\u001B[39;49m\u001B[43mkwargs\u001B[49m\u001B[43m)\u001B[49m\n",
      "File \u001B[1;32m~\\AppData\\Local\\Programs\\Python\\Python311\\Lib\\site-packages\\pandas\\util\\_decorators.py:331\u001B[0m, in \u001B[0;36mdeprecate_nonkeyword_arguments.<locals>.decorate.<locals>.wrapper\u001B[1;34m(*args, **kwargs)\u001B[0m\n\u001B[0;32m    325\u001B[0m \u001B[38;5;28;01mif\u001B[39;00m \u001B[38;5;28mlen\u001B[39m(args) \u001B[38;5;241m>\u001B[39m num_allow_args:\n\u001B[0;32m    326\u001B[0m     warnings\u001B[38;5;241m.\u001B[39mwarn(\n\u001B[0;32m    327\u001B[0m         msg\u001B[38;5;241m.\u001B[39mformat(arguments\u001B[38;5;241m=\u001B[39m_format_argument_list(allow_args)),\n\u001B[0;32m    328\u001B[0m         \u001B[38;5;167;01mFutureWarning\u001B[39;00m,\n\u001B[0;32m    329\u001B[0m         stacklevel\u001B[38;5;241m=\u001B[39mfind_stack_level(),\n\u001B[0;32m    330\u001B[0m     )\n\u001B[1;32m--> 331\u001B[0m \u001B[38;5;28;01mreturn\u001B[39;00m \u001B[43mfunc\u001B[49m\u001B[43m(\u001B[49m\u001B[38;5;241;43m*\u001B[39;49m\u001B[43margs\u001B[49m\u001B[43m,\u001B[49m\u001B[43m \u001B[49m\u001B[38;5;241;43m*\u001B[39;49m\u001B[38;5;241;43m*\u001B[39;49m\u001B[43mkwargs\u001B[49m\u001B[43m)\u001B[49m\n",
      "File \u001B[1;32m~\\AppData\\Local\\Programs\\Python\\Python311\\Lib\\site-packages\\pandas\\io\\parsers\\readers.py:950\u001B[0m, in \u001B[0;36mread_csv\u001B[1;34m(filepath_or_buffer, sep, delimiter, header, names, index_col, usecols, squeeze, prefix, mangle_dupe_cols, dtype, engine, converters, true_values, false_values, skipinitialspace, skiprows, skipfooter, nrows, na_values, keep_default_na, na_filter, verbose, skip_blank_lines, parse_dates, infer_datetime_format, keep_date_col, date_parser, dayfirst, cache_dates, iterator, chunksize, compression, thousands, decimal, lineterminator, quotechar, quoting, doublequote, escapechar, comment, encoding, encoding_errors, dialect, error_bad_lines, warn_bad_lines, on_bad_lines, delim_whitespace, low_memory, memory_map, float_precision, storage_options)\u001B[0m\n\u001B[0;32m    935\u001B[0m kwds_defaults \u001B[38;5;241m=\u001B[39m _refine_defaults_read(\n\u001B[0;32m    936\u001B[0m     dialect,\n\u001B[0;32m    937\u001B[0m     delimiter,\n\u001B[1;32m   (...)\u001B[0m\n\u001B[0;32m    946\u001B[0m     defaults\u001B[38;5;241m=\u001B[39m{\u001B[38;5;124m\"\u001B[39m\u001B[38;5;124mdelimiter\u001B[39m\u001B[38;5;124m\"\u001B[39m: \u001B[38;5;124m\"\u001B[39m\u001B[38;5;124m,\u001B[39m\u001B[38;5;124m\"\u001B[39m},\n\u001B[0;32m    947\u001B[0m )\n\u001B[0;32m    948\u001B[0m kwds\u001B[38;5;241m.\u001B[39mupdate(kwds_defaults)\n\u001B[1;32m--> 950\u001B[0m \u001B[38;5;28;01mreturn\u001B[39;00m \u001B[43m_read\u001B[49m\u001B[43m(\u001B[49m\u001B[43mfilepath_or_buffer\u001B[49m\u001B[43m,\u001B[49m\u001B[43m \u001B[49m\u001B[43mkwds\u001B[49m\u001B[43m)\u001B[49m\n",
      "File \u001B[1;32m~\\AppData\\Local\\Programs\\Python\\Python311\\Lib\\site-packages\\pandas\\io\\parsers\\readers.py:605\u001B[0m, in \u001B[0;36m_read\u001B[1;34m(filepath_or_buffer, kwds)\u001B[0m\n\u001B[0;32m    602\u001B[0m _validate_names(kwds\u001B[38;5;241m.\u001B[39mget(\u001B[38;5;124m\"\u001B[39m\u001B[38;5;124mnames\u001B[39m\u001B[38;5;124m\"\u001B[39m, \u001B[38;5;28;01mNone\u001B[39;00m))\n\u001B[0;32m    604\u001B[0m \u001B[38;5;66;03m# Create the parser.\u001B[39;00m\n\u001B[1;32m--> 605\u001B[0m parser \u001B[38;5;241m=\u001B[39m \u001B[43mTextFileReader\u001B[49m\u001B[43m(\u001B[49m\u001B[43mfilepath_or_buffer\u001B[49m\u001B[43m,\u001B[49m\u001B[43m \u001B[49m\u001B[38;5;241;43m*\u001B[39;49m\u001B[38;5;241;43m*\u001B[39;49m\u001B[43mkwds\u001B[49m\u001B[43m)\u001B[49m\n\u001B[0;32m    607\u001B[0m \u001B[38;5;28;01mif\u001B[39;00m chunksize \u001B[38;5;129;01mor\u001B[39;00m iterator:\n\u001B[0;32m    608\u001B[0m     \u001B[38;5;28;01mreturn\u001B[39;00m parser\n",
      "File \u001B[1;32m~\\AppData\\Local\\Programs\\Python\\Python311\\Lib\\site-packages\\pandas\\io\\parsers\\readers.py:1442\u001B[0m, in \u001B[0;36mTextFileReader.__init__\u001B[1;34m(self, f, engine, **kwds)\u001B[0m\n\u001B[0;32m   1439\u001B[0m     \u001B[38;5;28mself\u001B[39m\u001B[38;5;241m.\u001B[39moptions[\u001B[38;5;124m\"\u001B[39m\u001B[38;5;124mhas_index_names\u001B[39m\u001B[38;5;124m\"\u001B[39m] \u001B[38;5;241m=\u001B[39m kwds[\u001B[38;5;124m\"\u001B[39m\u001B[38;5;124mhas_index_names\u001B[39m\u001B[38;5;124m\"\u001B[39m]\n\u001B[0;32m   1441\u001B[0m \u001B[38;5;28mself\u001B[39m\u001B[38;5;241m.\u001B[39mhandles: IOHandles \u001B[38;5;241m|\u001B[39m \u001B[38;5;28;01mNone\u001B[39;00m \u001B[38;5;241m=\u001B[39m \u001B[38;5;28;01mNone\u001B[39;00m\n\u001B[1;32m-> 1442\u001B[0m \u001B[38;5;28mself\u001B[39m\u001B[38;5;241m.\u001B[39m_engine \u001B[38;5;241m=\u001B[39m \u001B[38;5;28;43mself\u001B[39;49m\u001B[38;5;241;43m.\u001B[39;49m\u001B[43m_make_engine\u001B[49m\u001B[43m(\u001B[49m\u001B[43mf\u001B[49m\u001B[43m,\u001B[49m\u001B[43m \u001B[49m\u001B[38;5;28;43mself\u001B[39;49m\u001B[38;5;241;43m.\u001B[39;49m\u001B[43mengine\u001B[49m\u001B[43m)\u001B[49m\n",
      "File \u001B[1;32m~\\AppData\\Local\\Programs\\Python\\Python311\\Lib\\site-packages\\pandas\\io\\parsers\\readers.py:1735\u001B[0m, in \u001B[0;36mTextFileReader._make_engine\u001B[1;34m(self, f, engine)\u001B[0m\n\u001B[0;32m   1733\u001B[0m     \u001B[38;5;28;01mif\u001B[39;00m \u001B[38;5;124m\"\u001B[39m\u001B[38;5;124mb\u001B[39m\u001B[38;5;124m\"\u001B[39m \u001B[38;5;129;01mnot\u001B[39;00m \u001B[38;5;129;01min\u001B[39;00m mode:\n\u001B[0;32m   1734\u001B[0m         mode \u001B[38;5;241m+\u001B[39m\u001B[38;5;241m=\u001B[39m \u001B[38;5;124m\"\u001B[39m\u001B[38;5;124mb\u001B[39m\u001B[38;5;124m\"\u001B[39m\n\u001B[1;32m-> 1735\u001B[0m \u001B[38;5;28mself\u001B[39m\u001B[38;5;241m.\u001B[39mhandles \u001B[38;5;241m=\u001B[39m \u001B[43mget_handle\u001B[49m\u001B[43m(\u001B[49m\n\u001B[0;32m   1736\u001B[0m \u001B[43m    \u001B[49m\u001B[43mf\u001B[49m\u001B[43m,\u001B[49m\n\u001B[0;32m   1737\u001B[0m \u001B[43m    \u001B[49m\u001B[43mmode\u001B[49m\u001B[43m,\u001B[49m\n\u001B[0;32m   1738\u001B[0m \u001B[43m    \u001B[49m\u001B[43mencoding\u001B[49m\u001B[38;5;241;43m=\u001B[39;49m\u001B[38;5;28;43mself\u001B[39;49m\u001B[38;5;241;43m.\u001B[39;49m\u001B[43moptions\u001B[49m\u001B[38;5;241;43m.\u001B[39;49m\u001B[43mget\u001B[49m\u001B[43m(\u001B[49m\u001B[38;5;124;43m\"\u001B[39;49m\u001B[38;5;124;43mencoding\u001B[39;49m\u001B[38;5;124;43m\"\u001B[39;49m\u001B[43m,\u001B[49m\u001B[43m \u001B[49m\u001B[38;5;28;43;01mNone\u001B[39;49;00m\u001B[43m)\u001B[49m\u001B[43m,\u001B[49m\n\u001B[0;32m   1739\u001B[0m \u001B[43m    \u001B[49m\u001B[43mcompression\u001B[49m\u001B[38;5;241;43m=\u001B[39;49m\u001B[38;5;28;43mself\u001B[39;49m\u001B[38;5;241;43m.\u001B[39;49m\u001B[43moptions\u001B[49m\u001B[38;5;241;43m.\u001B[39;49m\u001B[43mget\u001B[49m\u001B[43m(\u001B[49m\u001B[38;5;124;43m\"\u001B[39;49m\u001B[38;5;124;43mcompression\u001B[39;49m\u001B[38;5;124;43m\"\u001B[39;49m\u001B[43m,\u001B[49m\u001B[43m \u001B[49m\u001B[38;5;28;43;01mNone\u001B[39;49;00m\u001B[43m)\u001B[49m\u001B[43m,\u001B[49m\n\u001B[0;32m   1740\u001B[0m \u001B[43m    \u001B[49m\u001B[43mmemory_map\u001B[49m\u001B[38;5;241;43m=\u001B[39;49m\u001B[38;5;28;43mself\u001B[39;49m\u001B[38;5;241;43m.\u001B[39;49m\u001B[43moptions\u001B[49m\u001B[38;5;241;43m.\u001B[39;49m\u001B[43mget\u001B[49m\u001B[43m(\u001B[49m\u001B[38;5;124;43m\"\u001B[39;49m\u001B[38;5;124;43mmemory_map\u001B[39;49m\u001B[38;5;124;43m\"\u001B[39;49m\u001B[43m,\u001B[49m\u001B[43m \u001B[49m\u001B[38;5;28;43;01mFalse\u001B[39;49;00m\u001B[43m)\u001B[49m\u001B[43m,\u001B[49m\n\u001B[0;32m   1741\u001B[0m \u001B[43m    \u001B[49m\u001B[43mis_text\u001B[49m\u001B[38;5;241;43m=\u001B[39;49m\u001B[43mis_text\u001B[49m\u001B[43m,\u001B[49m\n\u001B[0;32m   1742\u001B[0m \u001B[43m    \u001B[49m\u001B[43merrors\u001B[49m\u001B[38;5;241;43m=\u001B[39;49m\u001B[38;5;28;43mself\u001B[39;49m\u001B[38;5;241;43m.\u001B[39;49m\u001B[43moptions\u001B[49m\u001B[38;5;241;43m.\u001B[39;49m\u001B[43mget\u001B[49m\u001B[43m(\u001B[49m\u001B[38;5;124;43m\"\u001B[39;49m\u001B[38;5;124;43mencoding_errors\u001B[39;49m\u001B[38;5;124;43m\"\u001B[39;49m\u001B[43m,\u001B[49m\u001B[43m \u001B[49m\u001B[38;5;124;43m\"\u001B[39;49m\u001B[38;5;124;43mstrict\u001B[39;49m\u001B[38;5;124;43m\"\u001B[39;49m\u001B[43m)\u001B[49m\u001B[43m,\u001B[49m\n\u001B[0;32m   1743\u001B[0m \u001B[43m    \u001B[49m\u001B[43mstorage_options\u001B[49m\u001B[38;5;241;43m=\u001B[39;49m\u001B[38;5;28;43mself\u001B[39;49m\u001B[38;5;241;43m.\u001B[39;49m\u001B[43moptions\u001B[49m\u001B[38;5;241;43m.\u001B[39;49m\u001B[43mget\u001B[49m\u001B[43m(\u001B[49m\u001B[38;5;124;43m\"\u001B[39;49m\u001B[38;5;124;43mstorage_options\u001B[39;49m\u001B[38;5;124;43m\"\u001B[39;49m\u001B[43m,\u001B[49m\u001B[43m \u001B[49m\u001B[38;5;28;43;01mNone\u001B[39;49;00m\u001B[43m)\u001B[49m\u001B[43m,\u001B[49m\n\u001B[0;32m   1744\u001B[0m \u001B[43m\u001B[49m\u001B[43m)\u001B[49m\n\u001B[0;32m   1745\u001B[0m \u001B[38;5;28;01massert\u001B[39;00m \u001B[38;5;28mself\u001B[39m\u001B[38;5;241m.\u001B[39mhandles \u001B[38;5;129;01mis\u001B[39;00m \u001B[38;5;129;01mnot\u001B[39;00m \u001B[38;5;28;01mNone\u001B[39;00m\n\u001B[0;32m   1746\u001B[0m f \u001B[38;5;241m=\u001B[39m \u001B[38;5;28mself\u001B[39m\u001B[38;5;241m.\u001B[39mhandles\u001B[38;5;241m.\u001B[39mhandle\n",
      "File \u001B[1;32m~\\AppData\\Local\\Programs\\Python\\Python311\\Lib\\site-packages\\pandas\\io\\common.py:856\u001B[0m, in \u001B[0;36mget_handle\u001B[1;34m(path_or_buf, mode, encoding, compression, memory_map, is_text, errors, storage_options)\u001B[0m\n\u001B[0;32m    851\u001B[0m \u001B[38;5;28;01melif\u001B[39;00m \u001B[38;5;28misinstance\u001B[39m(handle, \u001B[38;5;28mstr\u001B[39m):\n\u001B[0;32m    852\u001B[0m     \u001B[38;5;66;03m# Check whether the filename is to be opened in binary mode.\u001B[39;00m\n\u001B[0;32m    853\u001B[0m     \u001B[38;5;66;03m# Binary mode does not support 'encoding' and 'newline'.\u001B[39;00m\n\u001B[0;32m    854\u001B[0m     \u001B[38;5;28;01mif\u001B[39;00m ioargs\u001B[38;5;241m.\u001B[39mencoding \u001B[38;5;129;01mand\u001B[39;00m \u001B[38;5;124m\"\u001B[39m\u001B[38;5;124mb\u001B[39m\u001B[38;5;124m\"\u001B[39m \u001B[38;5;129;01mnot\u001B[39;00m \u001B[38;5;129;01min\u001B[39;00m ioargs\u001B[38;5;241m.\u001B[39mmode:\n\u001B[0;32m    855\u001B[0m         \u001B[38;5;66;03m# Encoding\u001B[39;00m\n\u001B[1;32m--> 856\u001B[0m         handle \u001B[38;5;241m=\u001B[39m \u001B[38;5;28;43mopen\u001B[39;49m\u001B[43m(\u001B[49m\n\u001B[0;32m    857\u001B[0m \u001B[43m            \u001B[49m\u001B[43mhandle\u001B[49m\u001B[43m,\u001B[49m\n\u001B[0;32m    858\u001B[0m \u001B[43m            \u001B[49m\u001B[43mioargs\u001B[49m\u001B[38;5;241;43m.\u001B[39;49m\u001B[43mmode\u001B[49m\u001B[43m,\u001B[49m\n\u001B[0;32m    859\u001B[0m \u001B[43m            \u001B[49m\u001B[43mencoding\u001B[49m\u001B[38;5;241;43m=\u001B[39;49m\u001B[43mioargs\u001B[49m\u001B[38;5;241;43m.\u001B[39;49m\u001B[43mencoding\u001B[49m\u001B[43m,\u001B[49m\n\u001B[0;32m    860\u001B[0m \u001B[43m            \u001B[49m\u001B[43merrors\u001B[49m\u001B[38;5;241;43m=\u001B[39;49m\u001B[43merrors\u001B[49m\u001B[43m,\u001B[49m\n\u001B[0;32m    861\u001B[0m \u001B[43m            \u001B[49m\u001B[43mnewline\u001B[49m\u001B[38;5;241;43m=\u001B[39;49m\u001B[38;5;124;43m\"\u001B[39;49m\u001B[38;5;124;43m\"\u001B[39;49m\u001B[43m,\u001B[49m\n\u001B[0;32m    862\u001B[0m \u001B[43m        \u001B[49m\u001B[43m)\u001B[49m\n\u001B[0;32m    863\u001B[0m     \u001B[38;5;28;01melse\u001B[39;00m:\n\u001B[0;32m    864\u001B[0m         \u001B[38;5;66;03m# Binary mode\u001B[39;00m\n\u001B[0;32m    865\u001B[0m         handle \u001B[38;5;241m=\u001B[39m \u001B[38;5;28mopen\u001B[39m(handle, ioargs\u001B[38;5;241m.\u001B[39mmode)\n",
      "\u001B[1;31mFileNotFoundError\u001B[0m: [Errno 2] No such file or directory: '/content/german_credit_augmented.csv'"
     ]
    }
   ],
   "source": [
    "! gdown --id 1cUYNwlHjUZ6gZZMSFBdX0NCnvgRTprsQ\n",
    "\n",
    "df = pd.read_csv('/content/german_credit_augmented.csv')"
   ],
   "metadata": {
    "collapsed": false,
    "pycharm": {
     "name": "#%%\n"
    }
   }
  },
  {
   "cell_type": "markdown",
   "source": [
    "## Pycharm"
   ],
   "metadata": {
    "collapsed": false
   }
  },
  {
   "cell_type": "code",
   "execution_count": 4,
   "outputs": [],
   "source": [
    "df = pd.read_csv(\n",
    "    r'C:\\PyCharm\\Python\\SQL_for_data_analysis\\2.DB_connect_and_upload\\sql-course-main\\german_credit_augmented.csv')"
   ],
   "metadata": {
    "collapsed": false,
    "pycharm": {
     "name": "#%%\n"
    }
   }
  },
  {
   "cell_type": "code",
   "execution_count": 5,
   "outputs": [
    {
     "data": {
      "text/plain": "     age     sex  job housing saving_accounts checking_account  credit_amount  \\\n0     33    male    2     own             NaN              NaN           3074   \n1     43    male    1     own          little           little           1344   \n2     52    male    2     own      quite rich              NaN            936   \n3     35  female    3     own          little              NaN           1393   \n4     28    male    2     own          little              NaN            776   \n..   ...     ...  ...     ...             ...              ...            ...   \n995   65    male    2    free          little           little           2600   \n996   30    male    3     own          little         moderate           4455   \n997   33    male    2     own          little         moderate           6403   \n998   29  female    2     own             NaN              NaN           5003   \n999   44    male    2     own        moderate         moderate           1804   \n\n     duration    purpose  default          contract_dt  client_id  \n0           9   radio/TV        0  2008-06-29 18:52:00        210  \n1          12        car        0  2007-05-20 18:30:19        929  \n2           9  education        0  2008-04-27 08:23:07        200  \n3          11        car        0  2007-05-06 10:58:22         45  \n4          12   radio/TV        0  2007-07-21 13:22:14        358  \n..        ...        ...      ...                  ...        ...  \n995        18   radio/TV        1  2007-12-16 20:17:19        624  \n996        36   business        1  2007-07-12 14:08:58        181  \n997        24   radio/TV        0  2008-04-08 03:24:26        730  \n998        21        car        1  2007-11-29 15:51:45        557  \n999        12        car        0  2007-08-14 09:05:33         23  \n\n[1000 rows x 12 columns]",
      "text/html": "<div>\n<style scoped>\n    .dataframe tbody tr th:only-of-type {\n        vertical-align: middle;\n    }\n\n    .dataframe tbody tr th {\n        vertical-align: top;\n    }\n\n    .dataframe thead th {\n        text-align: right;\n    }\n</style>\n<table border=\"1\" class=\"dataframe\">\n  <thead>\n    <tr style=\"text-align: right;\">\n      <th></th>\n      <th>age</th>\n      <th>sex</th>\n      <th>job</th>\n      <th>housing</th>\n      <th>saving_accounts</th>\n      <th>checking_account</th>\n      <th>credit_amount</th>\n      <th>duration</th>\n      <th>purpose</th>\n      <th>default</th>\n      <th>contract_dt</th>\n      <th>client_id</th>\n    </tr>\n  </thead>\n  <tbody>\n    <tr>\n      <th>0</th>\n      <td>33</td>\n      <td>male</td>\n      <td>2</td>\n      <td>own</td>\n      <td>NaN</td>\n      <td>NaN</td>\n      <td>3074</td>\n      <td>9</td>\n      <td>radio/TV</td>\n      <td>0</td>\n      <td>2008-06-29 18:52:00</td>\n      <td>210</td>\n    </tr>\n    <tr>\n      <th>1</th>\n      <td>43</td>\n      <td>male</td>\n      <td>1</td>\n      <td>own</td>\n      <td>little</td>\n      <td>little</td>\n      <td>1344</td>\n      <td>12</td>\n      <td>car</td>\n      <td>0</td>\n      <td>2007-05-20 18:30:19</td>\n      <td>929</td>\n    </tr>\n    <tr>\n      <th>2</th>\n      <td>52</td>\n      <td>male</td>\n      <td>2</td>\n      <td>own</td>\n      <td>quite rich</td>\n      <td>NaN</td>\n      <td>936</td>\n      <td>9</td>\n      <td>education</td>\n      <td>0</td>\n      <td>2008-04-27 08:23:07</td>\n      <td>200</td>\n    </tr>\n    <tr>\n      <th>3</th>\n      <td>35</td>\n      <td>female</td>\n      <td>3</td>\n      <td>own</td>\n      <td>little</td>\n      <td>NaN</td>\n      <td>1393</td>\n      <td>11</td>\n      <td>car</td>\n      <td>0</td>\n      <td>2007-05-06 10:58:22</td>\n      <td>45</td>\n    </tr>\n    <tr>\n      <th>4</th>\n      <td>28</td>\n      <td>male</td>\n      <td>2</td>\n      <td>own</td>\n      <td>little</td>\n      <td>NaN</td>\n      <td>776</td>\n      <td>12</td>\n      <td>radio/TV</td>\n      <td>0</td>\n      <td>2007-07-21 13:22:14</td>\n      <td>358</td>\n    </tr>\n    <tr>\n      <th>...</th>\n      <td>...</td>\n      <td>...</td>\n      <td>...</td>\n      <td>...</td>\n      <td>...</td>\n      <td>...</td>\n      <td>...</td>\n      <td>...</td>\n      <td>...</td>\n      <td>...</td>\n      <td>...</td>\n      <td>...</td>\n    </tr>\n    <tr>\n      <th>995</th>\n      <td>65</td>\n      <td>male</td>\n      <td>2</td>\n      <td>free</td>\n      <td>little</td>\n      <td>little</td>\n      <td>2600</td>\n      <td>18</td>\n      <td>radio/TV</td>\n      <td>1</td>\n      <td>2007-12-16 20:17:19</td>\n      <td>624</td>\n    </tr>\n    <tr>\n      <th>996</th>\n      <td>30</td>\n      <td>male</td>\n      <td>3</td>\n      <td>own</td>\n      <td>little</td>\n      <td>moderate</td>\n      <td>4455</td>\n      <td>36</td>\n      <td>business</td>\n      <td>1</td>\n      <td>2007-07-12 14:08:58</td>\n      <td>181</td>\n    </tr>\n    <tr>\n      <th>997</th>\n      <td>33</td>\n      <td>male</td>\n      <td>2</td>\n      <td>own</td>\n      <td>little</td>\n      <td>moderate</td>\n      <td>6403</td>\n      <td>24</td>\n      <td>radio/TV</td>\n      <td>0</td>\n      <td>2008-04-08 03:24:26</td>\n      <td>730</td>\n    </tr>\n    <tr>\n      <th>998</th>\n      <td>29</td>\n      <td>female</td>\n      <td>2</td>\n      <td>own</td>\n      <td>NaN</td>\n      <td>NaN</td>\n      <td>5003</td>\n      <td>21</td>\n      <td>car</td>\n      <td>1</td>\n      <td>2007-11-29 15:51:45</td>\n      <td>557</td>\n    </tr>\n    <tr>\n      <th>999</th>\n      <td>44</td>\n      <td>male</td>\n      <td>2</td>\n      <td>own</td>\n      <td>moderate</td>\n      <td>moderate</td>\n      <td>1804</td>\n      <td>12</td>\n      <td>car</td>\n      <td>0</td>\n      <td>2007-08-14 09:05:33</td>\n      <td>23</td>\n    </tr>\n  </tbody>\n</table>\n<p>1000 rows × 12 columns</p>\n</div>"
     },
     "execution_count": 5,
     "metadata": {},
     "output_type": "execute_result"
    }
   ],
   "source": [
    "df"
   ],
   "metadata": {
    "collapsed": false,
    "pycharm": {
     "name": "#%%\n"
    }
   }
  },
  {
   "cell_type": "code",
   "execution_count": 6,
   "outputs": [
    {
     "data": {
      "text/plain": "age                  int64\nsex                 object\njob                  int64\nhousing             object\nsaving_accounts     object\nchecking_account    object\ncredit_amount        int64\nduration             int64\npurpose             object\ndefault              int64\ncontract_dt         object\nclient_id            int64\ndtype: object"
     },
     "execution_count": 6,
     "metadata": {},
     "output_type": "execute_result"
    }
   ],
   "source": [
    "df.dtypes"
   ],
   "metadata": {
    "collapsed": false,
    "pycharm": {
     "name": "#%%\n"
    }
   }
  },
  {
   "cell_type": "code",
   "execution_count": 7,
   "outputs": [],
   "source": [
    "df.contract_dt = pd.to_datetime(df.contract_dt, format='%Y-%m-%d %H:%M:%S')"
   ],
   "metadata": {
    "collapsed": false,
    "pycharm": {
     "name": "#%%\n"
    }
   }
  },
  {
   "cell_type": "code",
   "execution_count": 8,
   "outputs": [
    {
     "data": {
      "text/plain": "age                          int64\nsex                         object\njob                          int64\nhousing                     object\nsaving_accounts             object\nchecking_account            object\ncredit_amount                int64\nduration                     int64\npurpose                     object\ndefault                      int64\ncontract_dt         datetime64[ns]\nclient_id                    int64\ndtype: object"
     },
     "execution_count": 8,
     "metadata": {},
     "output_type": "execute_result"
    }
   ],
   "source": [
    "df.dtypes"
   ],
   "metadata": {
    "collapsed": false,
    "pycharm": {
     "name": "#%%\n"
    }
   }
  },
  {
   "cell_type": "code",
   "execution_count": 9,
   "outputs": [
    {
     "data": {
      "text/plain": "1000"
     },
     "execution_count": 9,
     "metadata": {},
     "output_type": "execute_result"
    }
   ],
   "source": [
    "df.to_sql('german_credit', con, index=False, if_exists='replace')"
   ],
   "metadata": {
    "collapsed": false,
    "pycharm": {
     "name": "#%%\n"
    }
   }
  },
  {
   "cell_type": "markdown",
   "source": [
    "## Select"
   ],
   "metadata": {
    "collapsed": false,
    "pycharm": {
     "name": "#%% md\n"
    }
   }
  },
  {
   "cell_type": "code",
   "execution_count": 10,
   "outputs": [],
   "source": [
    "def select(sql):\n",
    "    return pd.read_sql(sql, con)"
   ],
   "metadata": {
    "collapsed": false,
    "pycharm": {
     "name": "#%%\n"
    }
   }
  },
  {
   "cell_type": "code",
   "execution_count": 11,
   "outputs": [],
   "source": [
    "sql = '''select * from german_credit t'''"
   ],
   "metadata": {
    "collapsed": false,
    "pycharm": {
     "name": "#%%\n"
    }
   }
  },
  {
   "cell_type": "code",
   "execution_count": 12,
   "outputs": [
    {
     "data": {
      "text/plain": "     age     sex  job housing saving_accounts checking_account  credit_amount  \\\n0     33    male    2     own            None             None           3074   \n1     43    male    1     own          little           little           1344   \n2     52    male    2     own      quite rich             None            936   \n3     35  female    3     own          little             None           1393   \n4     28    male    2     own          little             None            776   \n..   ...     ...  ...     ...             ...              ...            ...   \n995   65    male    2    free          little           little           2600   \n996   30    male    3     own          little         moderate           4455   \n997   33    male    2     own          little         moderate           6403   \n998   29  female    2     own            None             None           5003   \n999   44    male    2     own        moderate         moderate           1804   \n\n     duration    purpose  default          contract_dt  client_id  \n0           9   radio/TV        0  2008-06-29 18:52:00        210  \n1          12        car        0  2007-05-20 18:30:19        929  \n2           9  education        0  2008-04-27 08:23:07        200  \n3          11        car        0  2007-05-06 10:58:22         45  \n4          12   radio/TV        0  2007-07-21 13:22:14        358  \n..        ...        ...      ...                  ...        ...  \n995        18   radio/TV        1  2007-12-16 20:17:19        624  \n996        36   business        1  2007-07-12 14:08:58        181  \n997        24   radio/TV        0  2008-04-08 03:24:26        730  \n998        21        car        1  2007-11-29 15:51:45        557  \n999        12        car        0  2007-08-14 09:05:33         23  \n\n[1000 rows x 12 columns]",
      "text/html": "<div>\n<style scoped>\n    .dataframe tbody tr th:only-of-type {\n        vertical-align: middle;\n    }\n\n    .dataframe tbody tr th {\n        vertical-align: top;\n    }\n\n    .dataframe thead th {\n        text-align: right;\n    }\n</style>\n<table border=\"1\" class=\"dataframe\">\n  <thead>\n    <tr style=\"text-align: right;\">\n      <th></th>\n      <th>age</th>\n      <th>sex</th>\n      <th>job</th>\n      <th>housing</th>\n      <th>saving_accounts</th>\n      <th>checking_account</th>\n      <th>credit_amount</th>\n      <th>duration</th>\n      <th>purpose</th>\n      <th>default</th>\n      <th>contract_dt</th>\n      <th>client_id</th>\n    </tr>\n  </thead>\n  <tbody>\n    <tr>\n      <th>0</th>\n      <td>33</td>\n      <td>male</td>\n      <td>2</td>\n      <td>own</td>\n      <td>None</td>\n      <td>None</td>\n      <td>3074</td>\n      <td>9</td>\n      <td>radio/TV</td>\n      <td>0</td>\n      <td>2008-06-29 18:52:00</td>\n      <td>210</td>\n    </tr>\n    <tr>\n      <th>1</th>\n      <td>43</td>\n      <td>male</td>\n      <td>1</td>\n      <td>own</td>\n      <td>little</td>\n      <td>little</td>\n      <td>1344</td>\n      <td>12</td>\n      <td>car</td>\n      <td>0</td>\n      <td>2007-05-20 18:30:19</td>\n      <td>929</td>\n    </tr>\n    <tr>\n      <th>2</th>\n      <td>52</td>\n      <td>male</td>\n      <td>2</td>\n      <td>own</td>\n      <td>quite rich</td>\n      <td>None</td>\n      <td>936</td>\n      <td>9</td>\n      <td>education</td>\n      <td>0</td>\n      <td>2008-04-27 08:23:07</td>\n      <td>200</td>\n    </tr>\n    <tr>\n      <th>3</th>\n      <td>35</td>\n      <td>female</td>\n      <td>3</td>\n      <td>own</td>\n      <td>little</td>\n      <td>None</td>\n      <td>1393</td>\n      <td>11</td>\n      <td>car</td>\n      <td>0</td>\n      <td>2007-05-06 10:58:22</td>\n      <td>45</td>\n    </tr>\n    <tr>\n      <th>4</th>\n      <td>28</td>\n      <td>male</td>\n      <td>2</td>\n      <td>own</td>\n      <td>little</td>\n      <td>None</td>\n      <td>776</td>\n      <td>12</td>\n      <td>radio/TV</td>\n      <td>0</td>\n      <td>2007-07-21 13:22:14</td>\n      <td>358</td>\n    </tr>\n    <tr>\n      <th>...</th>\n      <td>...</td>\n      <td>...</td>\n      <td>...</td>\n      <td>...</td>\n      <td>...</td>\n      <td>...</td>\n      <td>...</td>\n      <td>...</td>\n      <td>...</td>\n      <td>...</td>\n      <td>...</td>\n      <td>...</td>\n    </tr>\n    <tr>\n      <th>995</th>\n      <td>65</td>\n      <td>male</td>\n      <td>2</td>\n      <td>free</td>\n      <td>little</td>\n      <td>little</td>\n      <td>2600</td>\n      <td>18</td>\n      <td>radio/TV</td>\n      <td>1</td>\n      <td>2007-12-16 20:17:19</td>\n      <td>624</td>\n    </tr>\n    <tr>\n      <th>996</th>\n      <td>30</td>\n      <td>male</td>\n      <td>3</td>\n      <td>own</td>\n      <td>little</td>\n      <td>moderate</td>\n      <td>4455</td>\n      <td>36</td>\n      <td>business</td>\n      <td>1</td>\n      <td>2007-07-12 14:08:58</td>\n      <td>181</td>\n    </tr>\n    <tr>\n      <th>997</th>\n      <td>33</td>\n      <td>male</td>\n      <td>2</td>\n      <td>own</td>\n      <td>little</td>\n      <td>moderate</td>\n      <td>6403</td>\n      <td>24</td>\n      <td>radio/TV</td>\n      <td>0</td>\n      <td>2008-04-08 03:24:26</td>\n      <td>730</td>\n    </tr>\n    <tr>\n      <th>998</th>\n      <td>29</td>\n      <td>female</td>\n      <td>2</td>\n      <td>own</td>\n      <td>None</td>\n      <td>None</td>\n      <td>5003</td>\n      <td>21</td>\n      <td>car</td>\n      <td>1</td>\n      <td>2007-11-29 15:51:45</td>\n      <td>557</td>\n    </tr>\n    <tr>\n      <th>999</th>\n      <td>44</td>\n      <td>male</td>\n      <td>2</td>\n      <td>own</td>\n      <td>moderate</td>\n      <td>moderate</td>\n      <td>1804</td>\n      <td>12</td>\n      <td>car</td>\n      <td>0</td>\n      <td>2007-08-14 09:05:33</td>\n      <td>23</td>\n    </tr>\n  </tbody>\n</table>\n<p>1000 rows × 12 columns</p>\n</div>"
     },
     "execution_count": 12,
     "metadata": {},
     "output_type": "execute_result"
    }
   ],
   "source": [
    "select(sql)"
   ],
   "metadata": {
    "collapsed": false,
    "pycharm": {
     "name": "#%%\n"
    }
   }
  },
  {
   "cell_type": "markdown",
   "source": [
    "## Group by"
   ],
   "metadata": {
    "collapsed": false,
    "pycharm": {
     "name": "#%% md\n"
    }
   }
  },
  {
   "cell_type": "code",
   "execution_count": 13,
   "outputs": [],
   "source": [
    "sql = '''SELECT t.sex,\n",
    "count(*),\n",
    "avg(t.credit_amount) AS credit_amount_avg\n",
    "\n",
    "FROM german_credit t\n",
    "GROUP BY sex'''"
   ],
   "metadata": {
    "collapsed": false,
    "pycharm": {
     "name": "#%%\n"
    }
   }
  },
  {
   "cell_type": "code",
   "execution_count": 14,
   "outputs": [
    {
     "data": {
      "text/plain": "      sex  count(*)  credit_amount_avg\n0  female       310        2877.774194\n1    male       690        3448.040580",
      "text/html": "<div>\n<style scoped>\n    .dataframe tbody tr th:only-of-type {\n        vertical-align: middle;\n    }\n\n    .dataframe tbody tr th {\n        vertical-align: top;\n    }\n\n    .dataframe thead th {\n        text-align: right;\n    }\n</style>\n<table border=\"1\" class=\"dataframe\">\n  <thead>\n    <tr style=\"text-align: right;\">\n      <th></th>\n      <th>sex</th>\n      <th>count(*)</th>\n      <th>credit_amount_avg</th>\n    </tr>\n  </thead>\n  <tbody>\n    <tr>\n      <th>0</th>\n      <td>female</td>\n      <td>310</td>\n      <td>2877.774194</td>\n    </tr>\n    <tr>\n      <th>1</th>\n      <td>male</td>\n      <td>690</td>\n      <td>3448.040580</td>\n    </tr>\n  </tbody>\n</table>\n</div>"
     },
     "execution_count": 14,
     "metadata": {},
     "output_type": "execute_result"
    }
   ],
   "source": [
    "select(sql)"
   ],
   "metadata": {
    "collapsed": false,
    "pycharm": {
     "name": "#%%\n"
    }
   }
  },
  {
   "cell_type": "markdown",
   "source": [
    "То же самое но в pandas"
   ],
   "metadata": {
    "collapsed": false,
    "pycharm": {
     "name": "#%% md\n"
    }
   }
  },
  {
   "cell_type": "code",
   "execution_count": 15,
   "outputs": [
    {
     "data": {
      "text/plain": "        count         mean\nsex                       \nfemale    310  2877.774194\nmale      690  3448.040580",
      "text/html": "<div>\n<style scoped>\n    .dataframe tbody tr th:only-of-type {\n        vertical-align: middle;\n    }\n\n    .dataframe tbody tr th {\n        vertical-align: top;\n    }\n\n    .dataframe thead th {\n        text-align: right;\n    }\n</style>\n<table border=\"1\" class=\"dataframe\">\n  <thead>\n    <tr style=\"text-align: right;\">\n      <th></th>\n      <th>count</th>\n      <th>mean</th>\n    </tr>\n    <tr>\n      <th>sex</th>\n      <th></th>\n      <th></th>\n    </tr>\n  </thead>\n  <tbody>\n    <tr>\n      <th>female</th>\n      <td>310</td>\n      <td>2877.774194</td>\n    </tr>\n    <tr>\n      <th>male</th>\n      <td>690</td>\n      <td>3448.040580</td>\n    </tr>\n  </tbody>\n</table>\n</div>"
     },
     "execution_count": 15,
     "metadata": {},
     "output_type": "execute_result"
    }
   ],
   "source": [
    "df.groupby('sex').credit_amount.agg(['count', 'mean'])"
   ],
   "metadata": {
    "collapsed": false,
    "pycharm": {
     "name": "#%%\n"
    }
   }
  },
  {
   "cell_type": "markdown",
   "source": [
    "#### Подсчёт уникальных значений"
   ],
   "metadata": {
    "collapsed": false,
    "pycharm": {
     "name": "#%% md\n"
    }
   }
  },
  {
   "cell_type": "code",
   "execution_count": 16,
   "outputs": [],
   "source": [
    "sql = '''select distinct t.housing from german_credit t'''"
   ],
   "metadata": {
    "collapsed": false,
    "pycharm": {
     "name": "#%%\n"
    }
   }
  },
  {
   "cell_type": "code",
   "execution_count": 17,
   "outputs": [
    {
     "data": {
      "text/plain": "  housing\n0     own\n1    rent\n2    free",
      "text/html": "<div>\n<style scoped>\n    .dataframe tbody tr th:only-of-type {\n        vertical-align: middle;\n    }\n\n    .dataframe tbody tr th {\n        vertical-align: top;\n    }\n\n    .dataframe thead th {\n        text-align: right;\n    }\n</style>\n<table border=\"1\" class=\"dataframe\">\n  <thead>\n    <tr style=\"text-align: right;\">\n      <th></th>\n      <th>housing</th>\n    </tr>\n  </thead>\n  <tbody>\n    <tr>\n      <th>0</th>\n      <td>own</td>\n    </tr>\n    <tr>\n      <th>1</th>\n      <td>rent</td>\n    </tr>\n    <tr>\n      <th>2</th>\n      <td>free</td>\n    </tr>\n  </tbody>\n</table>\n</div>"
     },
     "execution_count": 17,
     "metadata": {},
     "output_type": "execute_result"
    }
   ],
   "source": [
    "select(sql)"
   ],
   "metadata": {
    "collapsed": false,
    "pycharm": {
     "name": "#%%\n"
    }
   }
  },
  {
   "cell_type": "code",
   "execution_count": 18,
   "outputs": [],
   "source": [
    "sql = '''SELECT t.housing,\n",
    "count(*),\n",
    "avg(t.credit_amount) AS credit_amount_avg\n",
    "\n",
    "FROM german_credit t\n",
    "GROUP BY t.housing'''"
   ],
   "metadata": {
    "collapsed": false,
    "pycharm": {
     "name": "#%%\n"
    }
   }
  },
  {
   "cell_type": "code",
   "execution_count": 19,
   "outputs": [
    {
     "data": {
      "text/plain": "  housing  count(*)  credit_amount_avg\n0    free       108        4906.212963\n1     own       713        3060.939691\n2    rent       179        3122.553073",
      "text/html": "<div>\n<style scoped>\n    .dataframe tbody tr th:only-of-type {\n        vertical-align: middle;\n    }\n\n    .dataframe tbody tr th {\n        vertical-align: top;\n    }\n\n    .dataframe thead th {\n        text-align: right;\n    }\n</style>\n<table border=\"1\" class=\"dataframe\">\n  <thead>\n    <tr style=\"text-align: right;\">\n      <th></th>\n      <th>housing</th>\n      <th>count(*)</th>\n      <th>credit_amount_avg</th>\n    </tr>\n  </thead>\n  <tbody>\n    <tr>\n      <th>0</th>\n      <td>free</td>\n      <td>108</td>\n      <td>4906.212963</td>\n    </tr>\n    <tr>\n      <th>1</th>\n      <td>own</td>\n      <td>713</td>\n      <td>3060.939691</td>\n    </tr>\n    <tr>\n      <th>2</th>\n      <td>rent</td>\n      <td>179</td>\n      <td>3122.553073</td>\n    </tr>\n  </tbody>\n</table>\n</div>"
     },
     "execution_count": 19,
     "metadata": {},
     "output_type": "execute_result"
    }
   ],
   "source": [
    "select(sql)"
   ],
   "metadata": {
    "collapsed": false,
    "pycharm": {
     "name": "#%%\n"
    }
   }
  },
  {
   "cell_type": "code",
   "execution_count": 20,
   "outputs": [],
   "source": [
    "sql = '''select * from german_credit t'''"
   ],
   "metadata": {
    "collapsed": false,
    "pycharm": {
     "name": "#%%\n"
    }
   }
  },
  {
   "cell_type": "code",
   "execution_count": 21,
   "outputs": [
    {
     "data": {
      "text/plain": "     age     sex  job housing saving_accounts checking_account  credit_amount  \\\n0     33    male    2     own            None             None           3074   \n1     43    male    1     own          little           little           1344   \n2     52    male    2     own      quite rich             None            936   \n3     35  female    3     own          little             None           1393   \n4     28    male    2     own          little             None            776   \n..   ...     ...  ...     ...             ...              ...            ...   \n995   65    male    2    free          little           little           2600   \n996   30    male    3     own          little         moderate           4455   \n997   33    male    2     own          little         moderate           6403   \n998   29  female    2     own            None             None           5003   \n999   44    male    2     own        moderate         moderate           1804   \n\n     duration    purpose  default          contract_dt  client_id  \n0           9   radio/TV        0  2008-06-29 18:52:00        210  \n1          12        car        0  2007-05-20 18:30:19        929  \n2           9  education        0  2008-04-27 08:23:07        200  \n3          11        car        0  2007-05-06 10:58:22         45  \n4          12   radio/TV        0  2007-07-21 13:22:14        358  \n..        ...        ...      ...                  ...        ...  \n995        18   radio/TV        1  2007-12-16 20:17:19        624  \n996        36   business        1  2007-07-12 14:08:58        181  \n997        24   radio/TV        0  2008-04-08 03:24:26        730  \n998        21        car        1  2007-11-29 15:51:45        557  \n999        12        car        0  2007-08-14 09:05:33         23  \n\n[1000 rows x 12 columns]",
      "text/html": "<div>\n<style scoped>\n    .dataframe tbody tr th:only-of-type {\n        vertical-align: middle;\n    }\n\n    .dataframe tbody tr th {\n        vertical-align: top;\n    }\n\n    .dataframe thead th {\n        text-align: right;\n    }\n</style>\n<table border=\"1\" class=\"dataframe\">\n  <thead>\n    <tr style=\"text-align: right;\">\n      <th></th>\n      <th>age</th>\n      <th>sex</th>\n      <th>job</th>\n      <th>housing</th>\n      <th>saving_accounts</th>\n      <th>checking_account</th>\n      <th>credit_amount</th>\n      <th>duration</th>\n      <th>purpose</th>\n      <th>default</th>\n      <th>contract_dt</th>\n      <th>client_id</th>\n    </tr>\n  </thead>\n  <tbody>\n    <tr>\n      <th>0</th>\n      <td>33</td>\n      <td>male</td>\n      <td>2</td>\n      <td>own</td>\n      <td>None</td>\n      <td>None</td>\n      <td>3074</td>\n      <td>9</td>\n      <td>radio/TV</td>\n      <td>0</td>\n      <td>2008-06-29 18:52:00</td>\n      <td>210</td>\n    </tr>\n    <tr>\n      <th>1</th>\n      <td>43</td>\n      <td>male</td>\n      <td>1</td>\n      <td>own</td>\n      <td>little</td>\n      <td>little</td>\n      <td>1344</td>\n      <td>12</td>\n      <td>car</td>\n      <td>0</td>\n      <td>2007-05-20 18:30:19</td>\n      <td>929</td>\n    </tr>\n    <tr>\n      <th>2</th>\n      <td>52</td>\n      <td>male</td>\n      <td>2</td>\n      <td>own</td>\n      <td>quite rich</td>\n      <td>None</td>\n      <td>936</td>\n      <td>9</td>\n      <td>education</td>\n      <td>0</td>\n      <td>2008-04-27 08:23:07</td>\n      <td>200</td>\n    </tr>\n    <tr>\n      <th>3</th>\n      <td>35</td>\n      <td>female</td>\n      <td>3</td>\n      <td>own</td>\n      <td>little</td>\n      <td>None</td>\n      <td>1393</td>\n      <td>11</td>\n      <td>car</td>\n      <td>0</td>\n      <td>2007-05-06 10:58:22</td>\n      <td>45</td>\n    </tr>\n    <tr>\n      <th>4</th>\n      <td>28</td>\n      <td>male</td>\n      <td>2</td>\n      <td>own</td>\n      <td>little</td>\n      <td>None</td>\n      <td>776</td>\n      <td>12</td>\n      <td>radio/TV</td>\n      <td>0</td>\n      <td>2007-07-21 13:22:14</td>\n      <td>358</td>\n    </tr>\n    <tr>\n      <th>...</th>\n      <td>...</td>\n      <td>...</td>\n      <td>...</td>\n      <td>...</td>\n      <td>...</td>\n      <td>...</td>\n      <td>...</td>\n      <td>...</td>\n      <td>...</td>\n      <td>...</td>\n      <td>...</td>\n      <td>...</td>\n    </tr>\n    <tr>\n      <th>995</th>\n      <td>65</td>\n      <td>male</td>\n      <td>2</td>\n      <td>free</td>\n      <td>little</td>\n      <td>little</td>\n      <td>2600</td>\n      <td>18</td>\n      <td>radio/TV</td>\n      <td>1</td>\n      <td>2007-12-16 20:17:19</td>\n      <td>624</td>\n    </tr>\n    <tr>\n      <th>996</th>\n      <td>30</td>\n      <td>male</td>\n      <td>3</td>\n      <td>own</td>\n      <td>little</td>\n      <td>moderate</td>\n      <td>4455</td>\n      <td>36</td>\n      <td>business</td>\n      <td>1</td>\n      <td>2007-07-12 14:08:58</td>\n      <td>181</td>\n    </tr>\n    <tr>\n      <th>997</th>\n      <td>33</td>\n      <td>male</td>\n      <td>2</td>\n      <td>own</td>\n      <td>little</td>\n      <td>moderate</td>\n      <td>6403</td>\n      <td>24</td>\n      <td>radio/TV</td>\n      <td>0</td>\n      <td>2008-04-08 03:24:26</td>\n      <td>730</td>\n    </tr>\n    <tr>\n      <th>998</th>\n      <td>29</td>\n      <td>female</td>\n      <td>2</td>\n      <td>own</td>\n      <td>None</td>\n      <td>None</td>\n      <td>5003</td>\n      <td>21</td>\n      <td>car</td>\n      <td>1</td>\n      <td>2007-11-29 15:51:45</td>\n      <td>557</td>\n    </tr>\n    <tr>\n      <th>999</th>\n      <td>44</td>\n      <td>male</td>\n      <td>2</td>\n      <td>own</td>\n      <td>moderate</td>\n      <td>moderate</td>\n      <td>1804</td>\n      <td>12</td>\n      <td>car</td>\n      <td>0</td>\n      <td>2007-08-14 09:05:33</td>\n      <td>23</td>\n    </tr>\n  </tbody>\n</table>\n<p>1000 rows × 12 columns</p>\n</div>"
     },
     "execution_count": 21,
     "metadata": {},
     "output_type": "execute_result"
    }
   ],
   "source": [
    "select(sql)"
   ],
   "metadata": {
    "collapsed": false,
    "pycharm": {
     "name": "#%%\n"
    }
   }
  },
  {
   "cell_type": "markdown",
   "source": [
    "Посмотрим ещё один столбец, например checking account"
   ],
   "metadata": {
    "collapsed": false,
    "pycharm": {
     "name": "#%% md\n"
    }
   }
  },
  {
   "cell_type": "code",
   "execution_count": 22,
   "outputs": [],
   "source": [
    "sql = '''select t.checking_account from german_credit t'''"
   ],
   "metadata": {
    "collapsed": false,
    "pycharm": {
     "name": "#%%\n"
    }
   }
  },
  {
   "cell_type": "code",
   "execution_count": 23,
   "outputs": [
    {
     "data": {
      "text/plain": "    checking_account\n0               None\n1             little\n2               None\n3               None\n4               None\n..               ...\n995           little\n996         moderate\n997         moderate\n998             None\n999         moderate\n\n[1000 rows x 1 columns]",
      "text/html": "<div>\n<style scoped>\n    .dataframe tbody tr th:only-of-type {\n        vertical-align: middle;\n    }\n\n    .dataframe tbody tr th {\n        vertical-align: top;\n    }\n\n    .dataframe thead th {\n        text-align: right;\n    }\n</style>\n<table border=\"1\" class=\"dataframe\">\n  <thead>\n    <tr style=\"text-align: right;\">\n      <th></th>\n      <th>checking_account</th>\n    </tr>\n  </thead>\n  <tbody>\n    <tr>\n      <th>0</th>\n      <td>None</td>\n    </tr>\n    <tr>\n      <th>1</th>\n      <td>little</td>\n    </tr>\n    <tr>\n      <th>2</th>\n      <td>None</td>\n    </tr>\n    <tr>\n      <th>3</th>\n      <td>None</td>\n    </tr>\n    <tr>\n      <th>4</th>\n      <td>None</td>\n    </tr>\n    <tr>\n      <th>...</th>\n      <td>...</td>\n    </tr>\n    <tr>\n      <th>995</th>\n      <td>little</td>\n    </tr>\n    <tr>\n      <th>996</th>\n      <td>moderate</td>\n    </tr>\n    <tr>\n      <th>997</th>\n      <td>moderate</td>\n    </tr>\n    <tr>\n      <th>998</th>\n      <td>None</td>\n    </tr>\n    <tr>\n      <th>999</th>\n      <td>moderate</td>\n    </tr>\n  </tbody>\n</table>\n<p>1000 rows × 1 columns</p>\n</div>"
     },
     "execution_count": 23,
     "metadata": {},
     "output_type": "execute_result"
    }
   ],
   "source": [
    "select(sql)"
   ],
   "metadata": {
    "collapsed": false,
    "pycharm": {
     "name": "#%%\n"
    }
   }
  },
  {
   "cell_type": "markdown",
   "source": [
    "Проверка на пропуски\n",
    "Количество введённых данных и количество строк всего"
   ],
   "metadata": {
    "collapsed": false,
    "pycharm": {
     "name": "#%% md\n"
    }
   }
  },
  {
   "cell_type": "code",
   "execution_count": 24,
   "outputs": [],
   "source": [
    "sql = '''select count(t.checking_account), count(*) from german_credit t'''"
   ],
   "metadata": {
    "collapsed": false,
    "pycharm": {
     "name": "#%%\n"
    }
   }
  },
  {
   "cell_type": "code",
   "execution_count": 25,
   "outputs": [
    {
     "data": {
      "text/plain": "   count(t.checking_account)  count(*)\n0                        606      1000",
      "text/html": "<div>\n<style scoped>\n    .dataframe tbody tr th:only-of-type {\n        vertical-align: middle;\n    }\n\n    .dataframe tbody tr th {\n        vertical-align: top;\n    }\n\n    .dataframe thead th {\n        text-align: right;\n    }\n</style>\n<table border=\"1\" class=\"dataframe\">\n  <thead>\n    <tr style=\"text-align: right;\">\n      <th></th>\n      <th>count(t.checking_account)</th>\n      <th>count(*)</th>\n    </tr>\n  </thead>\n  <tbody>\n    <tr>\n      <th>0</th>\n      <td>606</td>\n      <td>1000</td>\n    </tr>\n  </tbody>\n</table>\n</div>"
     },
     "execution_count": 25,
     "metadata": {},
     "output_type": "execute_result"
    }
   ],
   "source": [
    "select(sql)"
   ],
   "metadata": {
    "collapsed": false,
    "pycharm": {
     "name": "#%%\n"
    }
   }
  },
  {
   "cell_type": "markdown",
   "source": [
    "Добавим чекинг аккаунт в сводник"
   ],
   "metadata": {
    "collapsed": false,
    "pycharm": {
     "name": "#%% md\n"
    }
   }
  },
  {
   "cell_type": "code",
   "execution_count": 26,
   "outputs": [],
   "source": [
    "sql = '''SELECT t.checking_account,\n",
    "count(*),\n",
    "avg(t.credit_amount) AS credit_amount_avg\n",
    "\n",
    "FROM german_credit t\n",
    "GROUP BY t.checking_account'''"
   ],
   "metadata": {
    "collapsed": false,
    "pycharm": {
     "name": "#%%\n"
    }
   }
  },
  {
   "cell_type": "code",
   "execution_count": 27,
   "outputs": [
    {
     "data": {
      "text/plain": "  checking_account  count(*)  credit_amount_avg\n0             None       394        3133.101523\n1           little       274        3175.218978\n2         moderate       269        3827.561338\n3             rich        63        2177.650794",
      "text/html": "<div>\n<style scoped>\n    .dataframe tbody tr th:only-of-type {\n        vertical-align: middle;\n    }\n\n    .dataframe tbody tr th {\n        vertical-align: top;\n    }\n\n    .dataframe thead th {\n        text-align: right;\n    }\n</style>\n<table border=\"1\" class=\"dataframe\">\n  <thead>\n    <tr style=\"text-align: right;\">\n      <th></th>\n      <th>checking_account</th>\n      <th>count(*)</th>\n      <th>credit_amount_avg</th>\n    </tr>\n  </thead>\n  <tbody>\n    <tr>\n      <th>0</th>\n      <td>None</td>\n      <td>394</td>\n      <td>3133.101523</td>\n    </tr>\n    <tr>\n      <th>1</th>\n      <td>little</td>\n      <td>274</td>\n      <td>3175.218978</td>\n    </tr>\n    <tr>\n      <th>2</th>\n      <td>moderate</td>\n      <td>269</td>\n      <td>3827.561338</td>\n    </tr>\n    <tr>\n      <th>3</th>\n      <td>rich</td>\n      <td>63</td>\n      <td>2177.650794</td>\n    </tr>\n  </tbody>\n</table>\n</div>"
     },
     "execution_count": 27,
     "metadata": {},
     "output_type": "execute_result"
    }
   ],
   "source": [
    "select(sql)"
   ],
   "metadata": {
    "collapsed": false,
    "pycharm": {
     "name": "#%%\n"
    }
   }
  },
  {
   "cell_type": "markdown",
   "source": [
    "SQL УЧИТЫВАЕТ пропуски по умолчанию\n",
    "Pandas НЕ УЧИТЫВАЕТ пропуски по умолчанию"
   ],
   "metadata": {
    "collapsed": false,
    "pycharm": {
     "name": "#%% md\n"
    }
   }
  },
  {
   "cell_type": "code",
   "execution_count": 28,
   "outputs": [
    {
     "data": {
      "text/plain": "checking_account\nlittle      274\nmoderate    269\nrich         63\nName: credit_amount, dtype: int64"
     },
     "execution_count": 28,
     "metadata": {},
     "output_type": "execute_result"
    }
   ],
   "source": [
    "df.groupby('checking_account').credit_amount.count()"
   ],
   "metadata": {
    "collapsed": false,
    "pycharm": {
     "name": "#%%\n"
    }
   }
  },
  {
   "cell_type": "code",
   "execution_count": 29,
   "outputs": [
    {
     "data": {
      "text/plain": "606"
     },
     "execution_count": 29,
     "metadata": {},
     "output_type": "execute_result"
    }
   ],
   "source": [
    "df.groupby('checking_account').credit_amount.count().sum()"
   ],
   "metadata": {
    "collapsed": false,
    "pycharm": {
     "name": "#%%\n"
    }
   }
  },
  {
   "cell_type": "markdown",
   "source": [
    "Для учёта пропусков в Pandas нужно прописывать dropna=False"
   ],
   "metadata": {
    "collapsed": false,
    "pycharm": {
     "name": "#%% md\n"
    }
   }
  },
  {
   "cell_type": "code",
   "execution_count": 30,
   "outputs": [
    {
     "data": {
      "text/plain": "checking_account\nlittle      274\nmoderate    269\nrich         63\nNaN         394\nName: credit_amount, dtype: int64"
     },
     "execution_count": 30,
     "metadata": {},
     "output_type": "execute_result"
    }
   ],
   "source": [
    "df.groupby('checking_account', dropna=False).credit_amount.count()"
   ],
   "metadata": {
    "collapsed": false,
    "pycharm": {
     "name": "#%%\n"
    }
   }
  },
  {
   "cell_type": "markdown",
   "source": [
    "Посмотрим количество пропусков, а не количество заполненых значений\n",
    "Сначала добавим поле если есть пропуск\n",
    "Затем проссумируем строки"
   ],
   "metadata": {
    "collapsed": false,
    "pycharm": {
     "name": "#%% md\n"
    }
   }
  },
  {
   "cell_type": "code",
   "execution_count": 31,
   "outputs": [],
   "source": [
    "sql = '''select t.checking_account,\n",
    "case when t.checking_account is null then 1 else 0 end\n",
    "\n",
    "from german_credit t'''"
   ],
   "metadata": {
    "collapsed": false,
    "pycharm": {
     "name": "#%%\n"
    }
   }
  },
  {
   "cell_type": "code",
   "execution_count": 32,
   "outputs": [
    {
     "data": {
      "text/plain": "    checking_account  case when t.checking_account is null then 1 else 0 end\n0               None                                                  1     \n1             little                                                  0     \n2               None                                                  1     \n3               None                                                  1     \n4               None                                                  1     \n..               ...                                                ...     \n995           little                                                  0     \n996         moderate                                                  0     \n997         moderate                                                  0     \n998             None                                                  1     \n999         moderate                                                  0     \n\n[1000 rows x 2 columns]",
      "text/html": "<div>\n<style scoped>\n    .dataframe tbody tr th:only-of-type {\n        vertical-align: middle;\n    }\n\n    .dataframe tbody tr th {\n        vertical-align: top;\n    }\n\n    .dataframe thead th {\n        text-align: right;\n    }\n</style>\n<table border=\"1\" class=\"dataframe\">\n  <thead>\n    <tr style=\"text-align: right;\">\n      <th></th>\n      <th>checking_account</th>\n      <th>case when t.checking_account is null then 1 else 0 end</th>\n    </tr>\n  </thead>\n  <tbody>\n    <tr>\n      <th>0</th>\n      <td>None</td>\n      <td>1</td>\n    </tr>\n    <tr>\n      <th>1</th>\n      <td>little</td>\n      <td>0</td>\n    </tr>\n    <tr>\n      <th>2</th>\n      <td>None</td>\n      <td>1</td>\n    </tr>\n    <tr>\n      <th>3</th>\n      <td>None</td>\n      <td>1</td>\n    </tr>\n    <tr>\n      <th>4</th>\n      <td>None</td>\n      <td>1</td>\n    </tr>\n    <tr>\n      <th>...</th>\n      <td>...</td>\n      <td>...</td>\n    </tr>\n    <tr>\n      <th>995</th>\n      <td>little</td>\n      <td>0</td>\n    </tr>\n    <tr>\n      <th>996</th>\n      <td>moderate</td>\n      <td>0</td>\n    </tr>\n    <tr>\n      <th>997</th>\n      <td>moderate</td>\n      <td>0</td>\n    </tr>\n    <tr>\n      <th>998</th>\n      <td>None</td>\n      <td>1</td>\n    </tr>\n    <tr>\n      <th>999</th>\n      <td>moderate</td>\n      <td>0</td>\n    </tr>\n  </tbody>\n</table>\n<p>1000 rows × 2 columns</p>\n</div>"
     },
     "execution_count": 32,
     "metadata": {},
     "output_type": "execute_result"
    }
   ],
   "source": [
    "select(sql)"
   ],
   "metadata": {
    "collapsed": false,
    "pycharm": {
     "name": "#%%\n"
    }
   }
  },
  {
   "cell_type": "markdown",
   "source": [
    "Подсчёт пропусков через sum и через count"
   ],
   "metadata": {
    "collapsed": false,
    "pycharm": {
     "name": "#%% md\n"
    }
   }
  },
  {
   "cell_type": "code",
   "execution_count": 33,
   "outputs": [],
   "source": [
    "sql = '''select\n",
    "sum(case when t.checking_account is null then 1 else 0 end) as is_null,\n",
    "count(case when t.checking_account is null then 1 else null end) as is_null2\n",
    "from german_credit t'''"
   ],
   "metadata": {
    "collapsed": false,
    "pycharm": {
     "name": "#%%\n"
    }
   }
  },
  {
   "cell_type": "code",
   "execution_count": 34,
   "outputs": [
    {
     "data": {
      "text/plain": "   is_null  is_null2\n0      394       394",
      "text/html": "<div>\n<style scoped>\n    .dataframe tbody tr th:only-of-type {\n        vertical-align: middle;\n    }\n\n    .dataframe tbody tr th {\n        vertical-align: top;\n    }\n\n    .dataframe thead th {\n        text-align: right;\n    }\n</style>\n<table border=\"1\" class=\"dataframe\">\n  <thead>\n    <tr style=\"text-align: right;\">\n      <th></th>\n      <th>is_null</th>\n      <th>is_null2</th>\n    </tr>\n  </thead>\n  <tbody>\n    <tr>\n      <th>0</th>\n      <td>394</td>\n      <td>394</td>\n    </tr>\n  </tbody>\n</table>\n</div>"
     },
     "execution_count": 34,
     "metadata": {},
     "output_type": "execute_result"
    }
   ],
   "source": [
    "select(sql)"
   ],
   "metadata": {
    "collapsed": false,
    "pycharm": {
     "name": "#%%\n"
    }
   }
  },
  {
   "cell_type": "markdown",
   "source": [
    " Создадим искусственную таблицу для тренировки"
   ],
   "metadata": {
    "collapsed": false,
    "pycharm": {
     "name": "#%% md\n"
    }
   }
  },
  {
   "cell_type": "code",
   "execution_count": 35,
   "outputs": [],
   "source": [
    "t = pd.DataFrame({'col1': [1, np.nan, 2]})"
   ],
   "metadata": {
    "collapsed": false,
    "pycharm": {
     "name": "#%%\n"
    }
   }
  },
  {
   "cell_type": "code",
   "execution_count": 36,
   "outputs": [
    {
     "data": {
      "text/plain": "   col1\n0   1.0\n1   NaN\n2   2.0",
      "text/html": "<div>\n<style scoped>\n    .dataframe tbody tr th:only-of-type {\n        vertical-align: middle;\n    }\n\n    .dataframe tbody tr th {\n        vertical-align: top;\n    }\n\n    .dataframe thead th {\n        text-align: right;\n    }\n</style>\n<table border=\"1\" class=\"dataframe\">\n  <thead>\n    <tr style=\"text-align: right;\">\n      <th></th>\n      <th>col1</th>\n    </tr>\n  </thead>\n  <tbody>\n    <tr>\n      <th>0</th>\n      <td>1.0</td>\n    </tr>\n    <tr>\n      <th>1</th>\n      <td>NaN</td>\n    </tr>\n    <tr>\n      <th>2</th>\n      <td>2.0</td>\n    </tr>\n  </tbody>\n</table>\n</div>"
     },
     "execution_count": 36,
     "metadata": {},
     "output_type": "execute_result"
    }
   ],
   "source": [
    "t"
   ],
   "metadata": {
    "collapsed": false,
    "pycharm": {
     "name": "#%%\n"
    }
   }
  },
  {
   "cell_type": "code",
   "execution_count": 37,
   "outputs": [
    {
     "data": {
      "text/plain": "3"
     },
     "execution_count": 37,
     "metadata": {},
     "output_type": "execute_result"
    }
   ],
   "source": [
    "t.to_sql('null_test', con, index=False, if_exists='replace')"
   ],
   "metadata": {
    "collapsed": false,
    "pycharm": {
     "name": "#%%\n"
    }
   }
  },
  {
   "cell_type": "code",
   "execution_count": 38,
   "outputs": [],
   "source": [
    "sql = '''select * from null_test t '''"
   ],
   "metadata": {
    "collapsed": false,
    "pycharm": {
     "name": "#%%\n"
    }
   }
  },
  {
   "cell_type": "code",
   "execution_count": 39,
   "outputs": [
    {
     "data": {
      "text/plain": "   col1\n0   1.0\n1   NaN\n2   2.0",
      "text/html": "<div>\n<style scoped>\n    .dataframe tbody tr th:only-of-type {\n        vertical-align: middle;\n    }\n\n    .dataframe tbody tr th {\n        vertical-align: top;\n    }\n\n    .dataframe thead th {\n        text-align: right;\n    }\n</style>\n<table border=\"1\" class=\"dataframe\">\n  <thead>\n    <tr style=\"text-align: right;\">\n      <th></th>\n      <th>col1</th>\n    </tr>\n  </thead>\n  <tbody>\n    <tr>\n      <th>0</th>\n      <td>1.0</td>\n    </tr>\n    <tr>\n      <th>1</th>\n      <td>NaN</td>\n    </tr>\n    <tr>\n      <th>2</th>\n      <td>2.0</td>\n    </tr>\n  </tbody>\n</table>\n</div>"
     },
     "execution_count": 39,
     "metadata": {},
     "output_type": "execute_result"
    }
   ],
   "source": [
    "select(sql)"
   ],
   "metadata": {
    "collapsed": false,
    "pycharm": {
     "name": "#%%\n"
    }
   }
  },
  {
   "cell_type": "markdown",
   "source": [
    "Показывает 2 значения, пропуск игнорирует"
   ],
   "metadata": {
    "collapsed": false,
    "pycharm": {
     "name": "#%% md\n"
    }
   }
  },
  {
   "cell_type": "code",
   "execution_count": 40,
   "outputs": [],
   "source": [
    "sql = '''select count(t.col1) from null_test t'''"
   ],
   "metadata": {
    "collapsed": false,
    "pycharm": {
     "name": "#%%\n"
    }
   }
  },
  {
   "cell_type": "code",
   "execution_count": 41,
   "outputs": [
    {
     "data": {
      "text/plain": "   count(t.col1)\n0              2",
      "text/html": "<div>\n<style scoped>\n    .dataframe tbody tr th:only-of-type {\n        vertical-align: middle;\n    }\n\n    .dataframe tbody tr th {\n        vertical-align: top;\n    }\n\n    .dataframe thead th {\n        text-align: right;\n    }\n</style>\n<table border=\"1\" class=\"dataframe\">\n  <thead>\n    <tr style=\"text-align: right;\">\n      <th></th>\n      <th>count(t.col1)</th>\n    </tr>\n  </thead>\n  <tbody>\n    <tr>\n      <th>0</th>\n      <td>2</td>\n    </tr>\n  </tbody>\n</table>\n</div>"
     },
     "execution_count": 41,
     "metadata": {},
     "output_type": "execute_result"
    }
   ],
   "source": [
    "select(sql)"
   ],
   "metadata": {
    "collapsed": false,
    "pycharm": {
     "name": "#%%\n"
    }
   }
  },
  {
   "cell_type": "markdown",
   "source": [
    "В сумме также игнорирует пропуск"
   ],
   "metadata": {
    "collapsed": false,
    "pycharm": {
     "name": "#%% md\n"
    }
   }
  },
  {
   "cell_type": "code",
   "execution_count": 42,
   "outputs": [],
   "source": [
    "sql = '''select sum(t.col1) from null_test t'''"
   ],
   "metadata": {
    "collapsed": false,
    "pycharm": {
     "name": "#%%\n"
    }
   }
  },
  {
   "cell_type": "code",
   "execution_count": 43,
   "outputs": [
    {
     "data": {
      "text/plain": "   sum(t.col1)\n0          3.0",
      "text/html": "<div>\n<style scoped>\n    .dataframe tbody tr th:only-of-type {\n        vertical-align: middle;\n    }\n\n    .dataframe tbody tr th {\n        vertical-align: top;\n    }\n\n    .dataframe thead th {\n        text-align: right;\n    }\n</style>\n<table border=\"1\" class=\"dataframe\">\n  <thead>\n    <tr style=\"text-align: right;\">\n      <th></th>\n      <th>sum(t.col1)</th>\n    </tr>\n  </thead>\n  <tbody>\n    <tr>\n      <th>0</th>\n      <td>3.0</td>\n    </tr>\n  </tbody>\n</table>\n</div>"
     },
     "execution_count": 43,
     "metadata": {},
     "output_type": "execute_result"
    }
   ],
   "source": [
    "select(sql)"
   ],
   "metadata": {
    "collapsed": false,
    "pycharm": {
     "name": "#%%\n"
    }
   }
  },
  {
   "cell_type": "markdown",
   "source": [
    "В среднем так же игнорирует пропуск"
   ],
   "metadata": {
    "collapsed": false,
    "pycharm": {
     "name": "#%% md\n"
    }
   }
  },
  {
   "cell_type": "code",
   "execution_count": 44,
   "outputs": [],
   "source": [
    "sql = '''select avg(t.col1) from null_test t'''"
   ],
   "metadata": {
    "collapsed": false,
    "pycharm": {
     "name": "#%%\n"
    }
   }
  },
  {
   "cell_type": "code",
   "execution_count": 45,
   "outputs": [
    {
     "data": {
      "text/plain": "   avg(t.col1)\n0          1.5",
      "text/html": "<div>\n<style scoped>\n    .dataframe tbody tr th:only-of-type {\n        vertical-align: middle;\n    }\n\n    .dataframe tbody tr th {\n        vertical-align: top;\n    }\n\n    .dataframe thead th {\n        text-align: right;\n    }\n</style>\n<table border=\"1\" class=\"dataframe\">\n  <thead>\n    <tr style=\"text-align: right;\">\n      <th></th>\n      <th>avg(t.col1)</th>\n    </tr>\n  </thead>\n  <tbody>\n    <tr>\n      <th>0</th>\n      <td>1.5</td>\n    </tr>\n  </tbody>\n</table>\n</div>"
     },
     "execution_count": 45,
     "metadata": {},
     "output_type": "execute_result"
    }
   ],
   "source": [
    "select(sql)"
   ],
   "metadata": {
    "collapsed": false,
    "pycharm": {
     "name": "#%%\n"
    }
   }
  },
  {
   "cell_type": "markdown",
   "source": [
    "#### Заполнение пропусков"
   ],
   "metadata": {
    "collapsed": false,
    "pycharm": {
     "name": "#%% md\n"
    }
   }
  },
  {
   "cell_type": "code",
   "execution_count": 46,
   "outputs": [],
   "source": [
    "sql = '''select\n",
    "t.checking_account\n",
    "\n",
    "\n",
    "from german_credit t'''"
   ],
   "metadata": {
    "collapsed": false,
    "pycharm": {
     "name": "#%%\n"
    }
   }
  },
  {
   "cell_type": "code",
   "execution_count": 47,
   "outputs": [
    {
     "data": {
      "text/plain": "    checking_account\n0               None\n1             little\n2               None\n3               None\n4               None\n..               ...\n995           little\n996         moderate\n997         moderate\n998             None\n999         moderate\n\n[1000 rows x 1 columns]",
      "text/html": "<div>\n<style scoped>\n    .dataframe tbody tr th:only-of-type {\n        vertical-align: middle;\n    }\n\n    .dataframe tbody tr th {\n        vertical-align: top;\n    }\n\n    .dataframe thead th {\n        text-align: right;\n    }\n</style>\n<table border=\"1\" class=\"dataframe\">\n  <thead>\n    <tr style=\"text-align: right;\">\n      <th></th>\n      <th>checking_account</th>\n    </tr>\n  </thead>\n  <tbody>\n    <tr>\n      <th>0</th>\n      <td>None</td>\n    </tr>\n    <tr>\n      <th>1</th>\n      <td>little</td>\n    </tr>\n    <tr>\n      <th>2</th>\n      <td>None</td>\n    </tr>\n    <tr>\n      <th>3</th>\n      <td>None</td>\n    </tr>\n    <tr>\n      <th>4</th>\n      <td>None</td>\n    </tr>\n    <tr>\n      <th>...</th>\n      <td>...</td>\n    </tr>\n    <tr>\n      <th>995</th>\n      <td>little</td>\n    </tr>\n    <tr>\n      <th>996</th>\n      <td>moderate</td>\n    </tr>\n    <tr>\n      <th>997</th>\n      <td>moderate</td>\n    </tr>\n    <tr>\n      <th>998</th>\n      <td>None</td>\n    </tr>\n    <tr>\n      <th>999</th>\n      <td>moderate</td>\n    </tr>\n  </tbody>\n</table>\n<p>1000 rows × 1 columns</p>\n</div>"
     },
     "execution_count": 47,
     "metadata": {},
     "output_type": "execute_result"
    }
   ],
   "source": [
    "select(sql)"
   ],
   "metadata": {
    "collapsed": false,
    "pycharm": {
     "name": "#%%\n"
    }
   }
  },
  {
   "cell_type": "markdown",
   "source": [
    "Подставляем no_info вместо None"
   ],
   "metadata": {
    "collapsed": false,
    "pycharm": {
     "name": "#%% md\n"
    }
   }
  },
  {
   "cell_type": "code",
   "execution_count": 48,
   "outputs": [],
   "source": [
    "sql = '''select\n",
    "t.checking_account,\n",
    "coalesce(t.checking_account, 'no_info')\n",
    "\n",
    "from german_credit t'''"
   ],
   "metadata": {
    "collapsed": false,
    "pycharm": {
     "name": "#%%\n"
    }
   }
  },
  {
   "cell_type": "code",
   "execution_count": 49,
   "outputs": [
    {
     "data": {
      "text/plain": "    checking_account coalesce(t.checking_account, 'no_info')\n0               None                                 no_info\n1             little                                  little\n2               None                                 no_info\n3               None                                 no_info\n4               None                                 no_info\n..               ...                                     ...\n995           little                                  little\n996         moderate                                moderate\n997         moderate                                moderate\n998             None                                 no_info\n999         moderate                                moderate\n\n[1000 rows x 2 columns]",
      "text/html": "<div>\n<style scoped>\n    .dataframe tbody tr th:only-of-type {\n        vertical-align: middle;\n    }\n\n    .dataframe tbody tr th {\n        vertical-align: top;\n    }\n\n    .dataframe thead th {\n        text-align: right;\n    }\n</style>\n<table border=\"1\" class=\"dataframe\">\n  <thead>\n    <tr style=\"text-align: right;\">\n      <th></th>\n      <th>checking_account</th>\n      <th>coalesce(t.checking_account, 'no_info')</th>\n    </tr>\n  </thead>\n  <tbody>\n    <tr>\n      <th>0</th>\n      <td>None</td>\n      <td>no_info</td>\n    </tr>\n    <tr>\n      <th>1</th>\n      <td>little</td>\n      <td>little</td>\n    </tr>\n    <tr>\n      <th>2</th>\n      <td>None</td>\n      <td>no_info</td>\n    </tr>\n    <tr>\n      <th>3</th>\n      <td>None</td>\n      <td>no_info</td>\n    </tr>\n    <tr>\n      <th>4</th>\n      <td>None</td>\n      <td>no_info</td>\n    </tr>\n    <tr>\n      <th>...</th>\n      <td>...</td>\n      <td>...</td>\n    </tr>\n    <tr>\n      <th>995</th>\n      <td>little</td>\n      <td>little</td>\n    </tr>\n    <tr>\n      <th>996</th>\n      <td>moderate</td>\n      <td>moderate</td>\n    </tr>\n    <tr>\n      <th>997</th>\n      <td>moderate</td>\n      <td>moderate</td>\n    </tr>\n    <tr>\n      <th>998</th>\n      <td>None</td>\n      <td>no_info</td>\n    </tr>\n    <tr>\n      <th>999</th>\n      <td>moderate</td>\n      <td>moderate</td>\n    </tr>\n  </tbody>\n</table>\n<p>1000 rows × 2 columns</p>\n</div>"
     },
     "execution_count": 49,
     "metadata": {},
     "output_type": "execute_result"
    }
   ],
   "source": [
    "select(sql)"
   ],
   "metadata": {
    "collapsed": false,
    "pycharm": {
     "name": "#%%\n"
    }
   }
  },
  {
   "cell_type": "markdown",
   "source": [
    "Ещё один пример\n",
    "Пропуски заменим нулями"
   ],
   "metadata": {
    "collapsed": false,
    "pycharm": {
     "name": "#%% md\n"
    }
   }
  },
  {
   "cell_type": "code",
   "execution_count": 50,
   "outputs": [],
   "source": [
    "sql = '''select * from null_test t '''"
   ],
   "metadata": {
    "collapsed": false,
    "pycharm": {
     "name": "#%%\n"
    }
   }
  },
  {
   "cell_type": "code",
   "execution_count": 51,
   "outputs": [
    {
     "data": {
      "text/plain": "   col1\n0   1.0\n1   NaN\n2   2.0",
      "text/html": "<div>\n<style scoped>\n    .dataframe tbody tr th:only-of-type {\n        vertical-align: middle;\n    }\n\n    .dataframe tbody tr th {\n        vertical-align: top;\n    }\n\n    .dataframe thead th {\n        text-align: right;\n    }\n</style>\n<table border=\"1\" class=\"dataframe\">\n  <thead>\n    <tr style=\"text-align: right;\">\n      <th></th>\n      <th>col1</th>\n    </tr>\n  </thead>\n  <tbody>\n    <tr>\n      <th>0</th>\n      <td>1.0</td>\n    </tr>\n    <tr>\n      <th>1</th>\n      <td>NaN</td>\n    </tr>\n    <tr>\n      <th>2</th>\n      <td>2.0</td>\n    </tr>\n  </tbody>\n</table>\n</div>"
     },
     "execution_count": 51,
     "metadata": {},
     "output_type": "execute_result"
    }
   ],
   "source": [
    "select(sql)"
   ],
   "metadata": {
    "collapsed": false,
    "pycharm": {
     "name": "#%%\n"
    }
   }
  },
  {
   "cell_type": "code",
   "execution_count": 52,
   "outputs": [],
   "source": [
    "sql = '''select coalesce(t.col1,0) as col1_whithout_none\n",
    "\n",
    "from null_test t '''"
   ],
   "metadata": {
    "collapsed": false,
    "pycharm": {
     "name": "#%%\n"
    }
   }
  },
  {
   "cell_type": "code",
   "execution_count": 53,
   "outputs": [
    {
     "data": {
      "text/plain": "   col1_whithout_none\n0                 1.0\n1                 0.0\n2                 2.0",
      "text/html": "<div>\n<style scoped>\n    .dataframe tbody tr th:only-of-type {\n        vertical-align: middle;\n    }\n\n    .dataframe tbody tr th {\n        vertical-align: top;\n    }\n\n    .dataframe thead th {\n        text-align: right;\n    }\n</style>\n<table border=\"1\" class=\"dataframe\">\n  <thead>\n    <tr style=\"text-align: right;\">\n      <th></th>\n      <th>col1_whithout_none</th>\n    </tr>\n  </thead>\n  <tbody>\n    <tr>\n      <th>0</th>\n      <td>1.0</td>\n    </tr>\n    <tr>\n      <th>1</th>\n      <td>0.0</td>\n    </tr>\n    <tr>\n      <th>2</th>\n      <td>2.0</td>\n    </tr>\n  </tbody>\n</table>\n</div>"
     },
     "execution_count": 53,
     "metadata": {},
     "output_type": "execute_result"
    }
   ],
   "source": [
    "select(sql)"
   ],
   "metadata": {
    "collapsed": false,
    "pycharm": {
     "name": "#%%\n"
    }
   }
  },
  {
   "cell_type": "markdown",
   "source": [
    "Теперь можно посчитать по данной таблице среднее и она будет учитывать новый нуль"
   ],
   "metadata": {
    "collapsed": false,
    "pycharm": {
     "name": "#%% md\n"
    }
   }
  },
  {
   "cell_type": "code",
   "execution_count": 54,
   "outputs": [],
   "source": [
    "sql = '''select avg(coalesce(t.col1,0)) as col1_whithout_none\n",
    "\n",
    "from null_test t '''"
   ],
   "metadata": {
    "collapsed": false,
    "pycharm": {
     "name": "#%%\n"
    }
   }
  },
  {
   "cell_type": "code",
   "execution_count": 55,
   "outputs": [
    {
     "data": {
      "text/plain": "   col1_whithout_none\n0                 1.0",
      "text/html": "<div>\n<style scoped>\n    .dataframe tbody tr th:only-of-type {\n        vertical-align: middle;\n    }\n\n    .dataframe tbody tr th {\n        vertical-align: top;\n    }\n\n    .dataframe thead th {\n        text-align: right;\n    }\n</style>\n<table border=\"1\" class=\"dataframe\">\n  <thead>\n    <tr style=\"text-align: right;\">\n      <th></th>\n      <th>col1_whithout_none</th>\n    </tr>\n  </thead>\n  <tbody>\n    <tr>\n      <th>0</th>\n      <td>1.0</td>\n    </tr>\n  </tbody>\n</table>\n</div>"
     },
     "execution_count": 55,
     "metadata": {},
     "output_type": "execute_result"
    }
   ],
   "source": [
    "select(sql)"
   ],
   "metadata": {
    "collapsed": false,
    "pycharm": {
     "name": "#%%\n"
    }
   }
  },
  {
   "cell_type": "markdown",
   "source": [
    "Дополним таблицу"
   ],
   "metadata": {
    "collapsed": false,
    "pycharm": {
     "name": "#%% md\n"
    }
   }
  },
  {
   "cell_type": "code",
   "execution_count": 56,
   "outputs": [],
   "source": [
    "t = pd.DataFrame({'col1': [1, np.nan, 2],\n",
    "                  'col2': [np.nan, np.nan, 1],\n",
    "                  'col3': [1, 2, 3]})"
   ],
   "metadata": {
    "collapsed": false,
    "pycharm": {
     "name": "#%%\n"
    }
   }
  },
  {
   "cell_type": "code",
   "execution_count": 57,
   "outputs": [
    {
     "data": {
      "text/plain": "   col1  col2  col3\n0   1.0   NaN     1\n1   NaN   NaN     2\n2   2.0   1.0     3",
      "text/html": "<div>\n<style scoped>\n    .dataframe tbody tr th:only-of-type {\n        vertical-align: middle;\n    }\n\n    .dataframe tbody tr th {\n        vertical-align: top;\n    }\n\n    .dataframe thead th {\n        text-align: right;\n    }\n</style>\n<table border=\"1\" class=\"dataframe\">\n  <thead>\n    <tr style=\"text-align: right;\">\n      <th></th>\n      <th>col1</th>\n      <th>col2</th>\n      <th>col3</th>\n    </tr>\n  </thead>\n  <tbody>\n    <tr>\n      <th>0</th>\n      <td>1.0</td>\n      <td>NaN</td>\n      <td>1</td>\n    </tr>\n    <tr>\n      <th>1</th>\n      <td>NaN</td>\n      <td>NaN</td>\n      <td>2</td>\n    </tr>\n    <tr>\n      <th>2</th>\n      <td>2.0</td>\n      <td>1.0</td>\n      <td>3</td>\n    </tr>\n  </tbody>\n</table>\n</div>"
     },
     "execution_count": 57,
     "metadata": {},
     "output_type": "execute_result"
    }
   ],
   "source": [
    "t"
   ],
   "metadata": {
    "collapsed": false,
    "pycharm": {
     "name": "#%%\n"
    }
   }
  },
  {
   "cell_type": "code",
   "execution_count": 58,
   "outputs": [
    {
     "data": {
      "text/plain": "3"
     },
     "execution_count": 58,
     "metadata": {},
     "output_type": "execute_result"
    }
   ],
   "source": [
    "t.to_sql('null_test', con, index=False, if_exists='replace')"
   ],
   "metadata": {
    "collapsed": false,
    "pycharm": {
     "name": "#%%\n"
    }
   }
  },
  {
   "cell_type": "code",
   "execution_count": 59,
   "outputs": [],
   "source": [
    "sql = '''select * from null_test t'''"
   ],
   "metadata": {
    "collapsed": false,
    "pycharm": {
     "name": "#%%\n"
    }
   }
  },
  {
   "cell_type": "code",
   "execution_count": 60,
   "outputs": [
    {
     "data": {
      "text/plain": "   col1  col2  col3\n0   1.0   NaN     1\n1   NaN   NaN     2\n2   2.0   1.0     3",
      "text/html": "<div>\n<style scoped>\n    .dataframe tbody tr th:only-of-type {\n        vertical-align: middle;\n    }\n\n    .dataframe tbody tr th {\n        vertical-align: top;\n    }\n\n    .dataframe thead th {\n        text-align: right;\n    }\n</style>\n<table border=\"1\" class=\"dataframe\">\n  <thead>\n    <tr style=\"text-align: right;\">\n      <th></th>\n      <th>col1</th>\n      <th>col2</th>\n      <th>col3</th>\n    </tr>\n  </thead>\n  <tbody>\n    <tr>\n      <th>0</th>\n      <td>1.0</td>\n      <td>NaN</td>\n      <td>1</td>\n    </tr>\n    <tr>\n      <th>1</th>\n      <td>NaN</td>\n      <td>NaN</td>\n      <td>2</td>\n    </tr>\n    <tr>\n      <th>2</th>\n      <td>2.0</td>\n      <td>1.0</td>\n      <td>3</td>\n    </tr>\n  </tbody>\n</table>\n</div>"
     },
     "execution_count": 60,
     "metadata": {},
     "output_type": "execute_result"
    }
   ],
   "source": [
    "select(sql)"
   ],
   "metadata": {
    "collapsed": false,
    "pycharm": {
     "name": "#%%\n"
    }
   }
  },
  {
   "cell_type": "markdown",
   "source": [
    "Выберем столбец, который первый не имеет пропусков, начиная с первого и т.д."
   ],
   "metadata": {
    "collapsed": false,
    "pycharm": {
     "name": "#%% md\n"
    }
   }
  },
  {
   "cell_type": "code",
   "execution_count": 61,
   "outputs": [],
   "source": [
    "sql = '''select t.*, coalesce(t.col1,t.col2,t.col3) from null_test t'''"
   ],
   "metadata": {
    "collapsed": false,
    "pycharm": {
     "name": "#%%\n"
    }
   }
  },
  {
   "cell_type": "code",
   "execution_count": 62,
   "outputs": [
    {
     "data": {
      "text/plain": "   col1  col2  col3  coalesce(t.col1,t.col2,t.col3)\n0   1.0   NaN     1                             1.0\n1   NaN   NaN     2                             2.0\n2   2.0   1.0     3                             2.0",
      "text/html": "<div>\n<style scoped>\n    .dataframe tbody tr th:only-of-type {\n        vertical-align: middle;\n    }\n\n    .dataframe tbody tr th {\n        vertical-align: top;\n    }\n\n    .dataframe thead th {\n        text-align: right;\n    }\n</style>\n<table border=\"1\" class=\"dataframe\">\n  <thead>\n    <tr style=\"text-align: right;\">\n      <th></th>\n      <th>col1</th>\n      <th>col2</th>\n      <th>col3</th>\n      <th>coalesce(t.col1,t.col2,t.col3)</th>\n    </tr>\n  </thead>\n  <tbody>\n    <tr>\n      <th>0</th>\n      <td>1.0</td>\n      <td>NaN</td>\n      <td>1</td>\n      <td>1.0</td>\n    </tr>\n    <tr>\n      <th>1</th>\n      <td>NaN</td>\n      <td>NaN</td>\n      <td>2</td>\n      <td>2.0</td>\n    </tr>\n    <tr>\n      <th>2</th>\n      <td>2.0</td>\n      <td>1.0</td>\n      <td>3</td>\n      <td>2.0</td>\n    </tr>\n  </tbody>\n</table>\n</div>"
     },
     "execution_count": 62,
     "metadata": {},
     "output_type": "execute_result"
    }
   ],
   "source": [
    "select(sql)"
   ],
   "metadata": {
    "collapsed": false,
    "pycharm": {
     "name": "#%%\n"
    }
   }
  },
  {
   "cell_type": "markdown",
   "source": [
    "## Дубликаты"
   ],
   "metadata": {
    "collapsed": false,
    "pycharm": {
     "name": "#%% md\n"
    }
   }
  },
  {
   "cell_type": "code",
   "execution_count": 63,
   "outputs": [],
   "source": [
    "t = pd.DataFrame({'id': [1, 1, 2], 'name': ['a', 'a', 'b']})"
   ],
   "metadata": {
    "collapsed": false,
    "pycharm": {
     "name": "#%%\n"
    }
   }
  },
  {
   "cell_type": "code",
   "execution_count": 64,
   "outputs": [
    {
     "data": {
      "text/plain": "   id name\n0   1    a\n1   1    a\n2   2    b",
      "text/html": "<div>\n<style scoped>\n    .dataframe tbody tr th:only-of-type {\n        vertical-align: middle;\n    }\n\n    .dataframe tbody tr th {\n        vertical-align: top;\n    }\n\n    .dataframe thead th {\n        text-align: right;\n    }\n</style>\n<table border=\"1\" class=\"dataframe\">\n  <thead>\n    <tr style=\"text-align: right;\">\n      <th></th>\n      <th>id</th>\n      <th>name</th>\n    </tr>\n  </thead>\n  <tbody>\n    <tr>\n      <th>0</th>\n      <td>1</td>\n      <td>a</td>\n    </tr>\n    <tr>\n      <th>1</th>\n      <td>1</td>\n      <td>a</td>\n    </tr>\n    <tr>\n      <th>2</th>\n      <td>2</td>\n      <td>b</td>\n    </tr>\n  </tbody>\n</table>\n</div>"
     },
     "execution_count": 64,
     "metadata": {},
     "output_type": "execute_result"
    }
   ],
   "source": [
    "t"
   ],
   "metadata": {
    "collapsed": false,
    "pycharm": {
     "name": "#%%\n"
    }
   }
  },
  {
   "cell_type": "code",
   "execution_count": 65,
   "outputs": [
    {
     "data": {
      "text/plain": "3"
     },
     "execution_count": 65,
     "metadata": {},
     "output_type": "execute_result"
    }
   ],
   "source": [
    "t.to_sql('dupl_test', con, index=False, if_exists='replace')"
   ],
   "metadata": {
    "collapsed": false,
    "pycharm": {
     "name": "#%%\n"
    }
   }
  },
  {
   "cell_type": "code",
   "execution_count": 66,
   "outputs": [],
   "source": [
    "sql = '''select * from dupl_test t'''"
   ],
   "metadata": {
    "collapsed": false,
    "pycharm": {
     "name": "#%%\n"
    }
   }
  },
  {
   "cell_type": "code",
   "execution_count": 67,
   "outputs": [
    {
     "data": {
      "text/plain": "   id name\n0   1    a\n1   1    a\n2   2    b",
      "text/html": "<div>\n<style scoped>\n    .dataframe tbody tr th:only-of-type {\n        vertical-align: middle;\n    }\n\n    .dataframe tbody tr th {\n        vertical-align: top;\n    }\n\n    .dataframe thead th {\n        text-align: right;\n    }\n</style>\n<table border=\"1\" class=\"dataframe\">\n  <thead>\n    <tr style=\"text-align: right;\">\n      <th></th>\n      <th>id</th>\n      <th>name</th>\n    </tr>\n  </thead>\n  <tbody>\n    <tr>\n      <th>0</th>\n      <td>1</td>\n      <td>a</td>\n    </tr>\n    <tr>\n      <th>1</th>\n      <td>1</td>\n      <td>a</td>\n    </tr>\n    <tr>\n      <th>2</th>\n      <td>2</td>\n      <td>b</td>\n    </tr>\n  </tbody>\n</table>\n</div>"
     },
     "execution_count": 67,
     "metadata": {},
     "output_type": "execute_result"
    }
   ],
   "source": [
    "select(sql)"
   ],
   "metadata": {
    "collapsed": false,
    "pycharm": {
     "name": "#%%\n"
    }
   }
  },
  {
   "cell_type": "code",
   "execution_count": 68,
   "outputs": [],
   "source": [
    "sql = '''select t.id, t.name, count(*) as cnt from dupl_test t\n",
    "group by t.id, t.name'''"
   ],
   "metadata": {
    "collapsed": false,
    "pycharm": {
     "name": "#%%\n"
    }
   }
  },
  {
   "cell_type": "code",
   "execution_count": 69,
   "outputs": [
    {
     "data": {
      "text/plain": "   id name  cnt\n0   1    a    2\n1   2    b    1",
      "text/html": "<div>\n<style scoped>\n    .dataframe tbody tr th:only-of-type {\n        vertical-align: middle;\n    }\n\n    .dataframe tbody tr th {\n        vertical-align: top;\n    }\n\n    .dataframe thead th {\n        text-align: right;\n    }\n</style>\n<table border=\"1\" class=\"dataframe\">\n  <thead>\n    <tr style=\"text-align: right;\">\n      <th></th>\n      <th>id</th>\n      <th>name</th>\n      <th>cnt</th>\n    </tr>\n  </thead>\n  <tbody>\n    <tr>\n      <th>0</th>\n      <td>1</td>\n      <td>a</td>\n      <td>2</td>\n    </tr>\n    <tr>\n      <th>1</th>\n      <td>2</td>\n      <td>b</td>\n      <td>1</td>\n    </tr>\n  </tbody>\n</table>\n</div>"
     },
     "execution_count": 69,
     "metadata": {},
     "output_type": "execute_result"
    }
   ],
   "source": [
    "select(sql)"
   ],
   "metadata": {
    "collapsed": false,
    "pycharm": {
     "name": "#%%\n"
    }
   }
  },
  {
   "cell_type": "markdown",
   "source": [
    "Вывод строки, где есть дубликаты, то есть cnt > 1"
   ],
   "metadata": {
    "collapsed": false,
    "pycharm": {
     "name": "#%% md\n"
    }
   }
  },
  {
   "cell_type": "code",
   "execution_count": 70,
   "outputs": [],
   "source": [
    "sql = '''select t.id, t.name, count(*) as cnt from dupl_test t\n",
    "group by t.id, t.name\n",
    "having cnt > 1\n",
    "'''"
   ],
   "metadata": {
    "collapsed": false,
    "pycharm": {
     "name": "#%%\n"
    }
   }
  },
  {
   "cell_type": "code",
   "execution_count": 71,
   "outputs": [
    {
     "data": {
      "text/plain": "   id name  cnt\n0   1    a    2",
      "text/html": "<div>\n<style scoped>\n    .dataframe tbody tr th:only-of-type {\n        vertical-align: middle;\n    }\n\n    .dataframe tbody tr th {\n        vertical-align: top;\n    }\n\n    .dataframe thead th {\n        text-align: right;\n    }\n</style>\n<table border=\"1\" class=\"dataframe\">\n  <thead>\n    <tr style=\"text-align: right;\">\n      <th></th>\n      <th>id</th>\n      <th>name</th>\n      <th>cnt</th>\n    </tr>\n  </thead>\n  <tbody>\n    <tr>\n      <th>0</th>\n      <td>1</td>\n      <td>a</td>\n      <td>2</td>\n    </tr>\n  </tbody>\n</table>\n</div>"
     },
     "execution_count": 71,
     "metadata": {},
     "output_type": "execute_result"
    }
   ],
   "source": [
    "select(sql)"
   ],
   "metadata": {
    "collapsed": false,
    "pycharm": {
     "name": "#%%\n"
    }
   }
  },
  {
   "cell_type": "code",
   "execution_count": 72,
   "outputs": [],
   "source": [
    "t = pd.DataFrame({'id': [1, 1, 2, 2, 3],\n",
    "                  'name': ['a', 'c', 'b', 'd', 'e']})"
   ],
   "metadata": {
    "collapsed": false,
    "pycharm": {
     "name": "#%%\n"
    }
   }
  },
  {
   "cell_type": "code",
   "execution_count": 73,
   "outputs": [
    {
     "data": {
      "text/plain": "   id name\n0   1    a\n1   1    c\n2   2    b\n3   2    d\n4   3    e",
      "text/html": "<div>\n<style scoped>\n    .dataframe tbody tr th:only-of-type {\n        vertical-align: middle;\n    }\n\n    .dataframe tbody tr th {\n        vertical-align: top;\n    }\n\n    .dataframe thead th {\n        text-align: right;\n    }\n</style>\n<table border=\"1\" class=\"dataframe\">\n  <thead>\n    <tr style=\"text-align: right;\">\n      <th></th>\n      <th>id</th>\n      <th>name</th>\n    </tr>\n  </thead>\n  <tbody>\n    <tr>\n      <th>0</th>\n      <td>1</td>\n      <td>a</td>\n    </tr>\n    <tr>\n      <th>1</th>\n      <td>1</td>\n      <td>c</td>\n    </tr>\n    <tr>\n      <th>2</th>\n      <td>2</td>\n      <td>b</td>\n    </tr>\n    <tr>\n      <th>3</th>\n      <td>2</td>\n      <td>d</td>\n    </tr>\n    <tr>\n      <th>4</th>\n      <td>3</td>\n      <td>e</td>\n    </tr>\n  </tbody>\n</table>\n</div>"
     },
     "execution_count": 73,
     "metadata": {},
     "output_type": "execute_result"
    }
   ],
   "source": [
    "t"
   ],
   "metadata": {
    "collapsed": false,
    "pycharm": {
     "name": "#%%\n"
    }
   }
  },
  {
   "cell_type": "code",
   "execution_count": 74,
   "outputs": [
    {
     "data": {
      "text/plain": "5"
     },
     "execution_count": 74,
     "metadata": {},
     "output_type": "execute_result"
    }
   ],
   "source": [
    "t.to_sql('dupl_test', con, index=False, if_exists='replace')"
   ],
   "metadata": {
    "collapsed": false,
    "pycharm": {
     "name": "#%%\n"
    }
   }
  },
  {
   "cell_type": "code",
   "execution_count": 75,
   "outputs": [],
   "source": [
    "sql = '''select * from dupl_test t'''"
   ],
   "metadata": {
    "collapsed": false,
    "pycharm": {
     "name": "#%%\n"
    }
   }
  },
  {
   "cell_type": "markdown",
   "source": [
    "Дубликатов в имени нет, но есть дубликаты в id"
   ],
   "metadata": {
    "collapsed": false,
    "pycharm": {
     "name": "#%% md\n"
    }
   }
  },
  {
   "cell_type": "code",
   "execution_count": 76,
   "outputs": [
    {
     "data": {
      "text/plain": "   id name\n0   1    a\n1   1    c\n2   2    b\n3   2    d\n4   3    e",
      "text/html": "<div>\n<style scoped>\n    .dataframe tbody tr th:only-of-type {\n        vertical-align: middle;\n    }\n\n    .dataframe tbody tr th {\n        vertical-align: top;\n    }\n\n    .dataframe thead th {\n        text-align: right;\n    }\n</style>\n<table border=\"1\" class=\"dataframe\">\n  <thead>\n    <tr style=\"text-align: right;\">\n      <th></th>\n      <th>id</th>\n      <th>name</th>\n    </tr>\n  </thead>\n  <tbody>\n    <tr>\n      <th>0</th>\n      <td>1</td>\n      <td>a</td>\n    </tr>\n    <tr>\n      <th>1</th>\n      <td>1</td>\n      <td>c</td>\n    </tr>\n    <tr>\n      <th>2</th>\n      <td>2</td>\n      <td>b</td>\n    </tr>\n    <tr>\n      <th>3</th>\n      <td>2</td>\n      <td>d</td>\n    </tr>\n    <tr>\n      <th>4</th>\n      <td>3</td>\n      <td>e</td>\n    </tr>\n  </tbody>\n</table>\n</div>"
     },
     "execution_count": 76,
     "metadata": {},
     "output_type": "execute_result"
    }
   ],
   "source": [
    "select(sql)"
   ],
   "metadata": {
    "collapsed": false,
    "pycharm": {
     "name": "#%%\n"
    }
   }
  },
  {
   "cell_type": "markdown",
   "source": [
    "Для того, чтобы найти повторяющиеся id нужно:"
   ],
   "metadata": {
    "collapsed": false,
    "pycharm": {
     "name": "#%% md\n"
    }
   }
  },
  {
   "cell_type": "code",
   "execution_count": 77,
   "outputs": [],
   "source": [
    "sql = '''select t.id, count(*) as cnt from dupl_test t\n",
    "group by t.id\n",
    "having cnt > 1\n",
    "'''"
   ],
   "metadata": {
    "collapsed": false,
    "pycharm": {
     "name": "#%%\n"
    }
   }
  },
  {
   "cell_type": "code",
   "execution_count": 78,
   "outputs": [
    {
     "data": {
      "text/plain": "   id  cnt\n0   1    2\n1   2    2",
      "text/html": "<div>\n<style scoped>\n    .dataframe tbody tr th:only-of-type {\n        vertical-align: middle;\n    }\n\n    .dataframe tbody tr th {\n        vertical-align: top;\n    }\n\n    .dataframe thead th {\n        text-align: right;\n    }\n</style>\n<table border=\"1\" class=\"dataframe\">\n  <thead>\n    <tr style=\"text-align: right;\">\n      <th></th>\n      <th>id</th>\n      <th>cnt</th>\n    </tr>\n  </thead>\n  <tbody>\n    <tr>\n      <th>0</th>\n      <td>1</td>\n      <td>2</td>\n    </tr>\n    <tr>\n      <th>1</th>\n      <td>2</td>\n      <td>2</td>\n    </tr>\n  </tbody>\n</table>\n</div>"
     },
     "execution_count": 78,
     "metadata": {},
     "output_type": "execute_result"
    }
   ],
   "source": [
    "select(sql)"
   ],
   "metadata": {
    "collapsed": false,
    "pycharm": {
     "name": "#%%\n"
    }
   }
  },
  {
   "cell_type": "markdown",
   "source": [
    "Для того, чтобы вывести инфу о дубликатах нужно написать подзапрос"
   ],
   "metadata": {
    "collapsed": false,
    "pycharm": {
     "name": "#%% md\n"
    }
   }
  },
  {
   "cell_type": "code",
   "execution_count": 79,
   "outputs": [],
   "source": [
    "sql = '''select * from dupl_test t\n",
    "where t.id in(select t.id as cnt from dupl_test t\n",
    "group by t.id\n",
    "having count(*) > 1)\n",
    "'''"
   ],
   "metadata": {
    "collapsed": false,
    "pycharm": {
     "name": "#%%\n"
    }
   }
  },
  {
   "cell_type": "code",
   "execution_count": 80,
   "outputs": [
    {
     "data": {
      "text/plain": "   id name\n0   1    a\n1   1    c\n2   2    b\n3   2    d",
      "text/html": "<div>\n<style scoped>\n    .dataframe tbody tr th:only-of-type {\n        vertical-align: middle;\n    }\n\n    .dataframe tbody tr th {\n        vertical-align: top;\n    }\n\n    .dataframe thead th {\n        text-align: right;\n    }\n</style>\n<table border=\"1\" class=\"dataframe\">\n  <thead>\n    <tr style=\"text-align: right;\">\n      <th></th>\n      <th>id</th>\n      <th>name</th>\n    </tr>\n  </thead>\n  <tbody>\n    <tr>\n      <th>0</th>\n      <td>1</td>\n      <td>a</td>\n    </tr>\n    <tr>\n      <th>1</th>\n      <td>1</td>\n      <td>c</td>\n    </tr>\n    <tr>\n      <th>2</th>\n      <td>2</td>\n      <td>b</td>\n    </tr>\n    <tr>\n      <th>3</th>\n      <td>2</td>\n      <td>d</td>\n    </tr>\n  </tbody>\n</table>\n</div>"
     },
     "execution_count": 80,
     "metadata": {},
     "output_type": "execute_result"
    }
   ],
   "source": [
    "select(sql)"
   ],
   "metadata": {
    "collapsed": false,
    "pycharm": {
     "name": "#%%\n"
    }
   }
  },
  {
   "cell_type": "markdown",
   "source": [
    "## Агрегация"
   ],
   "metadata": {
    "collapsed": false,
    "pycharm": {
     "name": "#%% md\n"
    }
   }
  },
  {
   "cell_type": "code",
   "execution_count": 81,
   "outputs": [],
   "source": [
    "sql = '''select * from german_credit t'''"
   ],
   "metadata": {
    "collapsed": false,
    "pycharm": {
     "name": "#%%\n"
    }
   }
  },
  {
   "cell_type": "code",
   "execution_count": 82,
   "outputs": [
    {
     "data": {
      "text/plain": "     age     sex  job housing saving_accounts checking_account  credit_amount  \\\n0     33    male    2     own            None             None           3074   \n1     43    male    1     own          little           little           1344   \n2     52    male    2     own      quite rich             None            936   \n3     35  female    3     own          little             None           1393   \n4     28    male    2     own          little             None            776   \n..   ...     ...  ...     ...             ...              ...            ...   \n995   65    male    2    free          little           little           2600   \n996   30    male    3     own          little         moderate           4455   \n997   33    male    2     own          little         moderate           6403   \n998   29  female    2     own            None             None           5003   \n999   44    male    2     own        moderate         moderate           1804   \n\n     duration    purpose  default          contract_dt  client_id  \n0           9   radio/TV        0  2008-06-29 18:52:00        210  \n1          12        car        0  2007-05-20 18:30:19        929  \n2           9  education        0  2008-04-27 08:23:07        200  \n3          11        car        0  2007-05-06 10:58:22         45  \n4          12   radio/TV        0  2007-07-21 13:22:14        358  \n..        ...        ...      ...                  ...        ...  \n995        18   radio/TV        1  2007-12-16 20:17:19        624  \n996        36   business        1  2007-07-12 14:08:58        181  \n997        24   radio/TV        0  2008-04-08 03:24:26        730  \n998        21        car        1  2007-11-29 15:51:45        557  \n999        12        car        0  2007-08-14 09:05:33         23  \n\n[1000 rows x 12 columns]",
      "text/html": "<div>\n<style scoped>\n    .dataframe tbody tr th:only-of-type {\n        vertical-align: middle;\n    }\n\n    .dataframe tbody tr th {\n        vertical-align: top;\n    }\n\n    .dataframe thead th {\n        text-align: right;\n    }\n</style>\n<table border=\"1\" class=\"dataframe\">\n  <thead>\n    <tr style=\"text-align: right;\">\n      <th></th>\n      <th>age</th>\n      <th>sex</th>\n      <th>job</th>\n      <th>housing</th>\n      <th>saving_accounts</th>\n      <th>checking_account</th>\n      <th>credit_amount</th>\n      <th>duration</th>\n      <th>purpose</th>\n      <th>default</th>\n      <th>contract_dt</th>\n      <th>client_id</th>\n    </tr>\n  </thead>\n  <tbody>\n    <tr>\n      <th>0</th>\n      <td>33</td>\n      <td>male</td>\n      <td>2</td>\n      <td>own</td>\n      <td>None</td>\n      <td>None</td>\n      <td>3074</td>\n      <td>9</td>\n      <td>radio/TV</td>\n      <td>0</td>\n      <td>2008-06-29 18:52:00</td>\n      <td>210</td>\n    </tr>\n    <tr>\n      <th>1</th>\n      <td>43</td>\n      <td>male</td>\n      <td>1</td>\n      <td>own</td>\n      <td>little</td>\n      <td>little</td>\n      <td>1344</td>\n      <td>12</td>\n      <td>car</td>\n      <td>0</td>\n      <td>2007-05-20 18:30:19</td>\n      <td>929</td>\n    </tr>\n    <tr>\n      <th>2</th>\n      <td>52</td>\n      <td>male</td>\n      <td>2</td>\n      <td>own</td>\n      <td>quite rich</td>\n      <td>None</td>\n      <td>936</td>\n      <td>9</td>\n      <td>education</td>\n      <td>0</td>\n      <td>2008-04-27 08:23:07</td>\n      <td>200</td>\n    </tr>\n    <tr>\n      <th>3</th>\n      <td>35</td>\n      <td>female</td>\n      <td>3</td>\n      <td>own</td>\n      <td>little</td>\n      <td>None</td>\n      <td>1393</td>\n      <td>11</td>\n      <td>car</td>\n      <td>0</td>\n      <td>2007-05-06 10:58:22</td>\n      <td>45</td>\n    </tr>\n    <tr>\n      <th>4</th>\n      <td>28</td>\n      <td>male</td>\n      <td>2</td>\n      <td>own</td>\n      <td>little</td>\n      <td>None</td>\n      <td>776</td>\n      <td>12</td>\n      <td>radio/TV</td>\n      <td>0</td>\n      <td>2007-07-21 13:22:14</td>\n      <td>358</td>\n    </tr>\n    <tr>\n      <th>...</th>\n      <td>...</td>\n      <td>...</td>\n      <td>...</td>\n      <td>...</td>\n      <td>...</td>\n      <td>...</td>\n      <td>...</td>\n      <td>...</td>\n      <td>...</td>\n      <td>...</td>\n      <td>...</td>\n      <td>...</td>\n    </tr>\n    <tr>\n      <th>995</th>\n      <td>65</td>\n      <td>male</td>\n      <td>2</td>\n      <td>free</td>\n      <td>little</td>\n      <td>little</td>\n      <td>2600</td>\n      <td>18</td>\n      <td>radio/TV</td>\n      <td>1</td>\n      <td>2007-12-16 20:17:19</td>\n      <td>624</td>\n    </tr>\n    <tr>\n      <th>996</th>\n      <td>30</td>\n      <td>male</td>\n      <td>3</td>\n      <td>own</td>\n      <td>little</td>\n      <td>moderate</td>\n      <td>4455</td>\n      <td>36</td>\n      <td>business</td>\n      <td>1</td>\n      <td>2007-07-12 14:08:58</td>\n      <td>181</td>\n    </tr>\n    <tr>\n      <th>997</th>\n      <td>33</td>\n      <td>male</td>\n      <td>2</td>\n      <td>own</td>\n      <td>little</td>\n      <td>moderate</td>\n      <td>6403</td>\n      <td>24</td>\n      <td>radio/TV</td>\n      <td>0</td>\n      <td>2008-04-08 03:24:26</td>\n      <td>730</td>\n    </tr>\n    <tr>\n      <th>998</th>\n      <td>29</td>\n      <td>female</td>\n      <td>2</td>\n      <td>own</td>\n      <td>None</td>\n      <td>None</td>\n      <td>5003</td>\n      <td>21</td>\n      <td>car</td>\n      <td>1</td>\n      <td>2007-11-29 15:51:45</td>\n      <td>557</td>\n    </tr>\n    <tr>\n      <th>999</th>\n      <td>44</td>\n      <td>male</td>\n      <td>2</td>\n      <td>own</td>\n      <td>moderate</td>\n      <td>moderate</td>\n      <td>1804</td>\n      <td>12</td>\n      <td>car</td>\n      <td>0</td>\n      <td>2007-08-14 09:05:33</td>\n      <td>23</td>\n    </tr>\n  </tbody>\n</table>\n<p>1000 rows × 12 columns</p>\n</div>"
     },
     "execution_count": 82,
     "metadata": {},
     "output_type": "execute_result"
    }
   ],
   "source": [
    "select(sql)"
   ],
   "metadata": {
    "collapsed": false,
    "pycharm": {
     "name": "#%%\n"
    }
   }
  },
  {
   "cell_type": "markdown",
   "source": [
    "Агрегация по дате по началу месяца"
   ],
   "metadata": {
    "collapsed": false,
    "pycharm": {
     "name": "#%% md\n"
    }
   }
  },
  {
   "cell_type": "code",
   "execution_count": 83,
   "outputs": [],
   "source": [
    "sql = '''select date(t.contract_dt, 'start of month') as month,\n",
    "count(*) as credit_cnt\n",
    "\n",
    "from german_credit t\n",
    "group by month\n",
    "'''"
   ],
   "metadata": {
    "collapsed": false,
    "pycharm": {
     "name": "#%%\n"
    }
   }
  },
  {
   "cell_type": "code",
   "execution_count": 84,
   "outputs": [
    {
     "data": {
      "text/plain": "         month  credit_cnt\n0   2007-05-01          81\n1   2007-06-01          74\n2   2007-07-01          71\n3   2007-08-01          57\n4   2007-09-01          58\n5   2007-10-01          70\n6   2007-11-01          87\n7   2007-12-01          77\n8   2008-01-01          93\n9   2008-02-01          55\n10  2008-03-01          63\n11  2008-04-01          85\n12  2008-05-01          67\n13  2008-06-01          62",
      "text/html": "<div>\n<style scoped>\n    .dataframe tbody tr th:only-of-type {\n        vertical-align: middle;\n    }\n\n    .dataframe tbody tr th {\n        vertical-align: top;\n    }\n\n    .dataframe thead th {\n        text-align: right;\n    }\n</style>\n<table border=\"1\" class=\"dataframe\">\n  <thead>\n    <tr style=\"text-align: right;\">\n      <th></th>\n      <th>month</th>\n      <th>credit_cnt</th>\n    </tr>\n  </thead>\n  <tbody>\n    <tr>\n      <th>0</th>\n      <td>2007-05-01</td>\n      <td>81</td>\n    </tr>\n    <tr>\n      <th>1</th>\n      <td>2007-06-01</td>\n      <td>74</td>\n    </tr>\n    <tr>\n      <th>2</th>\n      <td>2007-07-01</td>\n      <td>71</td>\n    </tr>\n    <tr>\n      <th>3</th>\n      <td>2007-08-01</td>\n      <td>57</td>\n    </tr>\n    <tr>\n      <th>4</th>\n      <td>2007-09-01</td>\n      <td>58</td>\n    </tr>\n    <tr>\n      <th>5</th>\n      <td>2007-10-01</td>\n      <td>70</td>\n    </tr>\n    <tr>\n      <th>6</th>\n      <td>2007-11-01</td>\n      <td>87</td>\n    </tr>\n    <tr>\n      <th>7</th>\n      <td>2007-12-01</td>\n      <td>77</td>\n    </tr>\n    <tr>\n      <th>8</th>\n      <td>2008-01-01</td>\n      <td>93</td>\n    </tr>\n    <tr>\n      <th>9</th>\n      <td>2008-02-01</td>\n      <td>55</td>\n    </tr>\n    <tr>\n      <th>10</th>\n      <td>2008-03-01</td>\n      <td>63</td>\n    </tr>\n    <tr>\n      <th>11</th>\n      <td>2008-04-01</td>\n      <td>85</td>\n    </tr>\n    <tr>\n      <th>12</th>\n      <td>2008-05-01</td>\n      <td>67</td>\n    </tr>\n    <tr>\n      <th>13</th>\n      <td>2008-06-01</td>\n      <td>62</td>\n    </tr>\n  </tbody>\n</table>\n</div>"
     },
     "execution_count": 84,
     "metadata": {},
     "output_type": "execute_result"
    }
   ],
   "source": [
    "select(sql)"
   ],
   "metadata": {
    "collapsed": false,
    "pycharm": {
     "name": "#%%\n"
    }
   }
  },
  {
   "cell_type": "markdown",
   "source": [
    "Если не работает group by month ту нужно указывать дату полностью\n",
    "Также можно добавить: сумму всех кредитов, среднюю сумму кредита, уникальные id клиента"
   ],
   "metadata": {
    "collapsed": false,
    "pycharm": {
     "name": "#%% md\n"
    }
   }
  },
  {
   "cell_type": "code",
   "execution_count": 85,
   "outputs": [],
   "source": [
    "sql = '''select date(t.contract_dt, 'start of month') as month,\n",
    "count(*) as credit_cnt,\n",
    "count(distinct t.client_id) as id_unique,\n",
    "sum(t.credit_amount) as credit_amount_sum,\n",
    "avg(t.credit_amount) as credit_amount_avg\n",
    "\n",
    "\n",
    "from german_credit t\n",
    "group by date(t.contract_dt, 'start of month')\n",
    "order by date(t.contract_dt, 'start of month')\n",
    "'''"
   ],
   "metadata": {
    "collapsed": false,
    "pycharm": {
     "name": "#%%\n"
    }
   }
  },
  {
   "cell_type": "code",
   "execution_count": 86,
   "outputs": [
    {
     "data": {
      "text/plain": "         month  credit_cnt  id_unique  credit_amount_sum  credit_amount_avg\n0   2007-05-01          81         81             207663        2563.740741\n1   2007-06-01          74         74             239594        3237.756757\n2   2007-07-01          71         71             224333        3159.619718\n3   2007-08-01          57         57             178569        3132.789474\n4   2007-09-01          58         58             186909        3222.568966\n5   2007-10-01          70         70             188534        2693.342857\n6   2007-11-01          87         87             300504        3454.068966\n7   2007-12-01          77         77             273973        3558.090909\n8   2008-01-01          93         93             288080        3097.634409\n9   2008-02-01          55         55             211128        3838.690909\n10  2008-03-01          63         63             204944        3253.079365\n11  2008-04-01          85         85             305409        3593.047059\n12  2008-05-01          67         67             263043        3926.014925\n13  2008-06-01          62         62             198575        3202.822581",
      "text/html": "<div>\n<style scoped>\n    .dataframe tbody tr th:only-of-type {\n        vertical-align: middle;\n    }\n\n    .dataframe tbody tr th {\n        vertical-align: top;\n    }\n\n    .dataframe thead th {\n        text-align: right;\n    }\n</style>\n<table border=\"1\" class=\"dataframe\">\n  <thead>\n    <tr style=\"text-align: right;\">\n      <th></th>\n      <th>month</th>\n      <th>credit_cnt</th>\n      <th>id_unique</th>\n      <th>credit_amount_sum</th>\n      <th>credit_amount_avg</th>\n    </tr>\n  </thead>\n  <tbody>\n    <tr>\n      <th>0</th>\n      <td>2007-05-01</td>\n      <td>81</td>\n      <td>81</td>\n      <td>207663</td>\n      <td>2563.740741</td>\n    </tr>\n    <tr>\n      <th>1</th>\n      <td>2007-06-01</td>\n      <td>74</td>\n      <td>74</td>\n      <td>239594</td>\n      <td>3237.756757</td>\n    </tr>\n    <tr>\n      <th>2</th>\n      <td>2007-07-01</td>\n      <td>71</td>\n      <td>71</td>\n      <td>224333</td>\n      <td>3159.619718</td>\n    </tr>\n    <tr>\n      <th>3</th>\n      <td>2007-08-01</td>\n      <td>57</td>\n      <td>57</td>\n      <td>178569</td>\n      <td>3132.789474</td>\n    </tr>\n    <tr>\n      <th>4</th>\n      <td>2007-09-01</td>\n      <td>58</td>\n      <td>58</td>\n      <td>186909</td>\n      <td>3222.568966</td>\n    </tr>\n    <tr>\n      <th>5</th>\n      <td>2007-10-01</td>\n      <td>70</td>\n      <td>70</td>\n      <td>188534</td>\n      <td>2693.342857</td>\n    </tr>\n    <tr>\n      <th>6</th>\n      <td>2007-11-01</td>\n      <td>87</td>\n      <td>87</td>\n      <td>300504</td>\n      <td>3454.068966</td>\n    </tr>\n    <tr>\n      <th>7</th>\n      <td>2007-12-01</td>\n      <td>77</td>\n      <td>77</td>\n      <td>273973</td>\n      <td>3558.090909</td>\n    </tr>\n    <tr>\n      <th>8</th>\n      <td>2008-01-01</td>\n      <td>93</td>\n      <td>93</td>\n      <td>288080</td>\n      <td>3097.634409</td>\n    </tr>\n    <tr>\n      <th>9</th>\n      <td>2008-02-01</td>\n      <td>55</td>\n      <td>55</td>\n      <td>211128</td>\n      <td>3838.690909</td>\n    </tr>\n    <tr>\n      <th>10</th>\n      <td>2008-03-01</td>\n      <td>63</td>\n      <td>63</td>\n      <td>204944</td>\n      <td>3253.079365</td>\n    </tr>\n    <tr>\n      <th>11</th>\n      <td>2008-04-01</td>\n      <td>85</td>\n      <td>85</td>\n      <td>305409</td>\n      <td>3593.047059</td>\n    </tr>\n    <tr>\n      <th>12</th>\n      <td>2008-05-01</td>\n      <td>67</td>\n      <td>67</td>\n      <td>263043</td>\n      <td>3926.014925</td>\n    </tr>\n    <tr>\n      <th>13</th>\n      <td>2008-06-01</td>\n      <td>62</td>\n      <td>62</td>\n      <td>198575</td>\n      <td>3202.822581</td>\n    </tr>\n  </tbody>\n</table>\n</div>"
     },
     "execution_count": 86,
     "metadata": {},
     "output_type": "execute_result"
    }
   ],
   "source": [
    "select(sql)"
   ],
   "metadata": {
    "collapsed": false,
    "pycharm": {
     "name": "#%%\n"
    }
   }
  },
  {
   "cell_type": "markdown",
   "source": [
    "Создадим ситуацию, где не все id - уникальные"
   ],
   "metadata": {
    "collapsed": false,
    "pycharm": {
     "name": "#%% md\n"
    }
   }
  },
  {
   "cell_type": "code",
   "execution_count": 87,
   "outputs": [
    {
     "data": {
      "text/plain": "238    238\n416    416\n98      98\n505    505\n577    577\n      ... \n599    599\n123    123\n255    255\n498    498\n19      19\nLength: 1000, dtype: int64"
     },
     "execution_count": 87,
     "metadata": {},
     "output_type": "execute_result"
    }
   ],
   "source": [
    "pd.Series(range(600)).sample(1000, replace=True)"
   ],
   "metadata": {
    "collapsed": false,
    "pycharm": {
     "name": "#%%\n"
    }
   }
  },
  {
   "cell_type": "code",
   "execution_count": 88,
   "outputs": [],
   "source": [
    "df['client_id_2'] = pd.Series(range(600)).sample(1000, replace=True).values"
   ],
   "metadata": {
    "collapsed": false,
    "pycharm": {
     "name": "#%%\n"
    }
   }
  },
  {
   "cell_type": "code",
   "execution_count": 89,
   "outputs": [
    {
     "data": {
      "text/plain": "1000"
     },
     "execution_count": 89,
     "metadata": {},
     "output_type": "execute_result"
    }
   ],
   "source": [
    "df.to_sql('german_credit_not_unique', con, index=False, if_exists='replace')"
   ],
   "metadata": {
    "collapsed": false,
    "pycharm": {
     "name": "#%%\n"
    }
   }
  },
  {
   "cell_type": "code",
   "execution_count": 90,
   "outputs": [],
   "source": [
    "sql = '''select date(t.contract_dt, 'start of month') as month,\n",
    "count(*) as credit_cnt,\n",
    "count(distinct t.client_id_2) as id_unique,\n",
    "sum(t.credit_amount) as credit_amount_sum,\n",
    "avg(t.credit_amount) as credit_amount_avg\n",
    "\n",
    "\n",
    "from german_credit_not_unique t\n",
    "group by date(t.contract_dt, 'start of month')\n",
    "order by date(t.contract_dt, 'start of month')\n",
    "'''"
   ],
   "metadata": {
    "collapsed": false,
    "pycharm": {
     "name": "#%%\n"
    }
   }
  },
  {
   "cell_type": "code",
   "execution_count": 91,
   "outputs": [
    {
     "data": {
      "text/plain": "         month  credit_cnt  id_unique  credit_amount_sum  credit_amount_avg\n0   2007-05-01          81         74             207663        2563.740741\n1   2007-06-01          74         69             239594        3237.756757\n2   2007-07-01          71         66             224333        3159.619718\n3   2007-08-01          57         55             178569        3132.789474\n4   2007-09-01          58         57             186909        3222.568966\n5   2007-10-01          70         66             188534        2693.342857\n6   2007-11-01          87         78             300504        3454.068966\n7   2007-12-01          77         76             273973        3558.090909\n8   2008-01-01          93         83             288080        3097.634409\n9   2008-02-01          55         51             211128        3838.690909\n10  2008-03-01          63         58             204944        3253.079365\n11  2008-04-01          85         75             305409        3593.047059\n12  2008-05-01          67         65             263043        3926.014925\n13  2008-06-01          62         56             198575        3202.822581",
      "text/html": "<div>\n<style scoped>\n    .dataframe tbody tr th:only-of-type {\n        vertical-align: middle;\n    }\n\n    .dataframe tbody tr th {\n        vertical-align: top;\n    }\n\n    .dataframe thead th {\n        text-align: right;\n    }\n</style>\n<table border=\"1\" class=\"dataframe\">\n  <thead>\n    <tr style=\"text-align: right;\">\n      <th></th>\n      <th>month</th>\n      <th>credit_cnt</th>\n      <th>id_unique</th>\n      <th>credit_amount_sum</th>\n      <th>credit_amount_avg</th>\n    </tr>\n  </thead>\n  <tbody>\n    <tr>\n      <th>0</th>\n      <td>2007-05-01</td>\n      <td>81</td>\n      <td>74</td>\n      <td>207663</td>\n      <td>2563.740741</td>\n    </tr>\n    <tr>\n      <th>1</th>\n      <td>2007-06-01</td>\n      <td>74</td>\n      <td>69</td>\n      <td>239594</td>\n      <td>3237.756757</td>\n    </tr>\n    <tr>\n      <th>2</th>\n      <td>2007-07-01</td>\n      <td>71</td>\n      <td>66</td>\n      <td>224333</td>\n      <td>3159.619718</td>\n    </tr>\n    <tr>\n      <th>3</th>\n      <td>2007-08-01</td>\n      <td>57</td>\n      <td>55</td>\n      <td>178569</td>\n      <td>3132.789474</td>\n    </tr>\n    <tr>\n      <th>4</th>\n      <td>2007-09-01</td>\n      <td>58</td>\n      <td>57</td>\n      <td>186909</td>\n      <td>3222.568966</td>\n    </tr>\n    <tr>\n      <th>5</th>\n      <td>2007-10-01</td>\n      <td>70</td>\n      <td>66</td>\n      <td>188534</td>\n      <td>2693.342857</td>\n    </tr>\n    <tr>\n      <th>6</th>\n      <td>2007-11-01</td>\n      <td>87</td>\n      <td>78</td>\n      <td>300504</td>\n      <td>3454.068966</td>\n    </tr>\n    <tr>\n      <th>7</th>\n      <td>2007-12-01</td>\n      <td>77</td>\n      <td>76</td>\n      <td>273973</td>\n      <td>3558.090909</td>\n    </tr>\n    <tr>\n      <th>8</th>\n      <td>2008-01-01</td>\n      <td>93</td>\n      <td>83</td>\n      <td>288080</td>\n      <td>3097.634409</td>\n    </tr>\n    <tr>\n      <th>9</th>\n      <td>2008-02-01</td>\n      <td>55</td>\n      <td>51</td>\n      <td>211128</td>\n      <td>3838.690909</td>\n    </tr>\n    <tr>\n      <th>10</th>\n      <td>2008-03-01</td>\n      <td>63</td>\n      <td>58</td>\n      <td>204944</td>\n      <td>3253.079365</td>\n    </tr>\n    <tr>\n      <th>11</th>\n      <td>2008-04-01</td>\n      <td>85</td>\n      <td>75</td>\n      <td>305409</td>\n      <td>3593.047059</td>\n    </tr>\n    <tr>\n      <th>12</th>\n      <td>2008-05-01</td>\n      <td>67</td>\n      <td>65</td>\n      <td>263043</td>\n      <td>3926.014925</td>\n    </tr>\n    <tr>\n      <th>13</th>\n      <td>2008-06-01</td>\n      <td>62</td>\n      <td>56</td>\n      <td>198575</td>\n      <td>3202.822581</td>\n    </tr>\n  </tbody>\n</table>\n</div>"
     },
     "execution_count": 91,
     "metadata": {},
     "output_type": "execute_result"
    }
   ],
   "source": [
    "select(sql)"
   ],
   "metadata": {
    "collapsed": false,
    "pycharm": {
     "name": "#%%\n"
    }
   }
  },
  {
   "cell_type": "markdown",
   "source": [
    "## Интервалы (бины или бакеты)"
   ],
   "metadata": {
    "collapsed": false,
    "pycharm": {
     "name": "#%% md\n"
    }
   }
  },
  {
   "cell_type": "markdown",
   "source": [
    "Посчитаем уникальные значения credit amount"
   ],
   "metadata": {
    "collapsed": false,
    "pycharm": {
     "name": "#%% md\n"
    }
   }
  },
  {
   "cell_type": "code",
   "execution_count": 92,
   "outputs": [],
   "source": [
    "sql = '''select count(distinct t.credit_amount) from german_credit t'''"
   ],
   "metadata": {
    "collapsed": false,
    "pycharm": {
     "name": "#%%\n"
    }
   }
  },
  {
   "cell_type": "code",
   "execution_count": 93,
   "outputs": [
    {
     "data": {
      "text/plain": "   count(distinct t.credit_amount)\n0                              921",
      "text/html": "<div>\n<style scoped>\n    .dataframe tbody tr th:only-of-type {\n        vertical-align: middle;\n    }\n\n    .dataframe tbody tr th {\n        vertical-align: top;\n    }\n\n    .dataframe thead th {\n        text-align: right;\n    }\n</style>\n<table border=\"1\" class=\"dataframe\">\n  <thead>\n    <tr style=\"text-align: right;\">\n      <th></th>\n      <th>count(distinct t.credit_amount)</th>\n    </tr>\n  </thead>\n  <tbody>\n    <tr>\n      <th>0</th>\n      <td>921</td>\n    </tr>\n  </tbody>\n</table>\n</div>"
     },
     "execution_count": 93,
     "metadata": {},
     "output_type": "execute_result"
    }
   ],
   "source": [
    "select(sql)"
   ],
   "metadata": {
    "collapsed": false,
    "pycharm": {
     "name": "#%%\n"
    }
   }
  },
  {
   "cell_type": "markdown",
   "source": [
    "Т.к. уникальных значений очень много, имеет смысл разбить их на интервалы"
   ],
   "metadata": {
    "collapsed": false,
    "pycharm": {
     "name": "#%% md\n"
    }
   }
  },
  {
   "cell_type": "code",
   "execution_count": 94,
   "outputs": [],
   "source": [
    "sql = '''select credit_amount,\n",
    "case when t.credit_amount < 1000 then '1. < 1000'\n",
    "when t.credit_amount < 2000 then '2. 1000 - 2000'\n",
    "when t.credit_amount < 3000 then '3. 2000 - 3000'\n",
    "when t.credit_amount >= 3000 then '4. >= 3000'\n",
    "\n",
    "else 'other' end as credit_amount_bin\n",
    "\n",
    "from german_credit t'''"
   ],
   "metadata": {
    "collapsed": false,
    "pycharm": {
     "name": "#%%\n"
    }
   }
  },
  {
   "cell_type": "code",
   "execution_count": 95,
   "outputs": [
    {
     "data": {
      "text/plain": "     credit_amount credit_amount_bin\n0             3074        4. >= 3000\n1             1344    2. 1000 - 2000\n2              936         1. < 1000\n3             1393    2. 1000 - 2000\n4              776         1. < 1000\n..             ...               ...\n995           2600    3. 2000 - 3000\n996           4455        4. >= 3000\n997           6403        4. >= 3000\n998           5003        4. >= 3000\n999           1804    2. 1000 - 2000\n\n[1000 rows x 2 columns]",
      "text/html": "<div>\n<style scoped>\n    .dataframe tbody tr th:only-of-type {\n        vertical-align: middle;\n    }\n\n    .dataframe tbody tr th {\n        vertical-align: top;\n    }\n\n    .dataframe thead th {\n        text-align: right;\n    }\n</style>\n<table border=\"1\" class=\"dataframe\">\n  <thead>\n    <tr style=\"text-align: right;\">\n      <th></th>\n      <th>credit_amount</th>\n      <th>credit_amount_bin</th>\n    </tr>\n  </thead>\n  <tbody>\n    <tr>\n      <th>0</th>\n      <td>3074</td>\n      <td>4. &gt;= 3000</td>\n    </tr>\n    <tr>\n      <th>1</th>\n      <td>1344</td>\n      <td>2. 1000 - 2000</td>\n    </tr>\n    <tr>\n      <th>2</th>\n      <td>936</td>\n      <td>1. &lt; 1000</td>\n    </tr>\n    <tr>\n      <th>3</th>\n      <td>1393</td>\n      <td>2. 1000 - 2000</td>\n    </tr>\n    <tr>\n      <th>4</th>\n      <td>776</td>\n      <td>1. &lt; 1000</td>\n    </tr>\n    <tr>\n      <th>...</th>\n      <td>...</td>\n      <td>...</td>\n    </tr>\n    <tr>\n      <th>995</th>\n      <td>2600</td>\n      <td>3. 2000 - 3000</td>\n    </tr>\n    <tr>\n      <th>996</th>\n      <td>4455</td>\n      <td>4. &gt;= 3000</td>\n    </tr>\n    <tr>\n      <th>997</th>\n      <td>6403</td>\n      <td>4. &gt;= 3000</td>\n    </tr>\n    <tr>\n      <th>998</th>\n      <td>5003</td>\n      <td>4. &gt;= 3000</td>\n    </tr>\n    <tr>\n      <th>999</th>\n      <td>1804</td>\n      <td>2. 1000 - 2000</td>\n    </tr>\n  </tbody>\n</table>\n<p>1000 rows × 2 columns</p>\n</div>"
     },
     "execution_count": 95,
     "metadata": {},
     "output_type": "execute_result"
    }
   ],
   "source": [
    "select(sql)"
   ],
   "metadata": {
    "collapsed": false,
    "pycharm": {
     "name": "#%%\n"
    }
   }
  },
  {
   "cell_type": "markdown",
   "source": [
    "Количество кредитов в каждой категории:"
   ],
   "metadata": {
    "collapsed": false,
    "pycharm": {
     "name": "#%% md\n"
    }
   }
  },
  {
   "cell_type": "code",
   "execution_count": 96,
   "outputs": [],
   "source": [
    "sql = '''select\n",
    "case when t.credit_amount < 1000 then '1. < 1000'\n",
    "when t.credit_amount < 2000 then '2. 1000 - 2000'\n",
    "when t.credit_amount < 3000 then '3. 2000 - 3000'\n",
    "when t.credit_amount >= 3000 then '4. >= 3000'\n",
    "\n",
    "else 'other' end as credit_amount_bin,\n",
    "\n",
    "count(*)\n",
    "\n",
    "from german_credit t\n",
    "group by case when t.credit_amount < 1000 then '1. < 1000'\n",
    "when t.credit_amount < 2000 then '2. 1000 - 2000'\n",
    "when t.credit_amount < 3000 then '3. 2000 - 3000'\n",
    "when t.credit_amount >= 3000 then '4. >= 3000'\n",
    "\n",
    "else 'other' end'''"
   ],
   "metadata": {
    "collapsed": false,
    "pycharm": {
     "name": "#%%\n"
    }
   }
  },
  {
   "cell_type": "code",
   "execution_count": 97,
   "outputs": [
    {
     "data": {
      "text/plain": "  credit_amount_bin  count(*)\n0         1. < 1000       116\n1    2. 1000 - 2000       316\n2    3. 2000 - 3000       188\n3        4. >= 3000       380",
      "text/html": "<div>\n<style scoped>\n    .dataframe tbody tr th:only-of-type {\n        vertical-align: middle;\n    }\n\n    .dataframe tbody tr th {\n        vertical-align: top;\n    }\n\n    .dataframe thead th {\n        text-align: right;\n    }\n</style>\n<table border=\"1\" class=\"dataframe\">\n  <thead>\n    <tr style=\"text-align: right;\">\n      <th></th>\n      <th>credit_amount_bin</th>\n      <th>count(*)</th>\n    </tr>\n  </thead>\n  <tbody>\n    <tr>\n      <th>0</th>\n      <td>1. &lt; 1000</td>\n      <td>116</td>\n    </tr>\n    <tr>\n      <th>1</th>\n      <td>2. 1000 - 2000</td>\n      <td>316</td>\n    </tr>\n    <tr>\n      <th>2</th>\n      <td>3. 2000 - 3000</td>\n      <td>188</td>\n    </tr>\n    <tr>\n      <th>3</th>\n      <td>4. &gt;= 3000</td>\n      <td>380</td>\n    </tr>\n  </tbody>\n</table>\n</div>"
     },
     "execution_count": 97,
     "metadata": {},
     "output_type": "execute_result"
    }
   ],
   "source": [
    "select(sql)"
   ],
   "metadata": {
    "collapsed": false,
    "pycharm": {
     "name": "#%%\n"
    }
   }
  },
  {
   "cell_type": "markdown",
   "source": [
    "Запрос можно записать менее явно:"
   ],
   "metadata": {
    "collapsed": false,
    "pycharm": {
     "name": "#%% md\n"
    }
   }
  },
  {
   "cell_type": "code",
   "execution_count": 98,
   "outputs": [],
   "source": [
    "sql = '''select\n",
    "\n",
    "case\n",
    "when t.credit_amount < 1000 then '1. <1000'\n",
    "when t.credit_amount < 2000 then '2. 1000-2000'\n",
    "when t.credit_amount < 3000 then '3. 2000-3000'\n",
    "when t.credit_amount >= 3000 then '4. >= 3000'\n",
    "\n",
    "else 'other' end as credit_amount_bin,\n",
    "\n",
    "count(*) as credit_cnt\n",
    "\n",
    " from german_credit t\n",
    " group by credit_amount_bin\n",
    " '''"
   ],
   "metadata": {
    "collapsed": false,
    "pycharm": {
     "name": "#%%\n"
    }
   }
  },
  {
   "cell_type": "code",
   "execution_count": 99,
   "outputs": [
    {
     "data": {
      "text/plain": "  credit_amount_bin  credit_cnt\n0          1. <1000         116\n1      2. 1000-2000         316\n2      3. 2000-3000         188\n3        4. >= 3000         380",
      "text/html": "<div>\n<style scoped>\n    .dataframe tbody tr th:only-of-type {\n        vertical-align: middle;\n    }\n\n    .dataframe tbody tr th {\n        vertical-align: top;\n    }\n\n    .dataframe thead th {\n        text-align: right;\n    }\n</style>\n<table border=\"1\" class=\"dataframe\">\n  <thead>\n    <tr style=\"text-align: right;\">\n      <th></th>\n      <th>credit_amount_bin</th>\n      <th>credit_cnt</th>\n    </tr>\n  </thead>\n  <tbody>\n    <tr>\n      <th>0</th>\n      <td>1. &lt;1000</td>\n      <td>116</td>\n    </tr>\n    <tr>\n      <th>1</th>\n      <td>2. 1000-2000</td>\n      <td>316</td>\n    </tr>\n    <tr>\n      <th>2</th>\n      <td>3. 2000-3000</td>\n      <td>188</td>\n    </tr>\n    <tr>\n      <th>3</th>\n      <td>4. &gt;= 3000</td>\n      <td>380</td>\n    </tr>\n  </tbody>\n</table>\n</div>"
     },
     "execution_count": 99,
     "metadata": {},
     "output_type": "execute_result"
    }
   ],
   "source": [
    "select(sql)"
   ],
   "metadata": {
    "collapsed": false,
    "pycharm": {
     "name": "#%%\n"
    }
   }
  },
  {
   "cell_type": "markdown",
   "source": [
    "## Столбцы сводной таблицы"
   ],
   "metadata": {
    "collapsed": false,
    "pycharm": {
     "name": "#%% md\n"
    }
   }
  },
  {
   "cell_type": "markdown",
   "source": [
    "Поработаем со сводными таблицами"
   ],
   "metadata": {
    "collapsed": false,
    "pycharm": {
     "name": "#%% md\n"
    }
   }
  },
  {
   "cell_type": "code",
   "execution_count": 100,
   "outputs": [],
   "source": [
    "sql = '''select * from german_credit t'''"
   ],
   "metadata": {
    "collapsed": false,
    "pycharm": {
     "name": "#%%\n"
    }
   }
  },
  {
   "cell_type": "code",
   "execution_count": 101,
   "outputs": [
    {
     "data": {
      "text/plain": "     age     sex  job housing saving_accounts checking_account  credit_amount  \\\n0     33    male    2     own            None             None           3074   \n1     43    male    1     own          little           little           1344   \n2     52    male    2     own      quite rich             None            936   \n3     35  female    3     own          little             None           1393   \n4     28    male    2     own          little             None            776   \n..   ...     ...  ...     ...             ...              ...            ...   \n995   65    male    2    free          little           little           2600   \n996   30    male    3     own          little         moderate           4455   \n997   33    male    2     own          little         moderate           6403   \n998   29  female    2     own            None             None           5003   \n999   44    male    2     own        moderate         moderate           1804   \n\n     duration    purpose  default          contract_dt  client_id  \n0           9   radio/TV        0  2008-06-29 18:52:00        210  \n1          12        car        0  2007-05-20 18:30:19        929  \n2           9  education        0  2008-04-27 08:23:07        200  \n3          11        car        0  2007-05-06 10:58:22         45  \n4          12   radio/TV        0  2007-07-21 13:22:14        358  \n..        ...        ...      ...                  ...        ...  \n995        18   radio/TV        1  2007-12-16 20:17:19        624  \n996        36   business        1  2007-07-12 14:08:58        181  \n997        24   radio/TV        0  2008-04-08 03:24:26        730  \n998        21        car        1  2007-11-29 15:51:45        557  \n999        12        car        0  2007-08-14 09:05:33         23  \n\n[1000 rows x 12 columns]",
      "text/html": "<div>\n<style scoped>\n    .dataframe tbody tr th:only-of-type {\n        vertical-align: middle;\n    }\n\n    .dataframe tbody tr th {\n        vertical-align: top;\n    }\n\n    .dataframe thead th {\n        text-align: right;\n    }\n</style>\n<table border=\"1\" class=\"dataframe\">\n  <thead>\n    <tr style=\"text-align: right;\">\n      <th></th>\n      <th>age</th>\n      <th>sex</th>\n      <th>job</th>\n      <th>housing</th>\n      <th>saving_accounts</th>\n      <th>checking_account</th>\n      <th>credit_amount</th>\n      <th>duration</th>\n      <th>purpose</th>\n      <th>default</th>\n      <th>contract_dt</th>\n      <th>client_id</th>\n    </tr>\n  </thead>\n  <tbody>\n    <tr>\n      <th>0</th>\n      <td>33</td>\n      <td>male</td>\n      <td>2</td>\n      <td>own</td>\n      <td>None</td>\n      <td>None</td>\n      <td>3074</td>\n      <td>9</td>\n      <td>radio/TV</td>\n      <td>0</td>\n      <td>2008-06-29 18:52:00</td>\n      <td>210</td>\n    </tr>\n    <tr>\n      <th>1</th>\n      <td>43</td>\n      <td>male</td>\n      <td>1</td>\n      <td>own</td>\n      <td>little</td>\n      <td>little</td>\n      <td>1344</td>\n      <td>12</td>\n      <td>car</td>\n      <td>0</td>\n      <td>2007-05-20 18:30:19</td>\n      <td>929</td>\n    </tr>\n    <tr>\n      <th>2</th>\n      <td>52</td>\n      <td>male</td>\n      <td>2</td>\n      <td>own</td>\n      <td>quite rich</td>\n      <td>None</td>\n      <td>936</td>\n      <td>9</td>\n      <td>education</td>\n      <td>0</td>\n      <td>2008-04-27 08:23:07</td>\n      <td>200</td>\n    </tr>\n    <tr>\n      <th>3</th>\n      <td>35</td>\n      <td>female</td>\n      <td>3</td>\n      <td>own</td>\n      <td>little</td>\n      <td>None</td>\n      <td>1393</td>\n      <td>11</td>\n      <td>car</td>\n      <td>0</td>\n      <td>2007-05-06 10:58:22</td>\n      <td>45</td>\n    </tr>\n    <tr>\n      <th>4</th>\n      <td>28</td>\n      <td>male</td>\n      <td>2</td>\n      <td>own</td>\n      <td>little</td>\n      <td>None</td>\n      <td>776</td>\n      <td>12</td>\n      <td>radio/TV</td>\n      <td>0</td>\n      <td>2007-07-21 13:22:14</td>\n      <td>358</td>\n    </tr>\n    <tr>\n      <th>...</th>\n      <td>...</td>\n      <td>...</td>\n      <td>...</td>\n      <td>...</td>\n      <td>...</td>\n      <td>...</td>\n      <td>...</td>\n      <td>...</td>\n      <td>...</td>\n      <td>...</td>\n      <td>...</td>\n      <td>...</td>\n    </tr>\n    <tr>\n      <th>995</th>\n      <td>65</td>\n      <td>male</td>\n      <td>2</td>\n      <td>free</td>\n      <td>little</td>\n      <td>little</td>\n      <td>2600</td>\n      <td>18</td>\n      <td>radio/TV</td>\n      <td>1</td>\n      <td>2007-12-16 20:17:19</td>\n      <td>624</td>\n    </tr>\n    <tr>\n      <th>996</th>\n      <td>30</td>\n      <td>male</td>\n      <td>3</td>\n      <td>own</td>\n      <td>little</td>\n      <td>moderate</td>\n      <td>4455</td>\n      <td>36</td>\n      <td>business</td>\n      <td>1</td>\n      <td>2007-07-12 14:08:58</td>\n      <td>181</td>\n    </tr>\n    <tr>\n      <th>997</th>\n      <td>33</td>\n      <td>male</td>\n      <td>2</td>\n      <td>own</td>\n      <td>little</td>\n      <td>moderate</td>\n      <td>6403</td>\n      <td>24</td>\n      <td>radio/TV</td>\n      <td>0</td>\n      <td>2008-04-08 03:24:26</td>\n      <td>730</td>\n    </tr>\n    <tr>\n      <th>998</th>\n      <td>29</td>\n      <td>female</td>\n      <td>2</td>\n      <td>own</td>\n      <td>None</td>\n      <td>None</td>\n      <td>5003</td>\n      <td>21</td>\n      <td>car</td>\n      <td>1</td>\n      <td>2007-11-29 15:51:45</td>\n      <td>557</td>\n    </tr>\n    <tr>\n      <th>999</th>\n      <td>44</td>\n      <td>male</td>\n      <td>2</td>\n      <td>own</td>\n      <td>moderate</td>\n      <td>moderate</td>\n      <td>1804</td>\n      <td>12</td>\n      <td>car</td>\n      <td>0</td>\n      <td>2007-08-14 09:05:33</td>\n      <td>23</td>\n    </tr>\n  </tbody>\n</table>\n<p>1000 rows × 12 columns</p>\n</div>"
     },
     "execution_count": 101,
     "metadata": {},
     "output_type": "execute_result"
    }
   ],
   "source": [
    "select(sql)"
   ],
   "metadata": {
    "collapsed": false,
    "pycharm": {
     "name": "#%%\n"
    }
   }
  },
  {
   "cell_type": "code",
   "execution_count": 102,
   "outputs": [],
   "source": [
    "sql = '''select t.housing, count(*) as cnt from german_credit t\n",
    "group by t.housing'''"
   ],
   "metadata": {
    "collapsed": false,
    "pycharm": {
     "name": "#%%\n"
    }
   }
  },
  {
   "cell_type": "code",
   "execution_count": 103,
   "outputs": [
    {
     "data": {
      "text/plain": "  housing  cnt\n0    free  108\n1     own  713\n2    rent  179",
      "text/html": "<div>\n<style scoped>\n    .dataframe tbody tr th:only-of-type {\n        vertical-align: middle;\n    }\n\n    .dataframe tbody tr th {\n        vertical-align: top;\n    }\n\n    .dataframe thead th {\n        text-align: right;\n    }\n</style>\n<table border=\"1\" class=\"dataframe\">\n  <thead>\n    <tr style=\"text-align: right;\">\n      <th></th>\n      <th>housing</th>\n      <th>cnt</th>\n    </tr>\n  </thead>\n  <tbody>\n    <tr>\n      <th>0</th>\n      <td>free</td>\n      <td>108</td>\n    </tr>\n    <tr>\n      <th>1</th>\n      <td>own</td>\n      <td>713</td>\n    </tr>\n    <tr>\n      <th>2</th>\n      <td>rent</td>\n      <td>179</td>\n    </tr>\n  </tbody>\n</table>\n</div>"
     },
     "execution_count": 103,
     "metadata": {},
     "output_type": "execute_result"
    }
   ],
   "source": [
    "select(sql)"
   ],
   "metadata": {
    "collapsed": false,
    "pycharm": {
     "name": "#%%\n"
    }
   }
  },
  {
   "cell_type": "code",
   "execution_count": 104,
   "outputs": [],
   "source": [
    "sql = '''select t.housing,\n",
    "count (case when t.sex = 'female' then 1 else null end) as female,\n",
    "count (case when t.sex = 'male' then 1 else null end) as male,\n",
    "\n",
    "\n",
    "count(*) as cnt from german_credit t\n",
    "group by t.housing'''"
   ],
   "metadata": {
    "collapsed": false,
    "pycharm": {
     "name": "#%%\n"
    }
   }
  },
  {
   "cell_type": "code",
   "execution_count": 105,
   "outputs": [
    {
     "data": {
      "text/plain": "  housing  female  male  cnt\n0    free      19    89  108\n1     own     196   517  713\n2    rent      95    84  179",
      "text/html": "<div>\n<style scoped>\n    .dataframe tbody tr th:only-of-type {\n        vertical-align: middle;\n    }\n\n    .dataframe tbody tr th {\n        vertical-align: top;\n    }\n\n    .dataframe thead th {\n        text-align: right;\n    }\n</style>\n<table border=\"1\" class=\"dataframe\">\n  <thead>\n    <tr style=\"text-align: right;\">\n      <th></th>\n      <th>housing</th>\n      <th>female</th>\n      <th>male</th>\n      <th>cnt</th>\n    </tr>\n  </thead>\n  <tbody>\n    <tr>\n      <th>0</th>\n      <td>free</td>\n      <td>19</td>\n      <td>89</td>\n      <td>108</td>\n    </tr>\n    <tr>\n      <th>1</th>\n      <td>own</td>\n      <td>196</td>\n      <td>517</td>\n      <td>713</td>\n    </tr>\n    <tr>\n      <th>2</th>\n      <td>rent</td>\n      <td>95</td>\n      <td>84</td>\n      <td>179</td>\n    </tr>\n  </tbody>\n</table>\n</div>"
     },
     "execution_count": 105,
     "metadata": {},
     "output_type": "execute_result"
    }
   ],
   "source": [
    "select(sql)"
   ],
   "metadata": {
    "collapsed": false,
    "pycharm": {
     "name": "#%%\n"
    }
   }
  },
  {
   "cell_type": "markdown",
   "source": [
    "Посмотрим уникальные значение целей кредита"
   ],
   "metadata": {
    "collapsed": false,
    "pycharm": {
     "name": "#%% md\n"
    }
   }
  },
  {
   "cell_type": "code",
   "execution_count": 106,
   "outputs": [],
   "source": [
    "sql = '''select distinct t.purpose from german_credit t'''"
   ],
   "metadata": {
    "collapsed": false,
    "pycharm": {
     "name": "#%%\n"
    }
   }
  },
  {
   "cell_type": "code",
   "execution_count": 107,
   "outputs": [
    {
     "data": {
      "text/plain": "               purpose\n0             radio/TV\n1                  car\n2            education\n3  furniture/equipment\n4              repairs\n5             business\n6  domestic appliances\n7      vacation/others",
      "text/html": "<div>\n<style scoped>\n    .dataframe tbody tr th:only-of-type {\n        vertical-align: middle;\n    }\n\n    .dataframe tbody tr th {\n        vertical-align: top;\n    }\n\n    .dataframe thead th {\n        text-align: right;\n    }\n</style>\n<table border=\"1\" class=\"dataframe\">\n  <thead>\n    <tr style=\"text-align: right;\">\n      <th></th>\n      <th>purpose</th>\n    </tr>\n  </thead>\n  <tbody>\n    <tr>\n      <th>0</th>\n      <td>radio/TV</td>\n    </tr>\n    <tr>\n      <th>1</th>\n      <td>car</td>\n    </tr>\n    <tr>\n      <th>2</th>\n      <td>education</td>\n    </tr>\n    <tr>\n      <th>3</th>\n      <td>furniture/equipment</td>\n    </tr>\n    <tr>\n      <th>4</th>\n      <td>repairs</td>\n    </tr>\n    <tr>\n      <th>5</th>\n      <td>business</td>\n    </tr>\n    <tr>\n      <th>6</th>\n      <td>domestic appliances</td>\n    </tr>\n    <tr>\n      <th>7</th>\n      <td>vacation/others</td>\n    </tr>\n  </tbody>\n</table>\n</div>"
     },
     "execution_count": 107,
     "metadata": {},
     "output_type": "execute_result"
    }
   ],
   "source": [
    "select(sql)"
   ],
   "metadata": {
    "collapsed": false,
    "pycharm": {
     "name": "#%%\n"
    }
   }
  },
  {
   "cell_type": "markdown",
   "source": [
    "Сохраним селект в список"
   ],
   "metadata": {
    "collapsed": false,
    "pycharm": {
     "name": "#%% md\n"
    }
   }
  },
  {
   "cell_type": "code",
   "execution_count": 108,
   "outputs": [],
   "source": [
    "purpose = list(select(sql)['purpose'].values)"
   ],
   "metadata": {
    "collapsed": false,
    "pycharm": {
     "name": "#%%\n"
    }
   }
  },
  {
   "cell_type": "code",
   "execution_count": 109,
   "outputs": [
    {
     "data": {
      "text/plain": "['radio/TV',\n 'car',\n 'education',\n 'furniture/equipment',\n 'repairs',\n 'business',\n 'domestic appliances',\n 'vacation/others']"
     },
     "execution_count": 109,
     "metadata": {},
     "output_type": "execute_result"
    }
   ],
   "source": [
    "purpose"
   ],
   "metadata": {
    "collapsed": false,
    "pycharm": {
     "name": "#%%\n"
    }
   }
  },
  {
   "cell_type": "code",
   "execution_count": 110,
   "outputs": [
    {
     "name": "stdout",
     "output_type": "stream",
     "text": [
      "count(case when t.purpose = 'radio/TV' then 1 else null end) as radiotv,\n",
      "count(case when t.purpose = 'car' then 1 else null end) as car,\n",
      "count(case when t.purpose = 'education' then 1 else null end) as education,\n",
      "count(case when t.purpose = 'furniture/equipment' then 1 else null end) as furnitureequipment,\n",
      "count(case when t.purpose = 'repairs' then 1 else null end) as repairs,\n",
      "count(case when t.purpose = 'business' then 1 else null end) as business,\n",
      "count(case when t.purpose = 'domestic appliances' then 1 else null end) as domesticappliances,\n",
      "count(case when t.purpose = 'vacation/others' then 1 else null end) as vacationothers,\n"
     ]
    }
   ],
   "source": [
    "for p in purpose:\n",
    "    print(f\"count(case when t.purpose = '{p}' then 1 else null end) as {p.lower().replace(' ', '').replace('/','')},\")"
   ],
   "metadata": {
    "collapsed": false,
    "pycharm": {
     "name": "#%%\n"
    }
   }
  },
  {
   "cell_type": "code",
   "execution_count": 111,
   "outputs": [],
   "source": [
    "sql = '''select t.housing,\n",
    "count(case when t.purpose = 'radio/TV' then 1 else null end) as radiotv,\n",
    "count(case when t.purpose = 'car' then 1 else null end) as car,\n",
    "count(case when t.purpose = 'education' then 1 else null end) as education,\n",
    "count(case when t.purpose = 'furniture/equipment' then 1 else null end) as furnitureequipment,\n",
    "count(case when t.purpose = 'repairs' then 1 else null end) as repairs,\n",
    "count(case when t.purpose = 'business' then 1 else null end) as business,\n",
    "count(case when t.purpose = 'domestic appliances' then 1 else null end) as domesticappliances,\n",
    "count(case when t.purpose = 'vacation/others' then 1 else null end) as vacationothers,\n",
    "\n",
    "count(*) as cnt from german_credit t\n",
    "group by t.housing'''"
   ],
   "metadata": {
    "collapsed": false,
    "pycharm": {
     "name": "#%%\n"
    }
   }
  },
  {
   "cell_type": "code",
   "execution_count": 112,
   "outputs": [
    {
     "data": {
      "text/plain": "  housing  radiotv  car  education  furnitureequipment  repairs  business  \\\n0    free       15   55         15                  11        3         5   \n1     own      227  219         34                 122       17        76   \n2    rent       38   63         10                  48        2        16   \n\n   domesticappliances  vacationothers  cnt  \n0                   0               4  108  \n1                  10               8  713  \n2                   2               0  179  ",
      "text/html": "<div>\n<style scoped>\n    .dataframe tbody tr th:only-of-type {\n        vertical-align: middle;\n    }\n\n    .dataframe tbody tr th {\n        vertical-align: top;\n    }\n\n    .dataframe thead th {\n        text-align: right;\n    }\n</style>\n<table border=\"1\" class=\"dataframe\">\n  <thead>\n    <tr style=\"text-align: right;\">\n      <th></th>\n      <th>housing</th>\n      <th>radiotv</th>\n      <th>car</th>\n      <th>education</th>\n      <th>furnitureequipment</th>\n      <th>repairs</th>\n      <th>business</th>\n      <th>domesticappliances</th>\n      <th>vacationothers</th>\n      <th>cnt</th>\n    </tr>\n  </thead>\n  <tbody>\n    <tr>\n      <th>0</th>\n      <td>free</td>\n      <td>15</td>\n      <td>55</td>\n      <td>15</td>\n      <td>11</td>\n      <td>3</td>\n      <td>5</td>\n      <td>0</td>\n      <td>4</td>\n      <td>108</td>\n    </tr>\n    <tr>\n      <th>1</th>\n      <td>own</td>\n      <td>227</td>\n      <td>219</td>\n      <td>34</td>\n      <td>122</td>\n      <td>17</td>\n      <td>76</td>\n      <td>10</td>\n      <td>8</td>\n      <td>713</td>\n    </tr>\n    <tr>\n      <th>2</th>\n      <td>rent</td>\n      <td>38</td>\n      <td>63</td>\n      <td>10</td>\n      <td>48</td>\n      <td>2</td>\n      <td>16</td>\n      <td>2</td>\n      <td>0</td>\n      <td>179</td>\n    </tr>\n  </tbody>\n</table>\n</div>"
     },
     "execution_count": 112,
     "metadata": {},
     "output_type": "execute_result"
    }
   ],
   "source": [
    "select(sql)"
   ],
   "metadata": {
    "collapsed": false,
    "pycharm": {
     "name": "#%%\n"
    }
   }
  },
  {
   "cell_type": "markdown",
   "source": [
    "## Категории из текстовых данных"
   ],
   "metadata": {
    "collapsed": false,
    "pycharm": {
     "name": "#%% md\n"
    }
   }
  },
  {
   "cell_type": "markdown",
   "source": [
    "Создадим таблицу с 1-им столбцом и зальём её в SQL"
   ],
   "metadata": {
    "collapsed": false,
    "pycharm": {
     "name": "#%% md\n"
    }
   }
  },
  {
   "cell_type": "code",
   "execution_count": 113,
   "outputs": [],
   "source": [
    "t = pd.DataFrame({'purpose':['машина','машина','машина','на машину','на покупку машины',\n",
    "                             'автомобиль','на возвращение 2007',\n",
    "                             'на свадьбу','свадьба','свадьба','свадьба','для свадьбы',\n",
    "                             'недвижимость','на покупку недвижимости']})"
   ],
   "metadata": {
    "collapsed": false,
    "pycharm": {
     "name": "#%%\n"
    }
   }
  },
  {
   "cell_type": "code",
   "execution_count": 114,
   "outputs": [
    {
     "data": {
      "text/plain": "                    purpose\n0                    машина\n1                    машина\n2                    машина\n3                 на машину\n4         на покупку машины\n5                автомобиль\n6       на возвращение 2007\n7                на свадьбу\n8                   свадьба\n9                   свадьба\n10                  свадьба\n11              для свадьбы\n12             недвижимость\n13  на покупку недвижимости",
      "text/html": "<div>\n<style scoped>\n    .dataframe tbody tr th:only-of-type {\n        vertical-align: middle;\n    }\n\n    .dataframe tbody tr th {\n        vertical-align: top;\n    }\n\n    .dataframe thead th {\n        text-align: right;\n    }\n</style>\n<table border=\"1\" class=\"dataframe\">\n  <thead>\n    <tr style=\"text-align: right;\">\n      <th></th>\n      <th>purpose</th>\n    </tr>\n  </thead>\n  <tbody>\n    <tr>\n      <th>0</th>\n      <td>машина</td>\n    </tr>\n    <tr>\n      <th>1</th>\n      <td>машина</td>\n    </tr>\n    <tr>\n      <th>2</th>\n      <td>машина</td>\n    </tr>\n    <tr>\n      <th>3</th>\n      <td>на машину</td>\n    </tr>\n    <tr>\n      <th>4</th>\n      <td>на покупку машины</td>\n    </tr>\n    <tr>\n      <th>5</th>\n      <td>автомобиль</td>\n    </tr>\n    <tr>\n      <th>6</th>\n      <td>на возвращение 2007</td>\n    </tr>\n    <tr>\n      <th>7</th>\n      <td>на свадьбу</td>\n    </tr>\n    <tr>\n      <th>8</th>\n      <td>свадьба</td>\n    </tr>\n    <tr>\n      <th>9</th>\n      <td>свадьба</td>\n    </tr>\n    <tr>\n      <th>10</th>\n      <td>свадьба</td>\n    </tr>\n    <tr>\n      <th>11</th>\n      <td>для свадьбы</td>\n    </tr>\n    <tr>\n      <th>12</th>\n      <td>недвижимость</td>\n    </tr>\n    <tr>\n      <th>13</th>\n      <td>на покупку недвижимости</td>\n    </tr>\n  </tbody>\n</table>\n</div>"
     },
     "execution_count": 114,
     "metadata": {},
     "output_type": "execute_result"
    }
   ],
   "source": [
    "t"
   ],
   "metadata": {
    "collapsed": false,
    "pycharm": {
     "name": "#%%\n"
    }
   }
  },
  {
   "cell_type": "code",
   "execution_count": 115,
   "outputs": [
    {
     "data": {
      "text/plain": "14"
     },
     "execution_count": 115,
     "metadata": {},
     "output_type": "execute_result"
    }
   ],
   "source": [
    "t.to_sql('purpose', con, index=False, if_exists='replace')"
   ],
   "metadata": {
    "collapsed": false,
    "pycharm": {
     "name": "#%%\n"
    }
   }
  },
  {
   "cell_type": "code",
   "execution_count": 116,
   "outputs": [
    {
     "data": {
      "text/plain": "   age     sex  job housing saving_accounts checking_account  credit_amount  \\\n0   33    male    2     own             NaN              NaN           3074   \n1   43    male    1     own          little           little           1344   \n2   52    male    2     own      quite rich              NaN            936   \n3   35  female    3     own          little              NaN           1393   \n4   28    male    2     own          little              NaN            776   \n\n   duration    purpose  default         contract_dt  client_id  client_id_2  \n0         9   radio/TV        0 2008-06-29 18:52:00        210          503  \n1        12        car        0 2007-05-20 18:30:19        929          514  \n2         9  education        0 2008-04-27 08:23:07        200          525  \n3        11        car        0 2007-05-06 10:58:22         45           63  \n4        12   radio/TV        0 2007-07-21 13:22:14        358          162  ",
      "text/html": "<div>\n<style scoped>\n    .dataframe tbody tr th:only-of-type {\n        vertical-align: middle;\n    }\n\n    .dataframe tbody tr th {\n        vertical-align: top;\n    }\n\n    .dataframe thead th {\n        text-align: right;\n    }\n</style>\n<table border=\"1\" class=\"dataframe\">\n  <thead>\n    <tr style=\"text-align: right;\">\n      <th></th>\n      <th>age</th>\n      <th>sex</th>\n      <th>job</th>\n      <th>housing</th>\n      <th>saving_accounts</th>\n      <th>checking_account</th>\n      <th>credit_amount</th>\n      <th>duration</th>\n      <th>purpose</th>\n      <th>default</th>\n      <th>contract_dt</th>\n      <th>client_id</th>\n      <th>client_id_2</th>\n    </tr>\n  </thead>\n  <tbody>\n    <tr>\n      <th>0</th>\n      <td>33</td>\n      <td>male</td>\n      <td>2</td>\n      <td>own</td>\n      <td>NaN</td>\n      <td>NaN</td>\n      <td>3074</td>\n      <td>9</td>\n      <td>radio/TV</td>\n      <td>0</td>\n      <td>2008-06-29 18:52:00</td>\n      <td>210</td>\n      <td>503</td>\n    </tr>\n    <tr>\n      <th>1</th>\n      <td>43</td>\n      <td>male</td>\n      <td>1</td>\n      <td>own</td>\n      <td>little</td>\n      <td>little</td>\n      <td>1344</td>\n      <td>12</td>\n      <td>car</td>\n      <td>0</td>\n      <td>2007-05-20 18:30:19</td>\n      <td>929</td>\n      <td>514</td>\n    </tr>\n    <tr>\n      <th>2</th>\n      <td>52</td>\n      <td>male</td>\n      <td>2</td>\n      <td>own</td>\n      <td>quite rich</td>\n      <td>NaN</td>\n      <td>936</td>\n      <td>9</td>\n      <td>education</td>\n      <td>0</td>\n      <td>2008-04-27 08:23:07</td>\n      <td>200</td>\n      <td>525</td>\n    </tr>\n    <tr>\n      <th>3</th>\n      <td>35</td>\n      <td>female</td>\n      <td>3</td>\n      <td>own</td>\n      <td>little</td>\n      <td>NaN</td>\n      <td>1393</td>\n      <td>11</td>\n      <td>car</td>\n      <td>0</td>\n      <td>2007-05-06 10:58:22</td>\n      <td>45</td>\n      <td>63</td>\n    </tr>\n    <tr>\n      <th>4</th>\n      <td>28</td>\n      <td>male</td>\n      <td>2</td>\n      <td>own</td>\n      <td>little</td>\n      <td>NaN</td>\n      <td>776</td>\n      <td>12</td>\n      <td>radio/TV</td>\n      <td>0</td>\n      <td>2007-07-21 13:22:14</td>\n      <td>358</td>\n      <td>162</td>\n    </tr>\n  </tbody>\n</table>\n</div>"
     },
     "execution_count": 116,
     "metadata": {},
     "output_type": "execute_result"
    }
   ],
   "source": [
    "df.head()"
   ],
   "metadata": {
    "collapsed": false,
    "pycharm": {
     "name": "#%%\n"
    }
   }
  },
  {
   "cell_type": "code",
   "execution_count": 117,
   "outputs": [],
   "source": [
    "sql = '''select * from purpose t'''"
   ],
   "metadata": {
    "collapsed": false,
    "pycharm": {
     "name": "#%%\n"
    }
   }
  },
  {
   "cell_type": "code",
   "execution_count": 118,
   "outputs": [
    {
     "data": {
      "text/plain": "                    purpose\n0                    машина\n1                    машина\n2                    машина\n3                 на машину\n4         на покупку машины\n5                автомобиль\n6       на возвращение 2007\n7                на свадьбу\n8                   свадьба\n9                   свадьба\n10                  свадьба\n11              для свадьбы\n12             недвижимость\n13  на покупку недвижимости",
      "text/html": "<div>\n<style scoped>\n    .dataframe tbody tr th:only-of-type {\n        vertical-align: middle;\n    }\n\n    .dataframe tbody tr th {\n        vertical-align: top;\n    }\n\n    .dataframe thead th {\n        text-align: right;\n    }\n</style>\n<table border=\"1\" class=\"dataframe\">\n  <thead>\n    <tr style=\"text-align: right;\">\n      <th></th>\n      <th>purpose</th>\n    </tr>\n  </thead>\n  <tbody>\n    <tr>\n      <th>0</th>\n      <td>машина</td>\n    </tr>\n    <tr>\n      <th>1</th>\n      <td>машина</td>\n    </tr>\n    <tr>\n      <th>2</th>\n      <td>машина</td>\n    </tr>\n    <tr>\n      <th>3</th>\n      <td>на машину</td>\n    </tr>\n    <tr>\n      <th>4</th>\n      <td>на покупку машины</td>\n    </tr>\n    <tr>\n      <th>5</th>\n      <td>автомобиль</td>\n    </tr>\n    <tr>\n      <th>6</th>\n      <td>на возвращение 2007</td>\n    </tr>\n    <tr>\n      <th>7</th>\n      <td>на свадьбу</td>\n    </tr>\n    <tr>\n      <th>8</th>\n      <td>свадьба</td>\n    </tr>\n    <tr>\n      <th>9</th>\n      <td>свадьба</td>\n    </tr>\n    <tr>\n      <th>10</th>\n      <td>свадьба</td>\n    </tr>\n    <tr>\n      <th>11</th>\n      <td>для свадьбы</td>\n    </tr>\n    <tr>\n      <th>12</th>\n      <td>недвижимость</td>\n    </tr>\n    <tr>\n      <th>13</th>\n      <td>на покупку недвижимости</td>\n    </tr>\n  </tbody>\n</table>\n</div>"
     },
     "execution_count": 118,
     "metadata": {},
     "output_type": "execute_result"
    }
   ],
   "source": [
    "select(sql)"
   ],
   "metadata": {
    "collapsed": false,
    "pycharm": {
     "name": "#%%\n"
    }
   }
  },
  {
   "cell_type": "markdown",
   "source": [
    "Начнём с агрегации части всех слов"
   ],
   "metadata": {
    "collapsed": false,
    "pycharm": {
     "name": "#%% md\n"
    }
   }
  },
  {
   "cell_type": "code",
   "execution_count": 119,
   "outputs": [],
   "source": [
    "sql = '''select t.purpose,\n",
    "case when t.purpose like '%свадьб%' then 'свадьба'\n",
    "else 'другое' end as purpose_cut\n",
    "\n",
    "\n",
    "from purpose t'''"
   ],
   "metadata": {
    "collapsed": false,
    "pycharm": {
     "name": "#%%\n"
    }
   }
  },
  {
   "cell_type": "code",
   "execution_count": 120,
   "outputs": [
    {
     "data": {
      "text/plain": "                    purpose purpose_cut\n0                    машина      другое\n1                    машина      другое\n2                    машина      другое\n3                 на машину      другое\n4         на покупку машины      другое\n5                автомобиль      другое\n6       на возвращение 2007      другое\n7                на свадьбу     свадьба\n8                   свадьба     свадьба\n9                   свадьба     свадьба\n10                  свадьба     свадьба\n11              для свадьбы     свадьба\n12             недвижимость      другое\n13  на покупку недвижимости      другое",
      "text/html": "<div>\n<style scoped>\n    .dataframe tbody tr th:only-of-type {\n        vertical-align: middle;\n    }\n\n    .dataframe tbody tr th {\n        vertical-align: top;\n    }\n\n    .dataframe thead th {\n        text-align: right;\n    }\n</style>\n<table border=\"1\" class=\"dataframe\">\n  <thead>\n    <tr style=\"text-align: right;\">\n      <th></th>\n      <th>purpose</th>\n      <th>purpose_cut</th>\n    </tr>\n  </thead>\n  <tbody>\n    <tr>\n      <th>0</th>\n      <td>машина</td>\n      <td>другое</td>\n    </tr>\n    <tr>\n      <th>1</th>\n      <td>машина</td>\n      <td>другое</td>\n    </tr>\n    <tr>\n      <th>2</th>\n      <td>машина</td>\n      <td>другое</td>\n    </tr>\n    <tr>\n      <th>3</th>\n      <td>на машину</td>\n      <td>другое</td>\n    </tr>\n    <tr>\n      <th>4</th>\n      <td>на покупку машины</td>\n      <td>другое</td>\n    </tr>\n    <tr>\n      <th>5</th>\n      <td>автомобиль</td>\n      <td>другое</td>\n    </tr>\n    <tr>\n      <th>6</th>\n      <td>на возвращение 2007</td>\n      <td>другое</td>\n    </tr>\n    <tr>\n      <th>7</th>\n      <td>на свадьбу</td>\n      <td>свадьба</td>\n    </tr>\n    <tr>\n      <th>8</th>\n      <td>свадьба</td>\n      <td>свадьба</td>\n    </tr>\n    <tr>\n      <th>9</th>\n      <td>свадьба</td>\n      <td>свадьба</td>\n    </tr>\n    <tr>\n      <th>10</th>\n      <td>свадьба</td>\n      <td>свадьба</td>\n    </tr>\n    <tr>\n      <th>11</th>\n      <td>для свадьбы</td>\n      <td>свадьба</td>\n    </tr>\n    <tr>\n      <th>12</th>\n      <td>недвижимость</td>\n      <td>другое</td>\n    </tr>\n    <tr>\n      <th>13</th>\n      <td>на покупку недвижимости</td>\n      <td>другое</td>\n    </tr>\n  </tbody>\n</table>\n</div>"
     },
     "execution_count": 120,
     "metadata": {},
     "output_type": "execute_result"
    }
   ],
   "source": [
    "select(sql)"
   ],
   "metadata": {
    "collapsed": false,
    "pycharm": {
     "name": "#%%\n"
    }
   }
  },
  {
   "cell_type": "markdown",
   "source": [
    "Посчитаем количество свадьб и других мероприятий"
   ],
   "metadata": {
    "collapsed": false,
    "pycharm": {
     "name": "#%% md\n"
    }
   }
  },
  {
   "cell_type": "code",
   "execution_count": 121,
   "outputs": [],
   "source": [
    "sql = '''select\n",
    "case when t.purpose like '%свадьб%' then 'свадьба'\n",
    "else 'другое' end as purpose_cut,\n",
    "count(*)\n",
    "\n",
    "from purpose t\n",
    "group by 1'''"
   ],
   "metadata": {
    "collapsed": false,
    "pycharm": {
     "name": "#%%\n"
    }
   }
  },
  {
   "cell_type": "code",
   "execution_count": 122,
   "outputs": [
    {
     "data": {
      "text/plain": "  purpose_cut  count(*)\n0      другое         9\n1     свадьба         5",
      "text/html": "<div>\n<style scoped>\n    .dataframe tbody tr th:only-of-type {\n        vertical-align: middle;\n    }\n\n    .dataframe tbody tr th {\n        vertical-align: top;\n    }\n\n    .dataframe thead th {\n        text-align: right;\n    }\n</style>\n<table border=\"1\" class=\"dataframe\">\n  <thead>\n    <tr style=\"text-align: right;\">\n      <th></th>\n      <th>purpose_cut</th>\n      <th>count(*)</th>\n    </tr>\n  </thead>\n  <tbody>\n    <tr>\n      <th>0</th>\n      <td>другое</td>\n      <td>9</td>\n    </tr>\n    <tr>\n      <th>1</th>\n      <td>свадьба</td>\n      <td>5</td>\n    </tr>\n  </tbody>\n</table>\n</div>"
     },
     "execution_count": 122,
     "metadata": {},
     "output_type": "execute_result"
    }
   ],
   "source": [
    "select(sql)"
   ],
   "metadata": {
    "collapsed": false,
    "pycharm": {
     "name": "#%%\n"
    }
   }
  },
  {
   "cell_type": "markdown",
   "source": [
    "Посчитаем количество различных мероприятий"
   ],
   "metadata": {
    "collapsed": false,
    "pycharm": {
     "name": "#%% md\n"
    }
   }
  },
  {
   "cell_type": "code",
   "source": [
    "sql = '''select t.purpose, count(*)\n",
    "from purpose t\n",
    "\n",
    "\n",
    "group by t.purpose\n",
    "order by count(*) desc'''"
   ],
   "metadata": {
    "collapsed": false,
    "pycharm": {
     "name": "#%%\n"
    }
   },
   "execution_count": null,
   "outputs": []
  },
  {
   "cell_type": "code",
   "execution_count": 143,
   "outputs": [
    {
     "data": {
      "text/plain": "                   purpose  count(*)\n0                  свадьба         3\n1                   машина         3\n2             недвижимость         1\n3               на свадьбу         1\n4  на покупку недвижимости         1\n5        на покупку машины         1\n6                на машину         1\n7      на возвращение 2007         1\n8              для свадьбы         1\n9               автомобиль         1",
      "text/html": "<div>\n<style scoped>\n    .dataframe tbody tr th:only-of-type {\n        vertical-align: middle;\n    }\n\n    .dataframe tbody tr th {\n        vertical-align: top;\n    }\n\n    .dataframe thead th {\n        text-align: right;\n    }\n</style>\n<table border=\"1\" class=\"dataframe\">\n  <thead>\n    <tr style=\"text-align: right;\">\n      <th></th>\n      <th>purpose</th>\n      <th>count(*)</th>\n    </tr>\n  </thead>\n  <tbody>\n    <tr>\n      <th>0</th>\n      <td>свадьба</td>\n      <td>3</td>\n    </tr>\n    <tr>\n      <th>1</th>\n      <td>машина</td>\n      <td>3</td>\n    </tr>\n    <tr>\n      <th>2</th>\n      <td>недвижимость</td>\n      <td>1</td>\n    </tr>\n    <tr>\n      <th>3</th>\n      <td>на свадьбу</td>\n      <td>1</td>\n    </tr>\n    <tr>\n      <th>4</th>\n      <td>на покупку недвижимости</td>\n      <td>1</td>\n    </tr>\n    <tr>\n      <th>5</th>\n      <td>на покупку машины</td>\n      <td>1</td>\n    </tr>\n    <tr>\n      <th>6</th>\n      <td>на машину</td>\n      <td>1</td>\n    </tr>\n    <tr>\n      <th>7</th>\n      <td>на возвращение 2007</td>\n      <td>1</td>\n    </tr>\n    <tr>\n      <th>8</th>\n      <td>для свадьбы</td>\n      <td>1</td>\n    </tr>\n    <tr>\n      <th>9</th>\n      <td>автомобиль</td>\n      <td>1</td>\n    </tr>\n  </tbody>\n</table>\n</div>"
     },
     "execution_count": 143,
     "metadata": {},
     "output_type": "execute_result"
    }
   ],
   "source": [
    "select(sql)"
   ],
   "metadata": {
    "collapsed": false,
    "pycharm": {
     "name": "#%%\n"
    }
   }
  },
  {
   "cell_type": "code",
   "execution_count": 137,
   "outputs": [],
   "source": [],
   "metadata": {
    "collapsed": false,
    "pycharm": {
     "name": "#%%\n"
    }
   }
  },
  {
   "cell_type": "code",
   "execution_count": 160,
   "outputs": [],
   "source": [
    "sql = '''select t.purpose, count(*)\n",
    "from (select t.purpose,\n",
    "case when t.purpose like '%свадьб%' then 'свадьба'\n",
    "else 'другое' end as purpose_cut\n",
    "from purpose t) t\n",
    "where t.purpose_cut = 'другое'\n",
    "\n",
    "\n",
    "group by t.purpose\n",
    "order by count(*) desc'''"
   ],
   "metadata": {
    "collapsed": false,
    "pycharm": {
     "name": "#%%\n"
    }
   }
  },
  {
   "cell_type": "code",
   "execution_count": 161,
   "outputs": [
    {
     "data": {
      "text/plain": "                   purpose  count(*)\n0                   машина         3\n1             недвижимость         1\n2  на покупку недвижимости         1\n3        на покупку машины         1\n4                на машину         1\n5      на возвращение 2007         1\n6               автомобиль         1",
      "text/html": "<div>\n<style scoped>\n    .dataframe tbody tr th:only-of-type {\n        vertical-align: middle;\n    }\n\n    .dataframe tbody tr th {\n        vertical-align: top;\n    }\n\n    .dataframe thead th {\n        text-align: right;\n    }\n</style>\n<table border=\"1\" class=\"dataframe\">\n  <thead>\n    <tr style=\"text-align: right;\">\n      <th></th>\n      <th>purpose</th>\n      <th>count(*)</th>\n    </tr>\n  </thead>\n  <tbody>\n    <tr>\n      <th>0</th>\n      <td>машина</td>\n      <td>3</td>\n    </tr>\n    <tr>\n      <th>1</th>\n      <td>недвижимость</td>\n      <td>1</td>\n    </tr>\n    <tr>\n      <th>2</th>\n      <td>на покупку недвижимости</td>\n      <td>1</td>\n    </tr>\n    <tr>\n      <th>3</th>\n      <td>на покупку машины</td>\n      <td>1</td>\n    </tr>\n    <tr>\n      <th>4</th>\n      <td>на машину</td>\n      <td>1</td>\n    </tr>\n    <tr>\n      <th>5</th>\n      <td>на возвращение 2007</td>\n      <td>1</td>\n    </tr>\n    <tr>\n      <th>6</th>\n      <td>автомобиль</td>\n      <td>1</td>\n    </tr>\n  </tbody>\n</table>\n</div>"
     },
     "execution_count": 161,
     "metadata": {},
     "output_type": "execute_result"
    }
   ],
   "source": [
    "select(sql)"
   ],
   "metadata": {
    "collapsed": false,
    "pycharm": {
     "name": "#%%\n"
    }
   }
  },
  {
   "cell_type": "markdown",
   "source": [
    "Помимо свадеб добавим в запрос машины и атомобили"
   ],
   "metadata": {
    "collapsed": false,
    "pycharm": {
     "name": "#%% md\n"
    }
   }
  },
  {
   "cell_type": "code",
   "execution_count": 156,
   "outputs": [],
   "source": [
    "sql = '''select t.purpose,\n",
    "case when t.purpose like '%свадьб%' then 'свадьба'\n",
    "when t.purpose like '%машин%' or t.purpose like '%авто%' then 'машина'\n",
    "else 'другое' end as purpose_cut\n",
    "\n",
    "\n",
    "from purpose t'''"
   ],
   "metadata": {
    "collapsed": false,
    "pycharm": {
     "name": "#%%\n"
    }
   }
  },
  {
   "cell_type": "code",
   "execution_count": 157,
   "outputs": [
    {
     "data": {
      "text/plain": "                    purpose purpose_cut\n0                    машина      машина\n1                    машина      машина\n2                    машина      машина\n3                 на машину      машина\n4         на покупку машины      машина\n5                автомобиль      машина\n6       на возвращение 2007      другое\n7                на свадьбу     свадьба\n8                   свадьба     свадьба\n9                   свадьба     свадьба\n10                  свадьба     свадьба\n11              для свадьбы     свадьба\n12             недвижимость      другое\n13  на покупку недвижимости      другое",
      "text/html": "<div>\n<style scoped>\n    .dataframe tbody tr th:only-of-type {\n        vertical-align: middle;\n    }\n\n    .dataframe tbody tr th {\n        vertical-align: top;\n    }\n\n    .dataframe thead th {\n        text-align: right;\n    }\n</style>\n<table border=\"1\" class=\"dataframe\">\n  <thead>\n    <tr style=\"text-align: right;\">\n      <th></th>\n      <th>purpose</th>\n      <th>purpose_cut</th>\n    </tr>\n  </thead>\n  <tbody>\n    <tr>\n      <th>0</th>\n      <td>машина</td>\n      <td>машина</td>\n    </tr>\n    <tr>\n      <th>1</th>\n      <td>машина</td>\n      <td>машина</td>\n    </tr>\n    <tr>\n      <th>2</th>\n      <td>машина</td>\n      <td>машина</td>\n    </tr>\n    <tr>\n      <th>3</th>\n      <td>на машину</td>\n      <td>машина</td>\n    </tr>\n    <tr>\n      <th>4</th>\n      <td>на покупку машины</td>\n      <td>машина</td>\n    </tr>\n    <tr>\n      <th>5</th>\n      <td>автомобиль</td>\n      <td>машина</td>\n    </tr>\n    <tr>\n      <th>6</th>\n      <td>на возвращение 2007</td>\n      <td>другое</td>\n    </tr>\n    <tr>\n      <th>7</th>\n      <td>на свадьбу</td>\n      <td>свадьба</td>\n    </tr>\n    <tr>\n      <th>8</th>\n      <td>свадьба</td>\n      <td>свадьба</td>\n    </tr>\n    <tr>\n      <th>9</th>\n      <td>свадьба</td>\n      <td>свадьба</td>\n    </tr>\n    <tr>\n      <th>10</th>\n      <td>свадьба</td>\n      <td>свадьба</td>\n    </tr>\n    <tr>\n      <th>11</th>\n      <td>для свадьбы</td>\n      <td>свадьба</td>\n    </tr>\n    <tr>\n      <th>12</th>\n      <td>недвижимость</td>\n      <td>другое</td>\n    </tr>\n    <tr>\n      <th>13</th>\n      <td>на покупку недвижимости</td>\n      <td>другое</td>\n    </tr>\n  </tbody>\n</table>\n</div>"
     },
     "execution_count": 157,
     "metadata": {},
     "output_type": "execute_result"
    }
   ],
   "source": [
    "select(sql)"
   ],
   "metadata": {
    "collapsed": false,
    "pycharm": {
     "name": "#%%\n"
    }
   }
  },
  {
   "cell_type": "markdown",
   "source": [
    "Посмотрим, что осталось"
   ],
   "metadata": {
    "collapsed": false,
    "pycharm": {
     "name": "#%% md\n"
    }
   }
  },
  {
   "cell_type": "code",
   "execution_count": 192,
   "outputs": [],
   "source": [
    "sql = '''select t.purpose, count(*)\n",
    "from (select t.purpose,\n",
    "case when t.purpose like '%свадьб%' then 'свадьба'\n",
    "when t.purpose like '%машин%' or t.purpose like '%авто%' then 'машина'\n",
    "else 'другое' end as purpose_cut\n",
    "from purpose t) t\n",
    "where t.purpose_cut = 'другое'\n",
    "\n",
    "\n",
    "group by t.purpose\n",
    "order by count(*) desc'''"
   ],
   "metadata": {
    "collapsed": false,
    "pycharm": {
     "name": "#%%\n"
    }
   }
  },
  {
   "cell_type": "code",
   "execution_count": 193,
   "outputs": [
    {
     "data": {
      "text/plain": "                   purpose  count(*)\n0             недвижимость         1\n1  на покупку недвижимости         1\n2      на возвращение 2007         1",
      "text/html": "<div>\n<style scoped>\n    .dataframe tbody tr th:only-of-type {\n        vertical-align: middle;\n    }\n\n    .dataframe tbody tr th {\n        vertical-align: top;\n    }\n\n    .dataframe thead th {\n        text-align: right;\n    }\n</style>\n<table border=\"1\" class=\"dataframe\">\n  <thead>\n    <tr style=\"text-align: right;\">\n      <th></th>\n      <th>purpose</th>\n      <th>count(*)</th>\n    </tr>\n  </thead>\n  <tbody>\n    <tr>\n      <th>0</th>\n      <td>недвижимость</td>\n      <td>1</td>\n    </tr>\n    <tr>\n      <th>1</th>\n      <td>на покупку недвижимости</td>\n      <td>1</td>\n    </tr>\n    <tr>\n      <th>2</th>\n      <td>на возвращение 2007</td>\n      <td>1</td>\n    </tr>\n  </tbody>\n</table>\n</div>"
     },
     "execution_count": 193,
     "metadata": {},
     "output_type": "execute_result"
    }
   ],
   "source": [
    "select(sql)"
   ],
   "metadata": {
    "collapsed": false,
    "pycharm": {
     "name": "#%%\n"
    }
   }
  },
  {
   "cell_type": "markdown",
   "source": [],
   "metadata": {
    "collapsed": false,
    "pycharm": {
     "name": "#%% md\n"
    }
   }
  },
  {
   "cell_type": "code",
   "execution_count": 202,
   "outputs": [],
   "source": [],
   "metadata": {
    "collapsed": false,
    "pycharm": {
     "name": "#%%\n"
    }
   }
  },
  {
   "cell_type": "code",
   "execution_count": 208,
   "outputs": [
    {
     "data": {
      "text/plain": "                    purpose   purpose_cat\n0                    машина        машина\n1                    машина        машина\n2                    машина        машина\n3                 на машину        машина\n4         на покупку машины        машина\n5                автомобиль        машина\n6       на возвращение 2007        другое\n7                на свадьбу       свадьба\n8                   свадьба       свадьба\n9                   свадьба       свадьба\n10                  свадьба       свадьба\n11              для свадьбы       свадьба\n12             недвижимость  недвижимость\n13  на покупку недвижимости  недвижимость",
      "text/html": "<div>\n<style scoped>\n    .dataframe tbody tr th:only-of-type {\n        vertical-align: middle;\n    }\n\n    .dataframe tbody tr th {\n        vertical-align: top;\n    }\n\n    .dataframe thead th {\n        text-align: right;\n    }\n</style>\n<table border=\"1\" class=\"dataframe\">\n  <thead>\n    <tr style=\"text-align: right;\">\n      <th></th>\n      <th>purpose</th>\n      <th>purpose_cat</th>\n    </tr>\n  </thead>\n  <tbody>\n    <tr>\n      <th>0</th>\n      <td>машина</td>\n      <td>машина</td>\n    </tr>\n    <tr>\n      <th>1</th>\n      <td>машина</td>\n      <td>машина</td>\n    </tr>\n    <tr>\n      <th>2</th>\n      <td>машина</td>\n      <td>машина</td>\n    </tr>\n    <tr>\n      <th>3</th>\n      <td>на машину</td>\n      <td>машина</td>\n    </tr>\n    <tr>\n      <th>4</th>\n      <td>на покупку машины</td>\n      <td>машина</td>\n    </tr>\n    <tr>\n      <th>5</th>\n      <td>автомобиль</td>\n      <td>машина</td>\n    </tr>\n    <tr>\n      <th>6</th>\n      <td>на возвращение 2007</td>\n      <td>другое</td>\n    </tr>\n    <tr>\n      <th>7</th>\n      <td>на свадьбу</td>\n      <td>свадьба</td>\n    </tr>\n    <tr>\n      <th>8</th>\n      <td>свадьба</td>\n      <td>свадьба</td>\n    </tr>\n    <tr>\n      <th>9</th>\n      <td>свадьба</td>\n      <td>свадьба</td>\n    </tr>\n    <tr>\n      <th>10</th>\n      <td>свадьба</td>\n      <td>свадьба</td>\n    </tr>\n    <tr>\n      <th>11</th>\n      <td>для свадьбы</td>\n      <td>свадьба</td>\n    </tr>\n    <tr>\n      <th>12</th>\n      <td>недвижимость</td>\n      <td>недвижимость</td>\n    </tr>\n    <tr>\n      <th>13</th>\n      <td>на покупку недвижимости</td>\n      <td>недвижимость</td>\n    </tr>\n  </tbody>\n</table>\n</div>"
     },
     "execution_count": 208,
     "metadata": {},
     "output_type": "execute_result"
    }
   ],
   "source": [
    "cat = '''select t.purpose,\n",
    "\n",
    "case when t.purpose like '%свадьб%' then 'свадьба'\n",
    "when t.purpose like '%машин%' or t.purpose like '%авто%' then 'машина'\n",
    "when t.purpose like '%недвиж%' then 'недвижимость'\n",
    "\n",
    "else 'другое' end as purpose_cat\n",
    "\n",
    " from purpose t'''\n",
    "\n",
    "select(cat)"
   ],
   "metadata": {
    "collapsed": false,
    "pycharm": {
     "name": "#%%\n"
    }
   }
  },
  {
   "cell_type": "code",
   "execution_count": 209,
   "outputs": [
    {
     "data": {
      "text/plain": "    purpose_cat  count(*)\n0        другое         1\n1        машина         6\n2  недвижимость         2\n3       свадьба         5",
      "text/html": "<div>\n<style scoped>\n    .dataframe tbody tr th:only-of-type {\n        vertical-align: middle;\n    }\n\n    .dataframe tbody tr th {\n        vertical-align: top;\n    }\n\n    .dataframe thead th {\n        text-align: right;\n    }\n</style>\n<table border=\"1\" class=\"dataframe\">\n  <thead>\n    <tr style=\"text-align: right;\">\n      <th></th>\n      <th>purpose_cat</th>\n      <th>count(*)</th>\n    </tr>\n  </thead>\n  <tbody>\n    <tr>\n      <th>0</th>\n      <td>другое</td>\n      <td>1</td>\n    </tr>\n    <tr>\n      <th>1</th>\n      <td>машина</td>\n      <td>6</td>\n    </tr>\n    <tr>\n      <th>2</th>\n      <td>недвижимость</td>\n      <td>2</td>\n    </tr>\n    <tr>\n      <th>3</th>\n      <td>свадьба</td>\n      <td>5</td>\n    </tr>\n  </tbody>\n</table>\n</div>"
     },
     "execution_count": 209,
     "metadata": {},
     "output_type": "execute_result"
    }
   ],
   "source": [
    "sql = f'''select\n",
    "t.purpose_cat,\n",
    "\n",
    "count(*)\n",
    "\n",
    " from ({cat}) t\n",
    " group by t.purpose_cat'''\n",
    "\n",
    "select(sql)"
   ],
   "metadata": {
    "collapsed": false,
    "pycharm": {
     "name": "#%%\n"
    }
   }
  },
  {
   "cell_type": "code",
   "execution_count": 206,
   "outputs": [],
   "source": [
    "sql = f'''select t.purpose, count(1)\n",
    "\n",
    "from ({cat}) t\n",
    "where t.purpose_cat = 'другое'\n",
    "\n",
    "\n",
    "group by t.purpose\n",
    "\n",
    "order by count(1) desc'''\n"
   ],
   "metadata": {
    "collapsed": false,
    "pycharm": {
     "name": "#%%\n"
    }
   }
  },
  {
   "cell_type": "code",
   "execution_count": 207,
   "outputs": [
    {
     "data": {
      "text/plain": "               purpose  count(1)\n0  на возвращение 2007         1",
      "text/html": "<div>\n<style scoped>\n    .dataframe tbody tr th:only-of-type {\n        vertical-align: middle;\n    }\n\n    .dataframe tbody tr th {\n        vertical-align: top;\n    }\n\n    .dataframe thead th {\n        text-align: right;\n    }\n</style>\n<table border=\"1\" class=\"dataframe\">\n  <thead>\n    <tr style=\"text-align: right;\">\n      <th></th>\n      <th>purpose</th>\n      <th>count(1)</th>\n    </tr>\n  </thead>\n  <tbody>\n    <tr>\n      <th>0</th>\n      <td>на возвращение 2007</td>\n      <td>1</td>\n    </tr>\n  </tbody>\n</table>\n</div>"
     },
     "execution_count": 207,
     "metadata": {},
     "output_type": "execute_result"
    }
   ],
   "source": [
    "select(sql)"
   ],
   "metadata": {
    "collapsed": false,
    "pycharm": {
     "name": "#%%\n"
    }
   }
  },
  {
   "cell_type": "code",
   "execution_count": null,
   "outputs": [],
   "source": [],
   "metadata": {
    "collapsed": false,
    "pycharm": {
     "name": "#%%\n"
    }
   }
  }
 ],
 "metadata": {
  "kernelspec": {
   "display_name": "Python 3",
   "language": "python",
   "name": "python3"
  },
  "language_info": {
   "codemirror_mode": {
    "name": "ipython",
    "version": 2
   },
   "file_extension": ".py",
   "mimetype": "text/x-python",
   "name": "python",
   "nbconvert_exporter": "python",
   "pygments_lexer": "ipython2",
   "version": "2.7.6"
  }
 },
 "nbformat": 4,
 "nbformat_minor": 0
}