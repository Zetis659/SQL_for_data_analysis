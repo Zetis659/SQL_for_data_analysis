{
 "cells": [
  {
   "cell_type": "markdown",
   "metadata": {
    "collapsed": true,
    "pycharm": {
     "name": "#%% md\n"
    }
   },
   "source": [
    "# Select"
   ]
  },
  {
   "cell_type": "markdown",
   "source": [
    "##### Импорт библиотек"
   ],
   "metadata": {
    "collapsed": false,
    "pycharm": {
     "name": "#%% md\n"
    }
   }
  },
  {
   "cell_type": "code",
   "execution_count": 1,
   "outputs": [],
   "source": [
    "import pandas as pd\n",
    "import numpy as np\n",
    "import sqlite3"
   ],
   "metadata": {
    "collapsed": false,
    "pycharm": {
     "name": "#%%\n"
    }
   }
  },
  {
   "cell_type": "code",
   "execution_count": 2,
   "outputs": [
    {
     "data": {
      "text/plain": "'3.39.4'"
     },
     "execution_count": 2,
     "metadata": {},
     "output_type": "execute_result"
    }
   ],
   "source": [
    "sqlite3.sqlite_version"
   ],
   "metadata": {
    "collapsed": false,
    "pycharm": {
     "name": "#%%\n"
    }
   }
  },
  {
   "cell_type": "markdown",
   "source": [
    "##### Подключение к БД"
   ],
   "metadata": {
    "collapsed": false,
    "pycharm": {
     "name": "#%% md\n"
    }
   }
  },
  {
   "cell_type": "code",
   "execution_count": 3,
   "outputs": [],
   "source": [
    "con = sqlite3.connect('db')"
   ],
   "metadata": {
    "collapsed": false,
    "pycharm": {
     "name": "#%%\n"
    }
   }
  },
  {
   "cell_type": "code",
   "execution_count": 4,
   "outputs": [],
   "source": [
    "df = pd.read_csv(\n",
    "    r'C:\\PyCharm\\Python\\SQL_for_data_analysis\\2.DB_connect_and_upload\\sql-course-main\\german_credit_augmented.csv')"
   ],
   "metadata": {
    "collapsed": false,
    "pycharm": {
     "name": "#%%\n"
    }
   }
  },
  {
   "cell_type": "code",
   "execution_count": 5,
   "outputs": [
    {
     "data": {
      "text/plain": "     age     sex  job housing saving_accounts checking_account  credit_amount  \\\n0     33    male    2     own             NaN              NaN           3074   \n1     43    male    1     own          little           little           1344   \n2     52    male    2     own      quite rich              NaN            936   \n3     35  female    3     own          little              NaN           1393   \n4     28    male    2     own          little              NaN            776   \n..   ...     ...  ...     ...             ...              ...            ...   \n995   65    male    2    free          little           little           2600   \n996   30    male    3     own          little         moderate           4455   \n997   33    male    2     own          little         moderate           6403   \n998   29  female    2     own             NaN              NaN           5003   \n999   44    male    2     own        moderate         moderate           1804   \n\n     duration    purpose  default          contract_dt  client_id  \n0           9   radio/TV        0  2008-06-29 18:52:00        210  \n1          12        car        0  2007-05-20 18:30:19        929  \n2           9  education        0  2008-04-27 08:23:07        200  \n3          11        car        0  2007-05-06 10:58:22         45  \n4          12   radio/TV        0  2007-07-21 13:22:14        358  \n..        ...        ...      ...                  ...        ...  \n995        18   radio/TV        1  2007-12-16 20:17:19        624  \n996        36   business        1  2007-07-12 14:08:58        181  \n997        24   radio/TV        0  2008-04-08 03:24:26        730  \n998        21        car        1  2007-11-29 15:51:45        557  \n999        12        car        0  2007-08-14 09:05:33         23  \n\n[1000 rows x 12 columns]",
      "text/html": "<div>\n<style scoped>\n    .dataframe tbody tr th:only-of-type {\n        vertical-align: middle;\n    }\n\n    .dataframe tbody tr th {\n        vertical-align: top;\n    }\n\n    .dataframe thead th {\n        text-align: right;\n    }\n</style>\n<table border=\"1\" class=\"dataframe\">\n  <thead>\n    <tr style=\"text-align: right;\">\n      <th></th>\n      <th>age</th>\n      <th>sex</th>\n      <th>job</th>\n      <th>housing</th>\n      <th>saving_accounts</th>\n      <th>checking_account</th>\n      <th>credit_amount</th>\n      <th>duration</th>\n      <th>purpose</th>\n      <th>default</th>\n      <th>contract_dt</th>\n      <th>client_id</th>\n    </tr>\n  </thead>\n  <tbody>\n    <tr>\n      <th>0</th>\n      <td>33</td>\n      <td>male</td>\n      <td>2</td>\n      <td>own</td>\n      <td>NaN</td>\n      <td>NaN</td>\n      <td>3074</td>\n      <td>9</td>\n      <td>radio/TV</td>\n      <td>0</td>\n      <td>2008-06-29 18:52:00</td>\n      <td>210</td>\n    </tr>\n    <tr>\n      <th>1</th>\n      <td>43</td>\n      <td>male</td>\n      <td>1</td>\n      <td>own</td>\n      <td>little</td>\n      <td>little</td>\n      <td>1344</td>\n      <td>12</td>\n      <td>car</td>\n      <td>0</td>\n      <td>2007-05-20 18:30:19</td>\n      <td>929</td>\n    </tr>\n    <tr>\n      <th>2</th>\n      <td>52</td>\n      <td>male</td>\n      <td>2</td>\n      <td>own</td>\n      <td>quite rich</td>\n      <td>NaN</td>\n      <td>936</td>\n      <td>9</td>\n      <td>education</td>\n      <td>0</td>\n      <td>2008-04-27 08:23:07</td>\n      <td>200</td>\n    </tr>\n    <tr>\n      <th>3</th>\n      <td>35</td>\n      <td>female</td>\n      <td>3</td>\n      <td>own</td>\n      <td>little</td>\n      <td>NaN</td>\n      <td>1393</td>\n      <td>11</td>\n      <td>car</td>\n      <td>0</td>\n      <td>2007-05-06 10:58:22</td>\n      <td>45</td>\n    </tr>\n    <tr>\n      <th>4</th>\n      <td>28</td>\n      <td>male</td>\n      <td>2</td>\n      <td>own</td>\n      <td>little</td>\n      <td>NaN</td>\n      <td>776</td>\n      <td>12</td>\n      <td>radio/TV</td>\n      <td>0</td>\n      <td>2007-07-21 13:22:14</td>\n      <td>358</td>\n    </tr>\n    <tr>\n      <th>...</th>\n      <td>...</td>\n      <td>...</td>\n      <td>...</td>\n      <td>...</td>\n      <td>...</td>\n      <td>...</td>\n      <td>...</td>\n      <td>...</td>\n      <td>...</td>\n      <td>...</td>\n      <td>...</td>\n      <td>...</td>\n    </tr>\n    <tr>\n      <th>995</th>\n      <td>65</td>\n      <td>male</td>\n      <td>2</td>\n      <td>free</td>\n      <td>little</td>\n      <td>little</td>\n      <td>2600</td>\n      <td>18</td>\n      <td>radio/TV</td>\n      <td>1</td>\n      <td>2007-12-16 20:17:19</td>\n      <td>624</td>\n    </tr>\n    <tr>\n      <th>996</th>\n      <td>30</td>\n      <td>male</td>\n      <td>3</td>\n      <td>own</td>\n      <td>little</td>\n      <td>moderate</td>\n      <td>4455</td>\n      <td>36</td>\n      <td>business</td>\n      <td>1</td>\n      <td>2007-07-12 14:08:58</td>\n      <td>181</td>\n    </tr>\n    <tr>\n      <th>997</th>\n      <td>33</td>\n      <td>male</td>\n      <td>2</td>\n      <td>own</td>\n      <td>little</td>\n      <td>moderate</td>\n      <td>6403</td>\n      <td>24</td>\n      <td>radio/TV</td>\n      <td>0</td>\n      <td>2008-04-08 03:24:26</td>\n      <td>730</td>\n    </tr>\n    <tr>\n      <th>998</th>\n      <td>29</td>\n      <td>female</td>\n      <td>2</td>\n      <td>own</td>\n      <td>NaN</td>\n      <td>NaN</td>\n      <td>5003</td>\n      <td>21</td>\n      <td>car</td>\n      <td>1</td>\n      <td>2007-11-29 15:51:45</td>\n      <td>557</td>\n    </tr>\n    <tr>\n      <th>999</th>\n      <td>44</td>\n      <td>male</td>\n      <td>2</td>\n      <td>own</td>\n      <td>moderate</td>\n      <td>moderate</td>\n      <td>1804</td>\n      <td>12</td>\n      <td>car</td>\n      <td>0</td>\n      <td>2007-08-14 09:05:33</td>\n      <td>23</td>\n    </tr>\n  </tbody>\n</table>\n<p>1000 rows × 12 columns</p>\n</div>"
     },
     "execution_count": 5,
     "metadata": {},
     "output_type": "execute_result"
    }
   ],
   "source": [
    "df"
   ],
   "metadata": {
    "collapsed": false,
    "pycharm": {
     "name": "#%%\n"
    }
   }
  },
  {
   "cell_type": "code",
   "execution_count": 6,
   "outputs": [
    {
     "data": {
      "text/plain": "age                  int64\nsex                 object\njob                  int64\nhousing             object\nsaving_accounts     object\nchecking_account    object\ncredit_amount        int64\nduration             int64\npurpose             object\ndefault              int64\ncontract_dt         object\nclient_id            int64\ndtype: object"
     },
     "execution_count": 6,
     "metadata": {},
     "output_type": "execute_result"
    }
   ],
   "source": [
    "df.dtypes"
   ],
   "metadata": {
    "collapsed": false,
    "pycharm": {
     "name": "#%%\n"
    }
   }
  },
  {
   "cell_type": "markdown",
   "source": [
    "##### Форматирование даты из csv"
   ],
   "metadata": {
    "collapsed": false,
    "pycharm": {
     "name": "#%% md\n"
    }
   }
  },
  {
   "cell_type": "code",
   "execution_count": 7,
   "outputs": [],
   "source": [
    "df.contract_dt = pd.to_datetime(df.contract_dt, format='%Y-%m-%d %H:%M:%S')"
   ],
   "metadata": {
    "collapsed": false,
    "pycharm": {
     "name": "#%%\n"
    }
   }
  },
  {
   "cell_type": "code",
   "execution_count": 8,
   "outputs": [
    {
     "data": {
      "text/plain": "age                          int64\nsex                         object\njob                          int64\nhousing                     object\nsaving_accounts             object\nchecking_account            object\ncredit_amount                int64\nduration                     int64\npurpose                     object\ndefault                      int64\ncontract_dt         datetime64[ns]\nclient_id                    int64\ndtype: object"
     },
     "execution_count": 8,
     "metadata": {},
     "output_type": "execute_result"
    }
   ],
   "source": [
    "df.dtypes"
   ],
   "metadata": {
    "collapsed": false,
    "pycharm": {
     "name": "#%%\n"
    }
   }
  },
  {
   "cell_type": "markdown",
   "source": [
    "##### Загрузка данных в БД"
   ],
   "metadata": {
    "collapsed": false,
    "pycharm": {
     "name": "#%% md\n"
    }
   }
  },
  {
   "cell_type": "code",
   "execution_count": 9,
   "outputs": [
    {
     "data": {
      "text/plain": "1000"
     },
     "execution_count": 9,
     "metadata": {},
     "output_type": "execute_result"
    }
   ],
   "source": [
    "df.to_sql('german_credit', con, index=False, if_exists='replace')"
   ],
   "metadata": {
    "collapsed": false,
    "pycharm": {
     "name": "#%%\n"
    }
   }
  },
  {
   "cell_type": "markdown",
   "source": [
    "## Селект к таблице"
   ],
   "metadata": {
    "collapsed": false,
    "pycharm": {
     "name": "#%% md\n"
    }
   }
  },
  {
   "cell_type": "code",
   "execution_count": 10,
   "outputs": [],
   "source": [
    "def select(sql):\n",
    "    return pd.read_sql(sql, con)"
   ],
   "metadata": {
    "collapsed": false,
    "pycharm": {
     "name": "#%%\n"
    }
   }
  },
  {
   "cell_type": "markdown",
   "source": [
    "##### Загрузить всю таблицу\n",
    "##### !ВАЖНО! указывать ПСЕВДОНИМ таблицы (t) или полное название таблицы, во избежании путаницы в дальнейшем\n",
    "##### В SQL принято ФОРМАТИРОВАТЬ служебные слова БОЛЬШИМИ БУКВАМИ, по\n",
    "##### Форматирование часто зависит от команды, при работе одному можно не оформлять форматирование"
   ],
   "metadata": {
    "collapsed": false,
    "pycharm": {
     "name": "#%% md\n"
    }
   }
  },
  {
   "cell_type": "code",
   "execution_count": 11,
   "outputs": [],
   "source": [
    "sql = '''select * from german_credit t'''"
   ],
   "metadata": {
    "collapsed": false,
    "pycharm": {
     "name": "#%%\n"
    }
   }
  },
  {
   "cell_type": "code",
   "execution_count": 12,
   "outputs": [
    {
     "data": {
      "text/plain": "     age     sex  job housing saving_accounts checking_account  credit_amount  \\\n0     33    male    2     own            None             None           3074   \n1     43    male    1     own          little           little           1344   \n2     52    male    2     own      quite rich             None            936   \n3     35  female    3     own          little             None           1393   \n4     28    male    2     own          little             None            776   \n..   ...     ...  ...     ...             ...              ...            ...   \n995   65    male    2    free          little           little           2600   \n996   30    male    3     own          little         moderate           4455   \n997   33    male    2     own          little         moderate           6403   \n998   29  female    2     own            None             None           5003   \n999   44    male    2     own        moderate         moderate           1804   \n\n     duration    purpose  default          contract_dt  client_id  \n0           9   radio/TV        0  2008-06-29 18:52:00        210  \n1          12        car        0  2007-05-20 18:30:19        929  \n2           9  education        0  2008-04-27 08:23:07        200  \n3          11        car        0  2007-05-06 10:58:22         45  \n4          12   radio/TV        0  2007-07-21 13:22:14        358  \n..        ...        ...      ...                  ...        ...  \n995        18   radio/TV        1  2007-12-16 20:17:19        624  \n996        36   business        1  2007-07-12 14:08:58        181  \n997        24   radio/TV        0  2008-04-08 03:24:26        730  \n998        21        car        1  2007-11-29 15:51:45        557  \n999        12        car        0  2007-08-14 09:05:33         23  \n\n[1000 rows x 12 columns]",
      "text/html": "<div>\n<style scoped>\n    .dataframe tbody tr th:only-of-type {\n        vertical-align: middle;\n    }\n\n    .dataframe tbody tr th {\n        vertical-align: top;\n    }\n\n    .dataframe thead th {\n        text-align: right;\n    }\n</style>\n<table border=\"1\" class=\"dataframe\">\n  <thead>\n    <tr style=\"text-align: right;\">\n      <th></th>\n      <th>age</th>\n      <th>sex</th>\n      <th>job</th>\n      <th>housing</th>\n      <th>saving_accounts</th>\n      <th>checking_account</th>\n      <th>credit_amount</th>\n      <th>duration</th>\n      <th>purpose</th>\n      <th>default</th>\n      <th>contract_dt</th>\n      <th>client_id</th>\n    </tr>\n  </thead>\n  <tbody>\n    <tr>\n      <th>0</th>\n      <td>33</td>\n      <td>male</td>\n      <td>2</td>\n      <td>own</td>\n      <td>None</td>\n      <td>None</td>\n      <td>3074</td>\n      <td>9</td>\n      <td>radio/TV</td>\n      <td>0</td>\n      <td>2008-06-29 18:52:00</td>\n      <td>210</td>\n    </tr>\n    <tr>\n      <th>1</th>\n      <td>43</td>\n      <td>male</td>\n      <td>1</td>\n      <td>own</td>\n      <td>little</td>\n      <td>little</td>\n      <td>1344</td>\n      <td>12</td>\n      <td>car</td>\n      <td>0</td>\n      <td>2007-05-20 18:30:19</td>\n      <td>929</td>\n    </tr>\n    <tr>\n      <th>2</th>\n      <td>52</td>\n      <td>male</td>\n      <td>2</td>\n      <td>own</td>\n      <td>quite rich</td>\n      <td>None</td>\n      <td>936</td>\n      <td>9</td>\n      <td>education</td>\n      <td>0</td>\n      <td>2008-04-27 08:23:07</td>\n      <td>200</td>\n    </tr>\n    <tr>\n      <th>3</th>\n      <td>35</td>\n      <td>female</td>\n      <td>3</td>\n      <td>own</td>\n      <td>little</td>\n      <td>None</td>\n      <td>1393</td>\n      <td>11</td>\n      <td>car</td>\n      <td>0</td>\n      <td>2007-05-06 10:58:22</td>\n      <td>45</td>\n    </tr>\n    <tr>\n      <th>4</th>\n      <td>28</td>\n      <td>male</td>\n      <td>2</td>\n      <td>own</td>\n      <td>little</td>\n      <td>None</td>\n      <td>776</td>\n      <td>12</td>\n      <td>radio/TV</td>\n      <td>0</td>\n      <td>2007-07-21 13:22:14</td>\n      <td>358</td>\n    </tr>\n    <tr>\n      <th>...</th>\n      <td>...</td>\n      <td>...</td>\n      <td>...</td>\n      <td>...</td>\n      <td>...</td>\n      <td>...</td>\n      <td>...</td>\n      <td>...</td>\n      <td>...</td>\n      <td>...</td>\n      <td>...</td>\n      <td>...</td>\n    </tr>\n    <tr>\n      <th>995</th>\n      <td>65</td>\n      <td>male</td>\n      <td>2</td>\n      <td>free</td>\n      <td>little</td>\n      <td>little</td>\n      <td>2600</td>\n      <td>18</td>\n      <td>radio/TV</td>\n      <td>1</td>\n      <td>2007-12-16 20:17:19</td>\n      <td>624</td>\n    </tr>\n    <tr>\n      <th>996</th>\n      <td>30</td>\n      <td>male</td>\n      <td>3</td>\n      <td>own</td>\n      <td>little</td>\n      <td>moderate</td>\n      <td>4455</td>\n      <td>36</td>\n      <td>business</td>\n      <td>1</td>\n      <td>2007-07-12 14:08:58</td>\n      <td>181</td>\n    </tr>\n    <tr>\n      <th>997</th>\n      <td>33</td>\n      <td>male</td>\n      <td>2</td>\n      <td>own</td>\n      <td>little</td>\n      <td>moderate</td>\n      <td>6403</td>\n      <td>24</td>\n      <td>radio/TV</td>\n      <td>0</td>\n      <td>2008-04-08 03:24:26</td>\n      <td>730</td>\n    </tr>\n    <tr>\n      <th>998</th>\n      <td>29</td>\n      <td>female</td>\n      <td>2</td>\n      <td>own</td>\n      <td>None</td>\n      <td>None</td>\n      <td>5003</td>\n      <td>21</td>\n      <td>car</td>\n      <td>1</td>\n      <td>2007-11-29 15:51:45</td>\n      <td>557</td>\n    </tr>\n    <tr>\n      <th>999</th>\n      <td>44</td>\n      <td>male</td>\n      <td>2</td>\n      <td>own</td>\n      <td>moderate</td>\n      <td>moderate</td>\n      <td>1804</td>\n      <td>12</td>\n      <td>car</td>\n      <td>0</td>\n      <td>2007-08-14 09:05:33</td>\n      <td>23</td>\n    </tr>\n  </tbody>\n</table>\n<p>1000 rows × 12 columns</p>\n</div>"
     },
     "execution_count": 12,
     "metadata": {},
     "output_type": "execute_result"
    }
   ],
   "source": [
    "select(sql)"
   ],
   "metadata": {
    "collapsed": false,
    "pycharm": {
     "name": "#%%\n"
    }
   }
  },
  {
   "cell_type": "markdown",
   "source": [
    "##### Загрузить 1 колонку (возраст)"
   ],
   "metadata": {
    "collapsed": false,
    "pycharm": {
     "name": "#%% md\n"
    }
   }
  },
  {
   "cell_type": "code",
   "execution_count": 13,
   "outputs": [],
   "source": [
    "sql = '''select t.age from german_credit t'''"
   ],
   "metadata": {
    "collapsed": false,
    "pycharm": {
     "name": "#%%\n"
    }
   }
  },
  {
   "cell_type": "code",
   "execution_count": 14,
   "outputs": [
    {
     "data": {
      "text/plain": "     age\n0     33\n1     43\n2     52\n3     35\n4     28\n..   ...\n995   65\n996   30\n997   33\n998   29\n999   44\n\n[1000 rows x 1 columns]",
      "text/html": "<div>\n<style scoped>\n    .dataframe tbody tr th:only-of-type {\n        vertical-align: middle;\n    }\n\n    .dataframe tbody tr th {\n        vertical-align: top;\n    }\n\n    .dataframe thead th {\n        text-align: right;\n    }\n</style>\n<table border=\"1\" class=\"dataframe\">\n  <thead>\n    <tr style=\"text-align: right;\">\n      <th></th>\n      <th>age</th>\n    </tr>\n  </thead>\n  <tbody>\n    <tr>\n      <th>0</th>\n      <td>33</td>\n    </tr>\n    <tr>\n      <th>1</th>\n      <td>43</td>\n    </tr>\n    <tr>\n      <th>2</th>\n      <td>52</td>\n    </tr>\n    <tr>\n      <th>3</th>\n      <td>35</td>\n    </tr>\n    <tr>\n      <th>4</th>\n      <td>28</td>\n    </tr>\n    <tr>\n      <th>...</th>\n      <td>...</td>\n    </tr>\n    <tr>\n      <th>995</th>\n      <td>65</td>\n    </tr>\n    <tr>\n      <th>996</th>\n      <td>30</td>\n    </tr>\n    <tr>\n      <th>997</th>\n      <td>33</td>\n    </tr>\n    <tr>\n      <th>998</th>\n      <td>29</td>\n    </tr>\n    <tr>\n      <th>999</th>\n      <td>44</td>\n    </tr>\n  </tbody>\n</table>\n<p>1000 rows × 1 columns</p>\n</div>"
     },
     "execution_count": 14,
     "metadata": {},
     "output_type": "execute_result"
    }
   ],
   "source": [
    "select(sql)"
   ],
   "metadata": {
    "collapsed": false,
    "pycharm": {
     "name": "#%%\n"
    }
   }
  },
  {
   "cell_type": "code",
   "execution_count": 15,
   "outputs": [
    {
     "data": {
      "text/plain": "     age housing  age\n0     33     own   33\n1     43     own   43\n2     52     own   52\n3     35     own   35\n4     28     own   28\n..   ...     ...  ...\n995   65    free   65\n996   30     own   30\n997   33     own   33\n998   29     own   29\n999   44     own   44\n\n[1000 rows x 3 columns]",
      "text/html": "<div>\n<style scoped>\n    .dataframe tbody tr th:only-of-type {\n        vertical-align: middle;\n    }\n\n    .dataframe tbody tr th {\n        vertical-align: top;\n    }\n\n    .dataframe thead th {\n        text-align: right;\n    }\n</style>\n<table border=\"1\" class=\"dataframe\">\n  <thead>\n    <tr style=\"text-align: right;\">\n      <th></th>\n      <th>age</th>\n      <th>housing</th>\n      <th>age</th>\n    </tr>\n  </thead>\n  <tbody>\n    <tr>\n      <th>0</th>\n      <td>33</td>\n      <td>own</td>\n      <td>33</td>\n    </tr>\n    <tr>\n      <th>1</th>\n      <td>43</td>\n      <td>own</td>\n      <td>43</td>\n    </tr>\n    <tr>\n      <th>2</th>\n      <td>52</td>\n      <td>own</td>\n      <td>52</td>\n    </tr>\n    <tr>\n      <th>3</th>\n      <td>35</td>\n      <td>own</td>\n      <td>35</td>\n    </tr>\n    <tr>\n      <th>4</th>\n      <td>28</td>\n      <td>own</td>\n      <td>28</td>\n    </tr>\n    <tr>\n      <th>...</th>\n      <td>...</td>\n      <td>...</td>\n      <td>...</td>\n    </tr>\n    <tr>\n      <th>995</th>\n      <td>65</td>\n      <td>free</td>\n      <td>65</td>\n    </tr>\n    <tr>\n      <th>996</th>\n      <td>30</td>\n      <td>own</td>\n      <td>30</td>\n    </tr>\n    <tr>\n      <th>997</th>\n      <td>33</td>\n      <td>own</td>\n      <td>33</td>\n    </tr>\n    <tr>\n      <th>998</th>\n      <td>29</td>\n      <td>own</td>\n      <td>29</td>\n    </tr>\n    <tr>\n      <th>999</th>\n      <td>44</td>\n      <td>own</td>\n      <td>44</td>\n    </tr>\n  </tbody>\n</table>\n<p>1000 rows × 3 columns</p>\n</div>"
     },
     "execution_count": 15,
     "metadata": {},
     "output_type": "execute_result"
    }
   ],
   "source": [
    "sql = '''select t.age, t.housing, t.age from german_credit t'''\n",
    "select(sql)"
   ],
   "metadata": {
    "collapsed": false,
    "pycharm": {
     "name": "#%%\n"
    }
   }
  },
  {
   "cell_type": "code",
   "execution_count": 16,
   "outputs": [
    {
     "data": {
      "text/plain": "     age_mult3\n0           99\n1          129\n2          156\n3          105\n4           84\n..         ...\n995        195\n996         90\n997         99\n998         87\n999        132\n\n[1000 rows x 1 columns]",
      "text/html": "<div>\n<style scoped>\n    .dataframe tbody tr th:only-of-type {\n        vertical-align: middle;\n    }\n\n    .dataframe tbody tr th {\n        vertical-align: top;\n    }\n\n    .dataframe thead th {\n        text-align: right;\n    }\n</style>\n<table border=\"1\" class=\"dataframe\">\n  <thead>\n    <tr style=\"text-align: right;\">\n      <th></th>\n      <th>age_mult3</th>\n    </tr>\n  </thead>\n  <tbody>\n    <tr>\n      <th>0</th>\n      <td>99</td>\n    </tr>\n    <tr>\n      <th>1</th>\n      <td>129</td>\n    </tr>\n    <tr>\n      <th>2</th>\n      <td>156</td>\n    </tr>\n    <tr>\n      <th>3</th>\n      <td>105</td>\n    </tr>\n    <tr>\n      <th>4</th>\n      <td>84</td>\n    </tr>\n    <tr>\n      <th>...</th>\n      <td>...</td>\n    </tr>\n    <tr>\n      <th>995</th>\n      <td>195</td>\n    </tr>\n    <tr>\n      <th>996</th>\n      <td>90</td>\n    </tr>\n    <tr>\n      <th>997</th>\n      <td>99</td>\n    </tr>\n    <tr>\n      <th>998</th>\n      <td>87</td>\n    </tr>\n    <tr>\n      <th>999</th>\n      <td>132</td>\n    </tr>\n  </tbody>\n</table>\n<p>1000 rows × 1 columns</p>\n</div>"
     },
     "execution_count": 16,
     "metadata": {},
     "output_type": "execute_result"
    }
   ],
   "source": [
    "sql = '''select t.age * 3 as age_mult3\n",
    "from german_credit t'''  # Возраст умноженный на 3\n",
    "select(sql)"
   ],
   "metadata": {
    "collapsed": false,
    "pycharm": {
     "name": "#%%\n"
    }
   }
  },
  {
   "cell_type": "markdown",
   "source": [
    "## Основные действия в Select"
   ],
   "metadata": {
    "collapsed": false,
    "pycharm": {
     "name": "#%% md\n"
    }
   }
  },
  {
   "cell_type": "markdown",
   "source": [
    "##### Сложение столбцов, умножение, деление и т.д."
   ],
   "metadata": {
    "collapsed": false,
    "pycharm": {
     "name": "#%% md\n"
    }
   }
  },
  {
   "cell_type": "code",
   "execution_count": 17,
   "outputs": [
    {
     "data": {
      "text/plain": "     summm  age_mult3  age_div_amount\n0     3107         99        0.010735\n1     1387        129        0.031994\n2      988        156        0.055556\n3     1428        105        0.025126\n4      804         84        0.036082\n..     ...        ...             ...\n995   2665        195        0.025000\n996   4485         90        0.006734\n997   6436         99        0.005154\n998   5032         87        0.005797\n999   1848        132        0.024390\n\n[1000 rows x 3 columns]",
      "text/html": "<div>\n<style scoped>\n    .dataframe tbody tr th:only-of-type {\n        vertical-align: middle;\n    }\n\n    .dataframe tbody tr th {\n        vertical-align: top;\n    }\n\n    .dataframe thead th {\n        text-align: right;\n    }\n</style>\n<table border=\"1\" class=\"dataframe\">\n  <thead>\n    <tr style=\"text-align: right;\">\n      <th></th>\n      <th>summm</th>\n      <th>age_mult3</th>\n      <th>age_div_amount</th>\n    </tr>\n  </thead>\n  <tbody>\n    <tr>\n      <th>0</th>\n      <td>3107</td>\n      <td>99</td>\n      <td>0.010735</td>\n    </tr>\n    <tr>\n      <th>1</th>\n      <td>1387</td>\n      <td>129</td>\n      <td>0.031994</td>\n    </tr>\n    <tr>\n      <th>2</th>\n      <td>988</td>\n      <td>156</td>\n      <td>0.055556</td>\n    </tr>\n    <tr>\n      <th>3</th>\n      <td>1428</td>\n      <td>105</td>\n      <td>0.025126</td>\n    </tr>\n    <tr>\n      <th>4</th>\n      <td>804</td>\n      <td>84</td>\n      <td>0.036082</td>\n    </tr>\n    <tr>\n      <th>...</th>\n      <td>...</td>\n      <td>...</td>\n      <td>...</td>\n    </tr>\n    <tr>\n      <th>995</th>\n      <td>2665</td>\n      <td>195</td>\n      <td>0.025000</td>\n    </tr>\n    <tr>\n      <th>996</th>\n      <td>4485</td>\n      <td>90</td>\n      <td>0.006734</td>\n    </tr>\n    <tr>\n      <th>997</th>\n      <td>6436</td>\n      <td>99</td>\n      <td>0.005154</td>\n    </tr>\n    <tr>\n      <th>998</th>\n      <td>5032</td>\n      <td>87</td>\n      <td>0.005797</td>\n    </tr>\n    <tr>\n      <th>999</th>\n      <td>1848</td>\n      <td>132</td>\n      <td>0.024390</td>\n    </tr>\n  </tbody>\n</table>\n<p>1000 rows × 3 columns</p>\n</div>"
     },
     "execution_count": 17,
     "metadata": {},
     "output_type": "execute_result"
    }
   ],
   "source": [
    "sql = '''select t.age + t.credit_amount as summm,\n",
    "t.age * 3 as age_mult3,\n",
    "t.age * 1.0 / t.credit_amount as age_div_amount\n",
    "\n",
    "from german_credit t'''\n",
    "select(sql)\n",
    "# t.* выводит все столбцы\n",
    "# При делении целого числа нужно добавить * 1.0, чтобы избежать ошибки (0)"
   ],
   "metadata": {
    "collapsed": false,
    "pycharm": {
     "name": "#%%\n"
    }
   }
  },
  {
   "cell_type": "markdown",
   "source": [
    "##### Для просмотра БД, лучше просмотреть только начало, во избежание зависаний и т.д.\n",
    "##### Загрузка 5 строк"
   ],
   "metadata": {
    "collapsed": false,
    "pycharm": {
     "name": "#%% md\n"
    }
   }
  },
  {
   "cell_type": "code",
   "execution_count": 18,
   "outputs": [
    {
     "data": {
      "text/plain": "   age     sex  job housing saving_accounts checking_account  credit_amount  \\\n0   33    male    2     own            None             None           3074   \n1   43    male    1     own          little           little           1344   \n2   52    male    2     own      quite rich             None            936   \n3   35  female    3     own          little             None           1393   \n4   28    male    2     own          little             None            776   \n\n   duration    purpose  default          contract_dt  client_id  \n0         9   radio/TV        0  2008-06-29 18:52:00        210  \n1        12        car        0  2007-05-20 18:30:19        929  \n2         9  education        0  2008-04-27 08:23:07        200  \n3        11        car        0  2007-05-06 10:58:22         45  \n4        12   radio/TV        0  2007-07-21 13:22:14        358  ",
      "text/html": "<div>\n<style scoped>\n    .dataframe tbody tr th:only-of-type {\n        vertical-align: middle;\n    }\n\n    .dataframe tbody tr th {\n        vertical-align: top;\n    }\n\n    .dataframe thead th {\n        text-align: right;\n    }\n</style>\n<table border=\"1\" class=\"dataframe\">\n  <thead>\n    <tr style=\"text-align: right;\">\n      <th></th>\n      <th>age</th>\n      <th>sex</th>\n      <th>job</th>\n      <th>housing</th>\n      <th>saving_accounts</th>\n      <th>checking_account</th>\n      <th>credit_amount</th>\n      <th>duration</th>\n      <th>purpose</th>\n      <th>default</th>\n      <th>contract_dt</th>\n      <th>client_id</th>\n    </tr>\n  </thead>\n  <tbody>\n    <tr>\n      <th>0</th>\n      <td>33</td>\n      <td>male</td>\n      <td>2</td>\n      <td>own</td>\n      <td>None</td>\n      <td>None</td>\n      <td>3074</td>\n      <td>9</td>\n      <td>radio/TV</td>\n      <td>0</td>\n      <td>2008-06-29 18:52:00</td>\n      <td>210</td>\n    </tr>\n    <tr>\n      <th>1</th>\n      <td>43</td>\n      <td>male</td>\n      <td>1</td>\n      <td>own</td>\n      <td>little</td>\n      <td>little</td>\n      <td>1344</td>\n      <td>12</td>\n      <td>car</td>\n      <td>0</td>\n      <td>2007-05-20 18:30:19</td>\n      <td>929</td>\n    </tr>\n    <tr>\n      <th>2</th>\n      <td>52</td>\n      <td>male</td>\n      <td>2</td>\n      <td>own</td>\n      <td>quite rich</td>\n      <td>None</td>\n      <td>936</td>\n      <td>9</td>\n      <td>education</td>\n      <td>0</td>\n      <td>2008-04-27 08:23:07</td>\n      <td>200</td>\n    </tr>\n    <tr>\n      <th>3</th>\n      <td>35</td>\n      <td>female</td>\n      <td>3</td>\n      <td>own</td>\n      <td>little</td>\n      <td>None</td>\n      <td>1393</td>\n      <td>11</td>\n      <td>car</td>\n      <td>0</td>\n      <td>2007-05-06 10:58:22</td>\n      <td>45</td>\n    </tr>\n    <tr>\n      <th>4</th>\n      <td>28</td>\n      <td>male</td>\n      <td>2</td>\n      <td>own</td>\n      <td>little</td>\n      <td>None</td>\n      <td>776</td>\n      <td>12</td>\n      <td>radio/TV</td>\n      <td>0</td>\n      <td>2007-07-21 13:22:14</td>\n      <td>358</td>\n    </tr>\n  </tbody>\n</table>\n</div>"
     },
     "execution_count": 18,
     "metadata": {},
     "output_type": "execute_result"
    }
   ],
   "source": [
    "sql = '''select * from german_credit t limit 5'''\n",
    "select(sql)"
   ],
   "metadata": {
    "collapsed": false,
    "pycharm": {
     "name": "#%%\n"
    }
   }
  },
  {
   "cell_type": "markdown",
   "source": [
    "## Where"
   ],
   "metadata": {
    "collapsed": false,
    "pycharm": {
     "name": "#%% md\n"
    }
   }
  },
  {
   "cell_type": "markdown",
   "source": [
    "##### Выбираю промежуток дат в БД"
   ],
   "metadata": {
    "collapsed": false,
    "pycharm": {
     "name": "#%% md\n"
    }
   }
  },
  {
   "cell_type": "code",
   "execution_count": 19,
   "outputs": [
    {
     "data": {
      "text/plain": "     age     sex  job housing saving_accounts checking_account  credit_amount  \\\n0     43    male    1     own          little           little           1344   \n1     35  female    3     own          little             None           1393   \n2     28    male    2     own          little             None            776   \n3     29  female    2     own          little         moderate            959   \n4     26    male    2     own          little           little           4370   \n..   ...     ...  ...     ...             ...              ...            ...   \n568   45    male    1     own      quite rich             None           1750   \n569   65    male    2    free          little           little           2600   \n570   30    male    3     own          little         moderate           4455   \n571   29  female    2     own            None             None           5003   \n572   44    male    2     own        moderate         moderate           1804   \n\n     duration              purpose  default          contract_dt  client_id  \n0          12                  car        0  2007-05-20 18:30:19        929  \n1          11                  car        0  2007-05-06 10:58:22         45  \n2          12             radio/TV        0  2007-07-21 13:22:14        358  \n3           9  furniture/equipment        1  2007-05-21 14:32:00        351  \n4          42             radio/TV        1  2007-11-29 00:20:44        639  \n..        ...                  ...      ...                  ...        ...  \n568         6             radio/TV        0  2007-05-25 13:59:51        551  \n569        18             radio/TV        1  2007-12-16 20:17:19        624  \n570        36             business        1  2007-07-12 14:08:58        181  \n571        21                  car        1  2007-11-29 15:51:45        557  \n572        12                  car        0  2007-08-14 09:05:33         23  \n\n[573 rows x 12 columns]",
      "text/html": "<div>\n<style scoped>\n    .dataframe tbody tr th:only-of-type {\n        vertical-align: middle;\n    }\n\n    .dataframe tbody tr th {\n        vertical-align: top;\n    }\n\n    .dataframe thead th {\n        text-align: right;\n    }\n</style>\n<table border=\"1\" class=\"dataframe\">\n  <thead>\n    <tr style=\"text-align: right;\">\n      <th></th>\n      <th>age</th>\n      <th>sex</th>\n      <th>job</th>\n      <th>housing</th>\n      <th>saving_accounts</th>\n      <th>checking_account</th>\n      <th>credit_amount</th>\n      <th>duration</th>\n      <th>purpose</th>\n      <th>default</th>\n      <th>contract_dt</th>\n      <th>client_id</th>\n    </tr>\n  </thead>\n  <tbody>\n    <tr>\n      <th>0</th>\n      <td>43</td>\n      <td>male</td>\n      <td>1</td>\n      <td>own</td>\n      <td>little</td>\n      <td>little</td>\n      <td>1344</td>\n      <td>12</td>\n      <td>car</td>\n      <td>0</td>\n      <td>2007-05-20 18:30:19</td>\n      <td>929</td>\n    </tr>\n    <tr>\n      <th>1</th>\n      <td>35</td>\n      <td>female</td>\n      <td>3</td>\n      <td>own</td>\n      <td>little</td>\n      <td>None</td>\n      <td>1393</td>\n      <td>11</td>\n      <td>car</td>\n      <td>0</td>\n      <td>2007-05-06 10:58:22</td>\n      <td>45</td>\n    </tr>\n    <tr>\n      <th>2</th>\n      <td>28</td>\n      <td>male</td>\n      <td>2</td>\n      <td>own</td>\n      <td>little</td>\n      <td>None</td>\n      <td>776</td>\n      <td>12</td>\n      <td>radio/TV</td>\n      <td>0</td>\n      <td>2007-07-21 13:22:14</td>\n      <td>358</td>\n    </tr>\n    <tr>\n      <th>3</th>\n      <td>29</td>\n      <td>female</td>\n      <td>2</td>\n      <td>own</td>\n      <td>little</td>\n      <td>moderate</td>\n      <td>959</td>\n      <td>9</td>\n      <td>furniture/equipment</td>\n      <td>1</td>\n      <td>2007-05-21 14:32:00</td>\n      <td>351</td>\n    </tr>\n    <tr>\n      <th>4</th>\n      <td>26</td>\n      <td>male</td>\n      <td>2</td>\n      <td>own</td>\n      <td>little</td>\n      <td>little</td>\n      <td>4370</td>\n      <td>42</td>\n      <td>radio/TV</td>\n      <td>1</td>\n      <td>2007-11-29 00:20:44</td>\n      <td>639</td>\n    </tr>\n    <tr>\n      <th>...</th>\n      <td>...</td>\n      <td>...</td>\n      <td>...</td>\n      <td>...</td>\n      <td>...</td>\n      <td>...</td>\n      <td>...</td>\n      <td>...</td>\n      <td>...</td>\n      <td>...</td>\n      <td>...</td>\n      <td>...</td>\n    </tr>\n    <tr>\n      <th>568</th>\n      <td>45</td>\n      <td>male</td>\n      <td>1</td>\n      <td>own</td>\n      <td>quite rich</td>\n      <td>None</td>\n      <td>1750</td>\n      <td>6</td>\n      <td>radio/TV</td>\n      <td>0</td>\n      <td>2007-05-25 13:59:51</td>\n      <td>551</td>\n    </tr>\n    <tr>\n      <th>569</th>\n      <td>65</td>\n      <td>male</td>\n      <td>2</td>\n      <td>free</td>\n      <td>little</td>\n      <td>little</td>\n      <td>2600</td>\n      <td>18</td>\n      <td>radio/TV</td>\n      <td>1</td>\n      <td>2007-12-16 20:17:19</td>\n      <td>624</td>\n    </tr>\n    <tr>\n      <th>570</th>\n      <td>30</td>\n      <td>male</td>\n      <td>3</td>\n      <td>own</td>\n      <td>little</td>\n      <td>moderate</td>\n      <td>4455</td>\n      <td>36</td>\n      <td>business</td>\n      <td>1</td>\n      <td>2007-07-12 14:08:58</td>\n      <td>181</td>\n    </tr>\n    <tr>\n      <th>571</th>\n      <td>29</td>\n      <td>female</td>\n      <td>2</td>\n      <td>own</td>\n      <td>None</td>\n      <td>None</td>\n      <td>5003</td>\n      <td>21</td>\n      <td>car</td>\n      <td>1</td>\n      <td>2007-11-29 15:51:45</td>\n      <td>557</td>\n    </tr>\n    <tr>\n      <th>572</th>\n      <td>44</td>\n      <td>male</td>\n      <td>2</td>\n      <td>own</td>\n      <td>moderate</td>\n      <td>moderate</td>\n      <td>1804</td>\n      <td>12</td>\n      <td>car</td>\n      <td>0</td>\n      <td>2007-08-14 09:05:33</td>\n      <td>23</td>\n    </tr>\n  </tbody>\n</table>\n<p>573 rows × 12 columns</p>\n</div>"
     },
     "execution_count": 19,
     "metadata": {},
     "output_type": "execute_result"
    }
   ],
   "source": [
    "sql = '''select * from german_credit t\n",
    "where t.contract_dt between '2007-01-01' and '2007-12-31'\n",
    "'''\n",
    "select(sql)"
   ],
   "metadata": {
    "collapsed": false,
    "pycharm": {
     "name": "#%%\n"
    }
   }
  },
  {
   "cell_type": "markdown",
   "source": [
    "##### Показывает количество строк ↑"
   ],
   "metadata": {
    "collapsed": false,
    "pycharm": {
     "name": "#%% md\n"
    }
   }
  },
  {
   "cell_type": "code",
   "execution_count": 20,
   "outputs": [
    {
     "data": {
      "text/plain": "   count(*)\n0       573",
      "text/html": "<div>\n<style scoped>\n    .dataframe tbody tr th:only-of-type {\n        vertical-align: middle;\n    }\n\n    .dataframe tbody tr th {\n        vertical-align: top;\n    }\n\n    .dataframe thead th {\n        text-align: right;\n    }\n</style>\n<table border=\"1\" class=\"dataframe\">\n  <thead>\n    <tr style=\"text-align: right;\">\n      <th></th>\n      <th>count(*)</th>\n    </tr>\n  </thead>\n  <tbody>\n    <tr>\n      <th>0</th>\n      <td>573</td>\n    </tr>\n  </tbody>\n</table>\n</div>"
     },
     "execution_count": 20,
     "metadata": {},
     "output_type": "execute_result"
    }
   ],
   "source": [
    "sql = '''select count(*) from german_credit t\n",
    "where t.contract_dt between '2007-01-01' and '2007-12-31'\n",
    "'''\n",
    "select(sql)"
   ],
   "metadata": {
    "collapsed": false,
    "pycharm": {
     "name": "#%%\n"
    }
   }
  },
  {
   "cell_type": "markdown",
   "source": [
    "##### Сортируем тот же ↑ запрос"
   ],
   "metadata": {
    "collapsed": false,
    "pycharm": {
     "name": "#%% md\n"
    }
   }
  },
  {
   "cell_type": "code",
   "execution_count": 21,
   "outputs": [
    {
     "data": {
      "text/plain": "     age     sex  job housing saving_accounts checking_account  credit_amount  \\\n0     31  female    1     own          little             None           1736   \n1     35    male    1     own          little             None           2684   \n2     23  female    2    rent          little           little           2406   \n3     36    male    3    rent            None         moderate           7057   \n4     30    male    2     own          little         moderate            639   \n..   ...     ...  ...     ...             ...              ...            ...   \n568   31    male    2     own          little             None           2775   \n569   39  female    1     own            None         moderate            932   \n570   30  female    3     own          little         moderate           4795   \n571   49  female    2     own          little         moderate           1092   \n572   20    male    2     own            None           little           2996   \n\n     duration              purpose  default          contract_dt  client_id  \n0          12  furniture/equipment        0  2007-12-30 13:29:15        995  \n1          24             radio/TV        0  2007-12-30 00:40:33        256  \n2          30  furniture/equipment        1  2007-12-29 20:14:30        359  \n3          20                  car        0  2007-12-29 16:10:08         99  \n4          12              repairs        1  2007-12-28 17:09:43        127  \n..        ...                  ...      ...                  ...        ...  \n568        18                  car        1  2007-05-01 23:14:02        598  \n569         6            education        0  2007-05-01 20:28:44        215  \n570        36             radio/TV        0  2007-05-01 12:42:45        141  \n571        12             radio/TV        0  2007-05-01 08:41:46        288  \n572        24  furniture/equipment        1  2007-05-01 07:17:29        495  \n\n[573 rows x 12 columns]",
      "text/html": "<div>\n<style scoped>\n    .dataframe tbody tr th:only-of-type {\n        vertical-align: middle;\n    }\n\n    .dataframe tbody tr th {\n        vertical-align: top;\n    }\n\n    .dataframe thead th {\n        text-align: right;\n    }\n</style>\n<table border=\"1\" class=\"dataframe\">\n  <thead>\n    <tr style=\"text-align: right;\">\n      <th></th>\n      <th>age</th>\n      <th>sex</th>\n      <th>job</th>\n      <th>housing</th>\n      <th>saving_accounts</th>\n      <th>checking_account</th>\n      <th>credit_amount</th>\n      <th>duration</th>\n      <th>purpose</th>\n      <th>default</th>\n      <th>contract_dt</th>\n      <th>client_id</th>\n    </tr>\n  </thead>\n  <tbody>\n    <tr>\n      <th>0</th>\n      <td>31</td>\n      <td>female</td>\n      <td>1</td>\n      <td>own</td>\n      <td>little</td>\n      <td>None</td>\n      <td>1736</td>\n      <td>12</td>\n      <td>furniture/equipment</td>\n      <td>0</td>\n      <td>2007-12-30 13:29:15</td>\n      <td>995</td>\n    </tr>\n    <tr>\n      <th>1</th>\n      <td>35</td>\n      <td>male</td>\n      <td>1</td>\n      <td>own</td>\n      <td>little</td>\n      <td>None</td>\n      <td>2684</td>\n      <td>24</td>\n      <td>radio/TV</td>\n      <td>0</td>\n      <td>2007-12-30 00:40:33</td>\n      <td>256</td>\n    </tr>\n    <tr>\n      <th>2</th>\n      <td>23</td>\n      <td>female</td>\n      <td>2</td>\n      <td>rent</td>\n      <td>little</td>\n      <td>little</td>\n      <td>2406</td>\n      <td>30</td>\n      <td>furniture/equipment</td>\n      <td>1</td>\n      <td>2007-12-29 20:14:30</td>\n      <td>359</td>\n    </tr>\n    <tr>\n      <th>3</th>\n      <td>36</td>\n      <td>male</td>\n      <td>3</td>\n      <td>rent</td>\n      <td>None</td>\n      <td>moderate</td>\n      <td>7057</td>\n      <td>20</td>\n      <td>car</td>\n      <td>0</td>\n      <td>2007-12-29 16:10:08</td>\n      <td>99</td>\n    </tr>\n    <tr>\n      <th>4</th>\n      <td>30</td>\n      <td>male</td>\n      <td>2</td>\n      <td>own</td>\n      <td>little</td>\n      <td>moderate</td>\n      <td>639</td>\n      <td>12</td>\n      <td>repairs</td>\n      <td>1</td>\n      <td>2007-12-28 17:09:43</td>\n      <td>127</td>\n    </tr>\n    <tr>\n      <th>...</th>\n      <td>...</td>\n      <td>...</td>\n      <td>...</td>\n      <td>...</td>\n      <td>...</td>\n      <td>...</td>\n      <td>...</td>\n      <td>...</td>\n      <td>...</td>\n      <td>...</td>\n      <td>...</td>\n      <td>...</td>\n    </tr>\n    <tr>\n      <th>568</th>\n      <td>31</td>\n      <td>male</td>\n      <td>2</td>\n      <td>own</td>\n      <td>little</td>\n      <td>None</td>\n      <td>2775</td>\n      <td>18</td>\n      <td>car</td>\n      <td>1</td>\n      <td>2007-05-01 23:14:02</td>\n      <td>598</td>\n    </tr>\n    <tr>\n      <th>569</th>\n      <td>39</td>\n      <td>female</td>\n      <td>1</td>\n      <td>own</td>\n      <td>None</td>\n      <td>moderate</td>\n      <td>932</td>\n      <td>6</td>\n      <td>education</td>\n      <td>0</td>\n      <td>2007-05-01 20:28:44</td>\n      <td>215</td>\n    </tr>\n    <tr>\n      <th>570</th>\n      <td>30</td>\n      <td>female</td>\n      <td>3</td>\n      <td>own</td>\n      <td>little</td>\n      <td>moderate</td>\n      <td>4795</td>\n      <td>36</td>\n      <td>radio/TV</td>\n      <td>0</td>\n      <td>2007-05-01 12:42:45</td>\n      <td>141</td>\n    </tr>\n    <tr>\n      <th>571</th>\n      <td>49</td>\n      <td>female</td>\n      <td>2</td>\n      <td>own</td>\n      <td>little</td>\n      <td>moderate</td>\n      <td>1092</td>\n      <td>12</td>\n      <td>radio/TV</td>\n      <td>0</td>\n      <td>2007-05-01 08:41:46</td>\n      <td>288</td>\n    </tr>\n    <tr>\n      <th>572</th>\n      <td>20</td>\n      <td>male</td>\n      <td>2</td>\n      <td>own</td>\n      <td>None</td>\n      <td>little</td>\n      <td>2996</td>\n      <td>24</td>\n      <td>furniture/equipment</td>\n      <td>1</td>\n      <td>2007-05-01 07:17:29</td>\n      <td>495</td>\n    </tr>\n  </tbody>\n</table>\n<p>573 rows × 12 columns</p>\n</div>"
     },
     "execution_count": 21,
     "metadata": {},
     "output_type": "execute_result"
    }
   ],
   "source": [
    "sql = '''select * from german_credit t\n",
    "where t.contract_dt between '2007-01-01' and '2007-12-31'\n",
    "order by contract_dt desc\n",
    "'''\n",
    "# desc - по убыванию (descending - нисходящий)\n",
    "select(sql)"
   ],
   "metadata": {
    "collapsed": false,
    "pycharm": {
     "name": "#%%\n"
    }
   }
  },
  {
   "cell_type": "markdown",
   "source": [
    "##### Сортировка по нескольким условиям"
   ],
   "metadata": {
    "collapsed": false,
    "pycharm": {
     "name": "#%% md\n"
    }
   }
  },
  {
   "cell_type": "code",
   "execution_count": 22,
   "outputs": [
    {
     "data": {
      "text/plain": "     age     sex  job housing saving_accounts checking_account  credit_amount  \\\n0     31  female    1     own          little             None           1736   \n1     35    male    1     own          little             None           2684   \n2     23  female    2    rent          little           little           2406   \n3     36    male    3    rent            None         moderate           7057   \n4     30    male    2     own          little         moderate            639   \n..   ...     ...  ...     ...             ...              ...            ...   \n568   31    male    2     own          little             None           2775   \n569   39  female    1     own            None         moderate            932   \n570   30  female    3     own          little         moderate           4795   \n571   49  female    2     own          little         moderate           1092   \n572   20    male    2     own            None           little           2996   \n\n     duration              purpose  default          contract_dt  client_id  \n0          12  furniture/equipment        0  2007-12-30 13:29:15        995  \n1          24             radio/TV        0  2007-12-30 00:40:33        256  \n2          30  furniture/equipment        1  2007-12-29 20:14:30        359  \n3          20                  car        0  2007-12-29 16:10:08         99  \n4          12              repairs        1  2007-12-28 17:09:43        127  \n..        ...                  ...      ...                  ...        ...  \n568        18                  car        1  2007-05-01 23:14:02        598  \n569         6            education        0  2007-05-01 20:28:44        215  \n570        36             radio/TV        0  2007-05-01 12:42:45        141  \n571        12             radio/TV        0  2007-05-01 08:41:46        288  \n572        24  furniture/equipment        1  2007-05-01 07:17:29        495  \n\n[573 rows x 12 columns]",
      "text/html": "<div>\n<style scoped>\n    .dataframe tbody tr th:only-of-type {\n        vertical-align: middle;\n    }\n\n    .dataframe tbody tr th {\n        vertical-align: top;\n    }\n\n    .dataframe thead th {\n        text-align: right;\n    }\n</style>\n<table border=\"1\" class=\"dataframe\">\n  <thead>\n    <tr style=\"text-align: right;\">\n      <th></th>\n      <th>age</th>\n      <th>sex</th>\n      <th>job</th>\n      <th>housing</th>\n      <th>saving_accounts</th>\n      <th>checking_account</th>\n      <th>credit_amount</th>\n      <th>duration</th>\n      <th>purpose</th>\n      <th>default</th>\n      <th>contract_dt</th>\n      <th>client_id</th>\n    </tr>\n  </thead>\n  <tbody>\n    <tr>\n      <th>0</th>\n      <td>31</td>\n      <td>female</td>\n      <td>1</td>\n      <td>own</td>\n      <td>little</td>\n      <td>None</td>\n      <td>1736</td>\n      <td>12</td>\n      <td>furniture/equipment</td>\n      <td>0</td>\n      <td>2007-12-30 13:29:15</td>\n      <td>995</td>\n    </tr>\n    <tr>\n      <th>1</th>\n      <td>35</td>\n      <td>male</td>\n      <td>1</td>\n      <td>own</td>\n      <td>little</td>\n      <td>None</td>\n      <td>2684</td>\n      <td>24</td>\n      <td>radio/TV</td>\n      <td>0</td>\n      <td>2007-12-30 00:40:33</td>\n      <td>256</td>\n    </tr>\n    <tr>\n      <th>2</th>\n      <td>23</td>\n      <td>female</td>\n      <td>2</td>\n      <td>rent</td>\n      <td>little</td>\n      <td>little</td>\n      <td>2406</td>\n      <td>30</td>\n      <td>furniture/equipment</td>\n      <td>1</td>\n      <td>2007-12-29 20:14:30</td>\n      <td>359</td>\n    </tr>\n    <tr>\n      <th>3</th>\n      <td>36</td>\n      <td>male</td>\n      <td>3</td>\n      <td>rent</td>\n      <td>None</td>\n      <td>moderate</td>\n      <td>7057</td>\n      <td>20</td>\n      <td>car</td>\n      <td>0</td>\n      <td>2007-12-29 16:10:08</td>\n      <td>99</td>\n    </tr>\n    <tr>\n      <th>4</th>\n      <td>30</td>\n      <td>male</td>\n      <td>2</td>\n      <td>own</td>\n      <td>little</td>\n      <td>moderate</td>\n      <td>639</td>\n      <td>12</td>\n      <td>repairs</td>\n      <td>1</td>\n      <td>2007-12-28 17:09:43</td>\n      <td>127</td>\n    </tr>\n    <tr>\n      <th>...</th>\n      <td>...</td>\n      <td>...</td>\n      <td>...</td>\n      <td>...</td>\n      <td>...</td>\n      <td>...</td>\n      <td>...</td>\n      <td>...</td>\n      <td>...</td>\n      <td>...</td>\n      <td>...</td>\n      <td>...</td>\n    </tr>\n    <tr>\n      <th>568</th>\n      <td>31</td>\n      <td>male</td>\n      <td>2</td>\n      <td>own</td>\n      <td>little</td>\n      <td>None</td>\n      <td>2775</td>\n      <td>18</td>\n      <td>car</td>\n      <td>1</td>\n      <td>2007-05-01 23:14:02</td>\n      <td>598</td>\n    </tr>\n    <tr>\n      <th>569</th>\n      <td>39</td>\n      <td>female</td>\n      <td>1</td>\n      <td>own</td>\n      <td>None</td>\n      <td>moderate</td>\n      <td>932</td>\n      <td>6</td>\n      <td>education</td>\n      <td>0</td>\n      <td>2007-05-01 20:28:44</td>\n      <td>215</td>\n    </tr>\n    <tr>\n      <th>570</th>\n      <td>30</td>\n      <td>female</td>\n      <td>3</td>\n      <td>own</td>\n      <td>little</td>\n      <td>moderate</td>\n      <td>4795</td>\n      <td>36</td>\n      <td>radio/TV</td>\n      <td>0</td>\n      <td>2007-05-01 12:42:45</td>\n      <td>141</td>\n    </tr>\n    <tr>\n      <th>571</th>\n      <td>49</td>\n      <td>female</td>\n      <td>2</td>\n      <td>own</td>\n      <td>little</td>\n      <td>moderate</td>\n      <td>1092</td>\n      <td>12</td>\n      <td>radio/TV</td>\n      <td>0</td>\n      <td>2007-05-01 08:41:46</td>\n      <td>288</td>\n    </tr>\n    <tr>\n      <th>572</th>\n      <td>20</td>\n      <td>male</td>\n      <td>2</td>\n      <td>own</td>\n      <td>None</td>\n      <td>little</td>\n      <td>2996</td>\n      <td>24</td>\n      <td>furniture/equipment</td>\n      <td>1</td>\n      <td>2007-05-01 07:17:29</td>\n      <td>495</td>\n    </tr>\n  </tbody>\n</table>\n<p>573 rows × 12 columns</p>\n</div>"
     },
     "execution_count": 22,
     "metadata": {},
     "output_type": "execute_result"
    }
   ],
   "source": [
    "sql = '''select * from german_credit t\n",
    "where t.contract_dt between '2007-01-01' and '2007-12-31'\n",
    "order by contract_dt desc, credit_amount\n",
    "'''\n",
    "# desc - по убыванию (descending - нисходящий)\n",
    "select(sql)"
   ],
   "metadata": {
    "collapsed": false,
    "pycharm": {
     "name": "#%%\n"
    }
   }
  },
  {
   "cell_type": "markdown",
   "source": [
    "##### Выбираем цель кредита - машина"
   ],
   "metadata": {
    "collapsed": false,
    "pycharm": {
     "name": "#%% md\n"
    }
   }
  },
  {
   "cell_type": "code",
   "execution_count": 23,
   "outputs": [
    {
     "data": {
      "text/plain": "     age   sex  job housing saving_accounts checking_account  credit_amount  \\\n0     36  male    3    rent            None         moderate           7057   \n1     25  male    2    rent        moderate         moderate           1264   \n2     48  male    2     own          little             None           2134   \n3     43  male    2    rent          little           little           4843   \n4     37  male    2    free            None         moderate          12389   \n..   ...   ...  ...     ...             ...              ...            ...   \n177   75  male    3    free          little           little           6615   \n178   55  male    2     own            rich             None           1413   \n179   47  male    3     own          little         moderate           1209   \n180   36  male    2     own          little         moderate            884   \n181   31  male    2     own          little             None           2775   \n\n     duration purpose  default          contract_dt  client_id  \n0          20     car        0  2007-12-29 16:10:08         99  \n1          15     car        1  2007-12-28 08:38:58        979  \n2           9     car        0  2007-12-24 16:28:30         20  \n3          12     car        1  2007-12-22 16:17:29        668  \n4          36     car        1  2007-12-21 00:06:27        563  \n..        ...     ...      ...                  ...        ...  \n177        24     car        0  2007-05-06 09:37:45        330  \n178        12     car        0  2007-05-05 06:35:11        209  \n179         6     car        1  2007-05-03 10:29:01        485  \n180        18     car        1  2007-05-02 06:22:11        184  \n181        18     car        1  2007-05-01 23:14:02        598  \n\n[182 rows x 12 columns]",
      "text/html": "<div>\n<style scoped>\n    .dataframe tbody tr th:only-of-type {\n        vertical-align: middle;\n    }\n\n    .dataframe tbody tr th {\n        vertical-align: top;\n    }\n\n    .dataframe thead th {\n        text-align: right;\n    }\n</style>\n<table border=\"1\" class=\"dataframe\">\n  <thead>\n    <tr style=\"text-align: right;\">\n      <th></th>\n      <th>age</th>\n      <th>sex</th>\n      <th>job</th>\n      <th>housing</th>\n      <th>saving_accounts</th>\n      <th>checking_account</th>\n      <th>credit_amount</th>\n      <th>duration</th>\n      <th>purpose</th>\n      <th>default</th>\n      <th>contract_dt</th>\n      <th>client_id</th>\n    </tr>\n  </thead>\n  <tbody>\n    <tr>\n      <th>0</th>\n      <td>36</td>\n      <td>male</td>\n      <td>3</td>\n      <td>rent</td>\n      <td>None</td>\n      <td>moderate</td>\n      <td>7057</td>\n      <td>20</td>\n      <td>car</td>\n      <td>0</td>\n      <td>2007-12-29 16:10:08</td>\n      <td>99</td>\n    </tr>\n    <tr>\n      <th>1</th>\n      <td>25</td>\n      <td>male</td>\n      <td>2</td>\n      <td>rent</td>\n      <td>moderate</td>\n      <td>moderate</td>\n      <td>1264</td>\n      <td>15</td>\n      <td>car</td>\n      <td>1</td>\n      <td>2007-12-28 08:38:58</td>\n      <td>979</td>\n    </tr>\n    <tr>\n      <th>2</th>\n      <td>48</td>\n      <td>male</td>\n      <td>2</td>\n      <td>own</td>\n      <td>little</td>\n      <td>None</td>\n      <td>2134</td>\n      <td>9</td>\n      <td>car</td>\n      <td>0</td>\n      <td>2007-12-24 16:28:30</td>\n      <td>20</td>\n    </tr>\n    <tr>\n      <th>3</th>\n      <td>43</td>\n      <td>male</td>\n      <td>2</td>\n      <td>rent</td>\n      <td>little</td>\n      <td>little</td>\n      <td>4843</td>\n      <td>12</td>\n      <td>car</td>\n      <td>1</td>\n      <td>2007-12-22 16:17:29</td>\n      <td>668</td>\n    </tr>\n    <tr>\n      <th>4</th>\n      <td>37</td>\n      <td>male</td>\n      <td>2</td>\n      <td>free</td>\n      <td>None</td>\n      <td>moderate</td>\n      <td>12389</td>\n      <td>36</td>\n      <td>car</td>\n      <td>1</td>\n      <td>2007-12-21 00:06:27</td>\n      <td>563</td>\n    </tr>\n    <tr>\n      <th>...</th>\n      <td>...</td>\n      <td>...</td>\n      <td>...</td>\n      <td>...</td>\n      <td>...</td>\n      <td>...</td>\n      <td>...</td>\n      <td>...</td>\n      <td>...</td>\n      <td>...</td>\n      <td>...</td>\n      <td>...</td>\n    </tr>\n    <tr>\n      <th>177</th>\n      <td>75</td>\n      <td>male</td>\n      <td>3</td>\n      <td>free</td>\n      <td>little</td>\n      <td>little</td>\n      <td>6615</td>\n      <td>24</td>\n      <td>car</td>\n      <td>0</td>\n      <td>2007-05-06 09:37:45</td>\n      <td>330</td>\n    </tr>\n    <tr>\n      <th>178</th>\n      <td>55</td>\n      <td>male</td>\n      <td>2</td>\n      <td>own</td>\n      <td>rich</td>\n      <td>None</td>\n      <td>1413</td>\n      <td>12</td>\n      <td>car</td>\n      <td>0</td>\n      <td>2007-05-05 06:35:11</td>\n      <td>209</td>\n    </tr>\n    <tr>\n      <th>179</th>\n      <td>47</td>\n      <td>male</td>\n      <td>3</td>\n      <td>own</td>\n      <td>little</td>\n      <td>moderate</td>\n      <td>1209</td>\n      <td>6</td>\n      <td>car</td>\n      <td>1</td>\n      <td>2007-05-03 10:29:01</td>\n      <td>485</td>\n    </tr>\n    <tr>\n      <th>180</th>\n      <td>36</td>\n      <td>male</td>\n      <td>2</td>\n      <td>own</td>\n      <td>little</td>\n      <td>moderate</td>\n      <td>884</td>\n      <td>18</td>\n      <td>car</td>\n      <td>1</td>\n      <td>2007-05-02 06:22:11</td>\n      <td>184</td>\n    </tr>\n    <tr>\n      <th>181</th>\n      <td>31</td>\n      <td>male</td>\n      <td>2</td>\n      <td>own</td>\n      <td>little</td>\n      <td>None</td>\n      <td>2775</td>\n      <td>18</td>\n      <td>car</td>\n      <td>1</td>\n      <td>2007-05-01 23:14:02</td>\n      <td>598</td>\n    </tr>\n  </tbody>\n</table>\n<p>182 rows × 12 columns</p>\n</div>"
     },
     "execution_count": 23,
     "metadata": {},
     "output_type": "execute_result"
    }
   ],
   "source": [
    "sql = '''select * from german_credit t\n",
    "where t.contract_dt between '2007-01-01' and '2007-12-31'\n",
    "and t.purpose = 'car'\n",
    "\n",
    "order by contract_dt desc, credit_amount\n",
    "'''\n",
    "select(sql)"
   ],
   "metadata": {
    "collapsed": false,
    "pycharm": {
     "name": "#%%\n"
    }
   }
  },
  {
   "cell_type": "code",
   "execution_count": 24,
   "outputs": [
    {
     "data": {
      "text/plain": "   count(*)\n0       182",
      "text/html": "<div>\n<style scoped>\n    .dataframe tbody tr th:only-of-type {\n        vertical-align: middle;\n    }\n\n    .dataframe tbody tr th {\n        vertical-align: top;\n    }\n\n    .dataframe thead th {\n        text-align: right;\n    }\n</style>\n<table border=\"1\" class=\"dataframe\">\n  <thead>\n    <tr style=\"text-align: right;\">\n      <th></th>\n      <th>count(*)</th>\n    </tr>\n  </thead>\n  <tbody>\n    <tr>\n      <th>0</th>\n      <td>182</td>\n    </tr>\n  </tbody>\n</table>\n</div>"
     },
     "execution_count": 24,
     "metadata": {},
     "output_type": "execute_result"
    }
   ],
   "source": [
    "sql = '''select count(*) from german_credit t\n",
    "where t.contract_dt between '2007-01-01' and '2007-12-31'\n",
    "and t.purpose = 'car'\n",
    "\n",
    "order by contract_dt desc, credit_amount\n",
    "'''\n",
    "select(sql)"
   ],
   "metadata": {
    "collapsed": false,
    "pycharm": {
     "name": "#%%\n"
    }
   }
  },
  {
   "cell_type": "markdown",
   "source": [
    "##### Несколько целей кредита"
   ],
   "metadata": {
    "collapsed": false,
    "pycharm": {
     "name": "#%% md\n"
    }
   }
  },
  {
   "cell_type": "code",
   "execution_count": 25,
   "outputs": [
    {
     "data": {
      "text/plain": "     age     sex  job housing saving_accounts checking_account  credit_amount  \\\n0     36    male    3    rent            None         moderate           7057   \n1     30    male    2     own          little         moderate            639   \n2     25    male    2    rent        moderate         moderate           1264   \n3     48    male    2     own          little             None           2134   \n4     67  female    2     own          little         moderate           3872   \n..   ...     ...  ...     ...             ...              ...            ...   \n192   55    male    2     own            rich             None           1413   \n193   55  female    0    free          little           little           1190   \n194   47    male    3     own          little         moderate           1209   \n195   36    male    2     own          little         moderate            884   \n196   31    male    2     own          little             None           2775   \n\n     duration  purpose  default          contract_dt  client_id  \n0          20      car        0  2007-12-29 16:10:08         99  \n1          12  repairs        1  2007-12-28 17:09:43        127  \n2          15      car        1  2007-12-28 08:38:58        979  \n3           9      car        0  2007-12-24 16:28:30         20  \n4          18  repairs        0  2007-12-24 12:25:28        779  \n..        ...      ...      ...                  ...        ...  \n192        12      car        0  2007-05-05 06:35:11        209  \n193        18  repairs        1  2007-05-05 00:14:17        429  \n194         6      car        1  2007-05-03 10:29:01        485  \n195        18      car        1  2007-05-02 06:22:11        184  \n196        18      car        1  2007-05-01 23:14:02        598  \n\n[197 rows x 12 columns]",
      "text/html": "<div>\n<style scoped>\n    .dataframe tbody tr th:only-of-type {\n        vertical-align: middle;\n    }\n\n    .dataframe tbody tr th {\n        vertical-align: top;\n    }\n\n    .dataframe thead th {\n        text-align: right;\n    }\n</style>\n<table border=\"1\" class=\"dataframe\">\n  <thead>\n    <tr style=\"text-align: right;\">\n      <th></th>\n      <th>age</th>\n      <th>sex</th>\n      <th>job</th>\n      <th>housing</th>\n      <th>saving_accounts</th>\n      <th>checking_account</th>\n      <th>credit_amount</th>\n      <th>duration</th>\n      <th>purpose</th>\n      <th>default</th>\n      <th>contract_dt</th>\n      <th>client_id</th>\n    </tr>\n  </thead>\n  <tbody>\n    <tr>\n      <th>0</th>\n      <td>36</td>\n      <td>male</td>\n      <td>3</td>\n      <td>rent</td>\n      <td>None</td>\n      <td>moderate</td>\n      <td>7057</td>\n      <td>20</td>\n      <td>car</td>\n      <td>0</td>\n      <td>2007-12-29 16:10:08</td>\n      <td>99</td>\n    </tr>\n    <tr>\n      <th>1</th>\n      <td>30</td>\n      <td>male</td>\n      <td>2</td>\n      <td>own</td>\n      <td>little</td>\n      <td>moderate</td>\n      <td>639</td>\n      <td>12</td>\n      <td>repairs</td>\n      <td>1</td>\n      <td>2007-12-28 17:09:43</td>\n      <td>127</td>\n    </tr>\n    <tr>\n      <th>2</th>\n      <td>25</td>\n      <td>male</td>\n      <td>2</td>\n      <td>rent</td>\n      <td>moderate</td>\n      <td>moderate</td>\n      <td>1264</td>\n      <td>15</td>\n      <td>car</td>\n      <td>1</td>\n      <td>2007-12-28 08:38:58</td>\n      <td>979</td>\n    </tr>\n    <tr>\n      <th>3</th>\n      <td>48</td>\n      <td>male</td>\n      <td>2</td>\n      <td>own</td>\n      <td>little</td>\n      <td>None</td>\n      <td>2134</td>\n      <td>9</td>\n      <td>car</td>\n      <td>0</td>\n      <td>2007-12-24 16:28:30</td>\n      <td>20</td>\n    </tr>\n    <tr>\n      <th>4</th>\n      <td>67</td>\n      <td>female</td>\n      <td>2</td>\n      <td>own</td>\n      <td>little</td>\n      <td>moderate</td>\n      <td>3872</td>\n      <td>18</td>\n      <td>repairs</td>\n      <td>0</td>\n      <td>2007-12-24 12:25:28</td>\n      <td>779</td>\n    </tr>\n    <tr>\n      <th>...</th>\n      <td>...</td>\n      <td>...</td>\n      <td>...</td>\n      <td>...</td>\n      <td>...</td>\n      <td>...</td>\n      <td>...</td>\n      <td>...</td>\n      <td>...</td>\n      <td>...</td>\n      <td>...</td>\n      <td>...</td>\n    </tr>\n    <tr>\n      <th>192</th>\n      <td>55</td>\n      <td>male</td>\n      <td>2</td>\n      <td>own</td>\n      <td>rich</td>\n      <td>None</td>\n      <td>1413</td>\n      <td>12</td>\n      <td>car</td>\n      <td>0</td>\n      <td>2007-05-05 06:35:11</td>\n      <td>209</td>\n    </tr>\n    <tr>\n      <th>193</th>\n      <td>55</td>\n      <td>female</td>\n      <td>0</td>\n      <td>free</td>\n      <td>little</td>\n      <td>little</td>\n      <td>1190</td>\n      <td>18</td>\n      <td>repairs</td>\n      <td>1</td>\n      <td>2007-05-05 00:14:17</td>\n      <td>429</td>\n    </tr>\n    <tr>\n      <th>194</th>\n      <td>47</td>\n      <td>male</td>\n      <td>3</td>\n      <td>own</td>\n      <td>little</td>\n      <td>moderate</td>\n      <td>1209</td>\n      <td>6</td>\n      <td>car</td>\n      <td>1</td>\n      <td>2007-05-03 10:29:01</td>\n      <td>485</td>\n    </tr>\n    <tr>\n      <th>195</th>\n      <td>36</td>\n      <td>male</td>\n      <td>2</td>\n      <td>own</td>\n      <td>little</td>\n      <td>moderate</td>\n      <td>884</td>\n      <td>18</td>\n      <td>car</td>\n      <td>1</td>\n      <td>2007-05-02 06:22:11</td>\n      <td>184</td>\n    </tr>\n    <tr>\n      <th>196</th>\n      <td>31</td>\n      <td>male</td>\n      <td>2</td>\n      <td>own</td>\n      <td>little</td>\n      <td>None</td>\n      <td>2775</td>\n      <td>18</td>\n      <td>car</td>\n      <td>1</td>\n      <td>2007-05-01 23:14:02</td>\n      <td>598</td>\n    </tr>\n  </tbody>\n</table>\n<p>197 rows × 12 columns</p>\n</div>"
     },
     "execution_count": 25,
     "metadata": {},
     "output_type": "execute_result"
    }
   ],
   "source": [
    "sql = '''select * from german_credit t\n",
    "where t.contract_dt between '2007-01-01' and '2007-12-31'\n",
    "and t.purpose in ('car', 'repairs')\n",
    "\n",
    "order by contract_dt desc, credit_amount\n",
    "'''\n",
    "select(sql)\n",
    "# -- комментит строку"
   ],
   "metadata": {
    "collapsed": false,
    "pycharm": {
     "name": "#%%\n"
    }
   }
  },
  {
   "cell_type": "code",
   "execution_count": 25,
   "outputs": [],
   "source": [],
   "metadata": {
    "collapsed": false,
    "pycharm": {
     "name": "#%%\n"
    }
   }
  },
  {
   "cell_type": "code",
   "execution_count": 26,
   "outputs": [],
   "source": [
    "t = pd.DataFrame({'purpose': ['машина', 'на машину', 'на покупку машины', 'автомобиль', 'на возвращение 2007'],\n",
    "              'amount': [1000, 400, 600, 700, 1500]})"
   ],
   "metadata": {
    "collapsed": false,
    "pycharm": {
     "name": "#%%\n"
    }
   }
  },
  {
   "cell_type": "code",
   "execution_count": 27,
   "outputs": [
    {
     "data": {
      "text/plain": "5"
     },
     "execution_count": 27,
     "metadata": {},
     "output_type": "execute_result"
    }
   ],
   "source": [
    "t.to_sql('purpose', con, index=False, if_exists='replace')"
   ],
   "metadata": {
    "collapsed": false,
    "pycharm": {
     "name": "#%%\n"
    }
   }
  },
  {
   "cell_type": "code",
   "execution_count": 28,
   "outputs": [],
   "source": [
    "sql = '''select * from purpose t'''"
   ],
   "metadata": {
    "collapsed": false,
    "pycharm": {
     "name": "#%%\n"
    }
   }
  },
  {
   "cell_type": "code",
   "execution_count": 29,
   "outputs": [
    {
     "data": {
      "text/plain": "               purpose  amount\n0               машина    1000\n1            на машину     400\n2    на покупку машины     600\n3           автомобиль     700\n4  на возвращение 2007    1500",
      "text/html": "<div>\n<style scoped>\n    .dataframe tbody tr th:only-of-type {\n        vertical-align: middle;\n    }\n\n    .dataframe tbody tr th {\n        vertical-align: top;\n    }\n\n    .dataframe thead th {\n        text-align: right;\n    }\n</style>\n<table border=\"1\" class=\"dataframe\">\n  <thead>\n    <tr style=\"text-align: right;\">\n      <th></th>\n      <th>purpose</th>\n      <th>amount</th>\n    </tr>\n  </thead>\n  <tbody>\n    <tr>\n      <th>0</th>\n      <td>машина</td>\n      <td>1000</td>\n    </tr>\n    <tr>\n      <th>1</th>\n      <td>на машину</td>\n      <td>400</td>\n    </tr>\n    <tr>\n      <th>2</th>\n      <td>на покупку машины</td>\n      <td>600</td>\n    </tr>\n    <tr>\n      <th>3</th>\n      <td>автомобиль</td>\n      <td>700</td>\n    </tr>\n    <tr>\n      <th>4</th>\n      <td>на возвращение 2007</td>\n      <td>1500</td>\n    </tr>\n  </tbody>\n</table>\n</div>"
     },
     "execution_count": 29,
     "metadata": {},
     "output_type": "execute_result"
    }
   ],
   "source": [
    "select(sql)"
   ],
   "metadata": {
    "collapsed": false,
    "pycharm": {
     "name": "#%%\n"
    }
   }
  },
  {
   "cell_type": "markdown",
   "source": [
    "## Like"
   ],
   "metadata": {
    "collapsed": false,
    "pycharm": {
     "name": "#%% md\n"
    }
   }
  },
  {
   "cell_type": "code",
   "execution_count": 30,
   "outputs": [],
   "source": [
    "sql = '''select * from purpose t\n",
    "where  t.purpose like '%машин%'\n",
    "or t.purpose like '%автомоб%'\n",
    "'''"
   ],
   "metadata": {
    "collapsed": false,
    "pycharm": {
     "name": "#%%\n"
    }
   }
  },
  {
   "cell_type": "code",
   "execution_count": 31,
   "outputs": [
    {
     "data": {
      "text/plain": "             purpose  amount\n0             машина    1000\n1          на машину     400\n2  на покупку машины     600\n3         автомобиль     700",
      "text/html": "<div>\n<style scoped>\n    .dataframe tbody tr th:only-of-type {\n        vertical-align: middle;\n    }\n\n    .dataframe tbody tr th {\n        vertical-align: top;\n    }\n\n    .dataframe thead th {\n        text-align: right;\n    }\n</style>\n<table border=\"1\" class=\"dataframe\">\n  <thead>\n    <tr style=\"text-align: right;\">\n      <th></th>\n      <th>purpose</th>\n      <th>amount</th>\n    </tr>\n  </thead>\n  <tbody>\n    <tr>\n      <th>0</th>\n      <td>машина</td>\n      <td>1000</td>\n    </tr>\n    <tr>\n      <th>1</th>\n      <td>на машину</td>\n      <td>400</td>\n    </tr>\n    <tr>\n      <th>2</th>\n      <td>на покупку машины</td>\n      <td>600</td>\n    </tr>\n    <tr>\n      <th>3</th>\n      <td>автомобиль</td>\n      <td>700</td>\n    </tr>\n  </tbody>\n</table>\n</div>"
     },
     "execution_count": 31,
     "metadata": {},
     "output_type": "execute_result"
    }
   ],
   "source": [
    "select(sql)"
   ],
   "metadata": {
    "collapsed": false,
    "pycharm": {
     "name": "#%%\n"
    }
   }
  },
  {
   "cell_type": "code",
   "execution_count": 32,
   "outputs": [],
   "source": [
    "sql = '''select * from purpose t\n",
    "where  (t.purpose like '%машин%'\n",
    "or t.purpose like '%автомоб%')\n",
    "and t.amount > 500\n",
    "'''\n",
    "# Скобки обязательны иначе or будет выполняться неверно"
   ],
   "metadata": {
    "collapsed": false,
    "pycharm": {
     "name": "#%%\n"
    }
   }
  },
  {
   "cell_type": "code",
   "execution_count": 33,
   "outputs": [
    {
     "data": {
      "text/plain": "             purpose  amount\n0             машина    1000\n1  на покупку машины     600\n2         автомобиль     700",
      "text/html": "<div>\n<style scoped>\n    .dataframe tbody tr th:only-of-type {\n        vertical-align: middle;\n    }\n\n    .dataframe tbody tr th {\n        vertical-align: top;\n    }\n\n    .dataframe thead th {\n        text-align: right;\n    }\n</style>\n<table border=\"1\" class=\"dataframe\">\n  <thead>\n    <tr style=\"text-align: right;\">\n      <th></th>\n      <th>purpose</th>\n      <th>amount</th>\n    </tr>\n  </thead>\n  <tbody>\n    <tr>\n      <th>0</th>\n      <td>машина</td>\n      <td>1000</td>\n    </tr>\n    <tr>\n      <th>1</th>\n      <td>на покупку машины</td>\n      <td>600</td>\n    </tr>\n    <tr>\n      <th>2</th>\n      <td>автомобиль</td>\n      <td>700</td>\n    </tr>\n  </tbody>\n</table>\n</div>"
     },
     "execution_count": 33,
     "metadata": {},
     "output_type": "execute_result"
    }
   ],
   "source": [
    "select(sql)"
   ],
   "metadata": {
    "collapsed": false,
    "pycharm": {
     "name": "#%%\n"
    }
   }
  },
  {
   "cell_type": "markdown",
   "source": [
    "## Case when"
   ],
   "metadata": {
    "collapsed": false,
    "pycharm": {
     "name": "#%% md\n"
    }
   }
  },
  {
   "cell_type": "markdown",
   "source": [
    "##### Посчитать количество кредитов, где сумма кредита превышает 1000"
   ],
   "metadata": {
    "collapsed": false,
    "pycharm": {
     "name": "#%% md\n"
    }
   }
  },
  {
   "cell_type": "code",
   "execution_count": 34,
   "outputs": [],
   "source": [
    "sql = '''select count(*) from german_credit t\n",
    "where t.credit_amount > 1000\n",
    "'''\n",
    "# Количество кредитов,где сумма кредита превышает 1000"
   ],
   "metadata": {
    "collapsed": false,
    "pycharm": {
     "name": "#%%\n"
    }
   }
  },
  {
   "cell_type": "code",
   "execution_count": 35,
   "outputs": [
    {
     "data": {
      "text/plain": "   count(*)\n0       884",
      "text/html": "<div>\n<style scoped>\n    .dataframe tbody tr th:only-of-type {\n        vertical-align: middle;\n    }\n\n    .dataframe tbody tr th {\n        vertical-align: top;\n    }\n\n    .dataframe thead th {\n        text-align: right;\n    }\n</style>\n<table border=\"1\" class=\"dataframe\">\n  <thead>\n    <tr style=\"text-align: right;\">\n      <th></th>\n      <th>count(*)</th>\n    </tr>\n  </thead>\n  <tbody>\n    <tr>\n      <th>0</th>\n      <td>884</td>\n    </tr>\n  </tbody>\n</table>\n</div>"
     },
     "execution_count": 35,
     "metadata": {},
     "output_type": "execute_result"
    }
   ],
   "source": [
    "select(sql)"
   ],
   "metadata": {
    "collapsed": false,
    "pycharm": {
     "name": "#%%\n"
    }
   }
  },
  {
   "cell_type": "code",
   "execution_count": 36,
   "outputs": [
    {
     "data": {
      "text/plain": "0.884"
     },
     "execution_count": 36,
     "metadata": {},
     "output_type": "execute_result"
    }
   ],
   "source": [
    "884/1000"
   ],
   "metadata": {
    "collapsed": false,
    "pycharm": {
     "name": "#%%\n"
    }
   }
  },
  {
   "cell_type": "code",
   "execution_count": 37,
   "outputs": [],
   "source": [
    "sql = '''select t.credit_amount,\n",
    "case when t.credit_amount > 1000 then 1 else 0 end as greater_1000_flag\n",
    "\n",
    "from german_credit t'''"
   ],
   "metadata": {
    "collapsed": false,
    "pycharm": {
     "name": "#%%\n"
    }
   }
  },
  {
   "cell_type": "code",
   "execution_count": 38,
   "outputs": [
    {
     "data": {
      "text/plain": "     credit_amount  greater_1000_flag\n0             3074                  1\n1             1344                  1\n2              936                  0\n3             1393                  1\n4              776                  0\n..             ...                ...\n995           2600                  1\n996           4455                  1\n997           6403                  1\n998           5003                  1\n999           1804                  1\n\n[1000 rows x 2 columns]",
      "text/html": "<div>\n<style scoped>\n    .dataframe tbody tr th:only-of-type {\n        vertical-align: middle;\n    }\n\n    .dataframe tbody tr th {\n        vertical-align: top;\n    }\n\n    .dataframe thead th {\n        text-align: right;\n    }\n</style>\n<table border=\"1\" class=\"dataframe\">\n  <thead>\n    <tr style=\"text-align: right;\">\n      <th></th>\n      <th>credit_amount</th>\n      <th>greater_1000_flag</th>\n    </tr>\n  </thead>\n  <tbody>\n    <tr>\n      <th>0</th>\n      <td>3074</td>\n      <td>1</td>\n    </tr>\n    <tr>\n      <th>1</th>\n      <td>1344</td>\n      <td>1</td>\n    </tr>\n    <tr>\n      <th>2</th>\n      <td>936</td>\n      <td>0</td>\n    </tr>\n    <tr>\n      <th>3</th>\n      <td>1393</td>\n      <td>1</td>\n    </tr>\n    <tr>\n      <th>4</th>\n      <td>776</td>\n      <td>0</td>\n    </tr>\n    <tr>\n      <th>...</th>\n      <td>...</td>\n      <td>...</td>\n    </tr>\n    <tr>\n      <th>995</th>\n      <td>2600</td>\n      <td>1</td>\n    </tr>\n    <tr>\n      <th>996</th>\n      <td>4455</td>\n      <td>1</td>\n    </tr>\n    <tr>\n      <th>997</th>\n      <td>6403</td>\n      <td>1</td>\n    </tr>\n    <tr>\n      <th>998</th>\n      <td>5003</td>\n      <td>1</td>\n    </tr>\n    <tr>\n      <th>999</th>\n      <td>1804</td>\n      <td>1</td>\n    </tr>\n  </tbody>\n</table>\n<p>1000 rows × 2 columns</p>\n</div>"
     },
     "execution_count": 38,
     "metadata": {},
     "output_type": "execute_result"
    }
   ],
   "source": [
    "select(sql)"
   ],
   "metadata": {
    "collapsed": false,
    "pycharm": {
     "name": "#%%\n"
    }
   }
  },
  {
   "cell_type": "markdown",
   "source": [
    "##### То же самое, только через iif ↑\n",
    "##### iif можно использовать в простых случаях"
   ],
   "metadata": {
    "collapsed": false,
    "pycharm": {
     "name": "#%% md\n"
    }
   }
  },
  {
   "cell_type": "code",
   "execution_count": 39,
   "outputs": [],
   "source": [
    "sql = '''select t.credit_amount,\n",
    "iif(t.credit_amount > 1000, 1, 0) as greater_1000_flag\n",
    "from german_credit t'''"
   ],
   "metadata": {
    "collapsed": false,
    "pycharm": {
     "name": "#%%\n"
    }
   }
  },
  {
   "cell_type": "code",
   "execution_count": 40,
   "outputs": [
    {
     "data": {
      "text/plain": "     credit_amount  greater_1000_flag\n0             3074                  1\n1             1344                  1\n2              936                  0\n3             1393                  1\n4              776                  0\n..             ...                ...\n995           2600                  1\n996           4455                  1\n997           6403                  1\n998           5003                  1\n999           1804                  1\n\n[1000 rows x 2 columns]",
      "text/html": "<div>\n<style scoped>\n    .dataframe tbody tr th:only-of-type {\n        vertical-align: middle;\n    }\n\n    .dataframe tbody tr th {\n        vertical-align: top;\n    }\n\n    .dataframe thead th {\n        text-align: right;\n    }\n</style>\n<table border=\"1\" class=\"dataframe\">\n  <thead>\n    <tr style=\"text-align: right;\">\n      <th></th>\n      <th>credit_amount</th>\n      <th>greater_1000_flag</th>\n    </tr>\n  </thead>\n  <tbody>\n    <tr>\n      <th>0</th>\n      <td>3074</td>\n      <td>1</td>\n    </tr>\n    <tr>\n      <th>1</th>\n      <td>1344</td>\n      <td>1</td>\n    </tr>\n    <tr>\n      <th>2</th>\n      <td>936</td>\n      <td>0</td>\n    </tr>\n    <tr>\n      <th>3</th>\n      <td>1393</td>\n      <td>1</td>\n    </tr>\n    <tr>\n      <th>4</th>\n      <td>776</td>\n      <td>0</td>\n    </tr>\n    <tr>\n      <th>...</th>\n      <td>...</td>\n      <td>...</td>\n    </tr>\n    <tr>\n      <th>995</th>\n      <td>2600</td>\n      <td>1</td>\n    </tr>\n    <tr>\n      <th>996</th>\n      <td>4455</td>\n      <td>1</td>\n    </tr>\n    <tr>\n      <th>997</th>\n      <td>6403</td>\n      <td>1</td>\n    </tr>\n    <tr>\n      <th>998</th>\n      <td>5003</td>\n      <td>1</td>\n    </tr>\n    <tr>\n      <th>999</th>\n      <td>1804</td>\n      <td>1</td>\n    </tr>\n  </tbody>\n</table>\n<p>1000 rows × 2 columns</p>\n</div>"
     },
     "execution_count": 40,
     "metadata": {},
     "output_type": "execute_result"
    }
   ],
   "source": [
    "select(sql)"
   ],
   "metadata": {
    "collapsed": false,
    "pycharm": {
     "name": "#%%\n"
    }
   }
  },
  {
   "cell_type": "markdown",
   "source": [
    "##### Для подсчёта доли можно использовать avg"
   ],
   "metadata": {
    "collapsed": false,
    "pycharm": {
     "name": "#%% md\n"
    }
   }
  },
  {
   "cell_type": "code",
   "execution_count": 41,
   "outputs": [],
   "source": [
    "sql = '''select\n",
    "avg(case when t.credit_amount > 1000 then 1 else 0 end) as greater_1000_frac\n",
    "\n",
    "from german_credit t'''"
   ],
   "metadata": {
    "collapsed": false,
    "pycharm": {
     "name": "#%%\n"
    }
   }
  },
  {
   "cell_type": "code",
   "execution_count": 42,
   "outputs": [
    {
     "data": {
      "text/plain": "   greater_1000_frac\n0              0.884",
      "text/html": "<div>\n<style scoped>\n    .dataframe tbody tr th:only-of-type {\n        vertical-align: middle;\n    }\n\n    .dataframe tbody tr th {\n        vertical-align: top;\n    }\n\n    .dataframe thead th {\n        text-align: right;\n    }\n</style>\n<table border=\"1\" class=\"dataframe\">\n  <thead>\n    <tr style=\"text-align: right;\">\n      <th></th>\n      <th>greater_1000_frac</th>\n    </tr>\n  </thead>\n  <tbody>\n    <tr>\n      <th>0</th>\n      <td>0.884</td>\n    </tr>\n  </tbody>\n</table>\n</div>"
     },
     "execution_count": 42,
     "metadata": {},
     "output_type": "execute_result"
    }
   ],
   "source": [
    "select(sql)"
   ],
   "metadata": {
    "collapsed": false,
    "pycharm": {
     "name": "#%%\n"
    }
   }
  },
  {
   "cell_type": "markdown",
   "source": [
    "## Сохранение результата в отдельную таблицу в БД"
   ],
   "metadata": {
    "collapsed": false,
    "pycharm": {
     "name": "#%% md\n"
    }
   }
  },
  {
   "cell_type": "code",
   "execution_count": 43,
   "outputs": [],
   "source": [
    "sql = '''select * from german_credit t\n",
    "where t.credit_amount > 1000'''"
   ],
   "metadata": {
    "collapsed": false,
    "pycharm": {
     "name": "#%%\n"
    }
   }
  },
  {
   "cell_type": "code",
   "execution_count": 44,
   "outputs": [
    {
     "data": {
      "text/plain": "     age     sex  job housing saving_accounts checking_account  credit_amount  \\\n0     33    male    2     own            None             None           3074   \n1     43    male    1     own          little           little           1344   \n2     35  female    3     own          little             None           1393   \n3     27  female    2     own          little         moderate           1295   \n4     26    male    2     own          little           little           4370   \n..   ...     ...  ...     ...             ...              ...            ...   \n879   65    male    2    free          little           little           2600   \n880   30    male    3     own          little         moderate           4455   \n881   33    male    2     own          little         moderate           6403   \n882   29  female    2     own            None             None           5003   \n883   44    male    2     own        moderate         moderate           1804   \n\n     duration              purpose  default          contract_dt  client_id  \n0           9             radio/TV        0  2008-06-29 18:52:00        210  \n1          12                  car        0  2007-05-20 18:30:19        929  \n2          11                  car        0  2007-05-06 10:58:22         45  \n3          18  furniture/equipment        0  2008-06-18 04:10:05         86  \n4          42             radio/TV        1  2007-11-29 00:20:44        639  \n..        ...                  ...      ...                  ...        ...  \n879        18             radio/TV        1  2007-12-16 20:17:19        624  \n880        36             business        1  2007-07-12 14:08:58        181  \n881        24             radio/TV        0  2008-04-08 03:24:26        730  \n882        21                  car        1  2007-11-29 15:51:45        557  \n883        12                  car        0  2007-08-14 09:05:33         23  \n\n[884 rows x 12 columns]",
      "text/html": "<div>\n<style scoped>\n    .dataframe tbody tr th:only-of-type {\n        vertical-align: middle;\n    }\n\n    .dataframe tbody tr th {\n        vertical-align: top;\n    }\n\n    .dataframe thead th {\n        text-align: right;\n    }\n</style>\n<table border=\"1\" class=\"dataframe\">\n  <thead>\n    <tr style=\"text-align: right;\">\n      <th></th>\n      <th>age</th>\n      <th>sex</th>\n      <th>job</th>\n      <th>housing</th>\n      <th>saving_accounts</th>\n      <th>checking_account</th>\n      <th>credit_amount</th>\n      <th>duration</th>\n      <th>purpose</th>\n      <th>default</th>\n      <th>contract_dt</th>\n      <th>client_id</th>\n    </tr>\n  </thead>\n  <tbody>\n    <tr>\n      <th>0</th>\n      <td>33</td>\n      <td>male</td>\n      <td>2</td>\n      <td>own</td>\n      <td>None</td>\n      <td>None</td>\n      <td>3074</td>\n      <td>9</td>\n      <td>radio/TV</td>\n      <td>0</td>\n      <td>2008-06-29 18:52:00</td>\n      <td>210</td>\n    </tr>\n    <tr>\n      <th>1</th>\n      <td>43</td>\n      <td>male</td>\n      <td>1</td>\n      <td>own</td>\n      <td>little</td>\n      <td>little</td>\n      <td>1344</td>\n      <td>12</td>\n      <td>car</td>\n      <td>0</td>\n      <td>2007-05-20 18:30:19</td>\n      <td>929</td>\n    </tr>\n    <tr>\n      <th>2</th>\n      <td>35</td>\n      <td>female</td>\n      <td>3</td>\n      <td>own</td>\n      <td>little</td>\n      <td>None</td>\n      <td>1393</td>\n      <td>11</td>\n      <td>car</td>\n      <td>0</td>\n      <td>2007-05-06 10:58:22</td>\n      <td>45</td>\n    </tr>\n    <tr>\n      <th>3</th>\n      <td>27</td>\n      <td>female</td>\n      <td>2</td>\n      <td>own</td>\n      <td>little</td>\n      <td>moderate</td>\n      <td>1295</td>\n      <td>18</td>\n      <td>furniture/equipment</td>\n      <td>0</td>\n      <td>2008-06-18 04:10:05</td>\n      <td>86</td>\n    </tr>\n    <tr>\n      <th>4</th>\n      <td>26</td>\n      <td>male</td>\n      <td>2</td>\n      <td>own</td>\n      <td>little</td>\n      <td>little</td>\n      <td>4370</td>\n      <td>42</td>\n      <td>radio/TV</td>\n      <td>1</td>\n      <td>2007-11-29 00:20:44</td>\n      <td>639</td>\n    </tr>\n    <tr>\n      <th>...</th>\n      <td>...</td>\n      <td>...</td>\n      <td>...</td>\n      <td>...</td>\n      <td>...</td>\n      <td>...</td>\n      <td>...</td>\n      <td>...</td>\n      <td>...</td>\n      <td>...</td>\n      <td>...</td>\n      <td>...</td>\n    </tr>\n    <tr>\n      <th>879</th>\n      <td>65</td>\n      <td>male</td>\n      <td>2</td>\n      <td>free</td>\n      <td>little</td>\n      <td>little</td>\n      <td>2600</td>\n      <td>18</td>\n      <td>radio/TV</td>\n      <td>1</td>\n      <td>2007-12-16 20:17:19</td>\n      <td>624</td>\n    </tr>\n    <tr>\n      <th>880</th>\n      <td>30</td>\n      <td>male</td>\n      <td>3</td>\n      <td>own</td>\n      <td>little</td>\n      <td>moderate</td>\n      <td>4455</td>\n      <td>36</td>\n      <td>business</td>\n      <td>1</td>\n      <td>2007-07-12 14:08:58</td>\n      <td>181</td>\n    </tr>\n    <tr>\n      <th>881</th>\n      <td>33</td>\n      <td>male</td>\n      <td>2</td>\n      <td>own</td>\n      <td>little</td>\n      <td>moderate</td>\n      <td>6403</td>\n      <td>24</td>\n      <td>radio/TV</td>\n      <td>0</td>\n      <td>2008-04-08 03:24:26</td>\n      <td>730</td>\n    </tr>\n    <tr>\n      <th>882</th>\n      <td>29</td>\n      <td>female</td>\n      <td>2</td>\n      <td>own</td>\n      <td>None</td>\n      <td>None</td>\n      <td>5003</td>\n      <td>21</td>\n      <td>car</td>\n      <td>1</td>\n      <td>2007-11-29 15:51:45</td>\n      <td>557</td>\n    </tr>\n    <tr>\n      <th>883</th>\n      <td>44</td>\n      <td>male</td>\n      <td>2</td>\n      <td>own</td>\n      <td>moderate</td>\n      <td>moderate</td>\n      <td>1804</td>\n      <td>12</td>\n      <td>car</td>\n      <td>0</td>\n      <td>2007-08-14 09:05:33</td>\n      <td>23</td>\n    </tr>\n  </tbody>\n</table>\n<p>884 rows × 12 columns</p>\n</div>"
     },
     "execution_count": 44,
     "metadata": {},
     "output_type": "execute_result"
    }
   ],
   "source": [
    "select(sql)"
   ],
   "metadata": {
    "collapsed": false,
    "pycharm": {
     "name": "#%%\n"
    }
   }
  },
  {
   "cell_type": "markdown",
   "source": [
    "##### Создаём курсор"
   ],
   "metadata": {
    "collapsed": false,
    "pycharm": {
     "name": "#%% md\n"
    }
   }
  },
  {
   "cell_type": "code",
   "execution_count": 45,
   "outputs": [],
   "source": [
    "cur = con.cursor()"
   ],
   "metadata": {
    "collapsed": false,
    "pycharm": {
     "name": "#%%\n"
    }
   }
  },
  {
   "cell_type": "markdown",
   "source": [
    "##### Создаём запрос на создание таблицы"
   ],
   "metadata": {
    "collapsed": false,
    "pycharm": {
     "name": "#%% md\n"
    }
   }
  },
  {
   "cell_type": "code",
   "execution_count": 46,
   "outputs": [],
   "source": [
    "sql = '''\n",
    "create table greater_1000_credit as\n",
    "select * from german_credit t\n",
    "where t.credit_amount > 1000'''"
   ],
   "metadata": {
    "collapsed": false,
    "pycharm": {
     "name": "#%%\n"
    }
   }
  },
  {
   "cell_type": "markdown",
   "source": [
    "##### Если таблица существует, то создание такой же выдаст ошибку, по этому нужно удалить таблицу, если она существует"
   ],
   "metadata": {
    "collapsed": false,
    "pycharm": {
     "name": "#%% md\n"
    }
   }
  },
  {
   "cell_type": "code",
   "execution_count": 47,
   "outputs": [],
   "source": [
    "sql = '''\n",
    "drop table if exists greater_1000_credit;\n",
    "\n",
    "create table greater_1000_credit as\n",
    "select * from german_credit t\n",
    "where t.credit_amount > 1000'''\n",
    "# ; - обязательны, т.к. выполняются 2 разные команды"
   ],
   "metadata": {
    "collapsed": false,
    "pycharm": {
     "name": "#%%\n"
    }
   }
  },
  {
   "cell_type": "markdown",
   "source": [
    "##### Выполняем запрос"
   ],
   "metadata": {
    "collapsed": false,
    "pycharm": {
     "name": "#%% md\n"
    }
   }
  },
  {
   "cell_type": "code",
   "execution_count": 48,
   "outputs": [
    {
     "ename": "ProgrammingError",
     "evalue": "You can only execute one statement at a time.",
     "output_type": "error",
     "traceback": [
      "\u001B[1;31m---------------------------------------------------------------------------\u001B[0m",
      "\u001B[1;31mProgrammingError\u001B[0m                          Traceback (most recent call last)",
      "Cell \u001B[1;32mIn [48], line 1\u001B[0m\n\u001B[1;32m----> 1\u001B[0m \u001B[43mcur\u001B[49m\u001B[38;5;241;43m.\u001B[39;49m\u001B[43mexecute\u001B[49m\u001B[43m(\u001B[49m\u001B[43msql\u001B[49m\u001B[43m)\u001B[49m\n",
      "\u001B[1;31mProgrammingError\u001B[0m: You can only execute one statement at a time."
     ]
    }
   ],
   "source": [
    "cur.execute(sql)"
   ],
   "metadata": {
    "collapsed": false,
    "pycharm": {
     "name": "#%%\n"
    }
   }
  },
  {
   "cell_type": "markdown",
   "source": [
    "##### При выполнении нескольких команд, нужно использовать executescript"
   ],
   "metadata": {
    "collapsed": false,
    "pycharm": {
     "name": "#%% md\n"
    }
   }
  },
  {
   "cell_type": "code",
   "execution_count": null,
   "outputs": [],
   "source": [
    "cur.executescript(sql)"
   ],
   "metadata": {
    "collapsed": false,
    "pycharm": {
     "name": "#%%\n"
    }
   }
  },
  {
   "cell_type": "markdown",
   "source": [
    "##### Выполняем селект из новый таблицы"
   ],
   "metadata": {
    "collapsed": false,
    "pycharm": {
     "name": "#%% md\n"
    }
   }
  },
  {
   "cell_type": "code",
   "execution_count": null,
   "outputs": [],
   "source": [
    "sql = '''select * from greater_1000_credit t'''"
   ],
   "metadata": {
    "collapsed": false,
    "pycharm": {
     "name": "#%%\n"
    }
   }
  },
  {
   "cell_type": "code",
   "execution_count": null,
   "outputs": [],
   "source": [
    "select(sql)"
   ],
   "metadata": {
    "collapsed": false,
    "pycharm": {
     "name": "#%%\n"
    }
   }
  },
  {
   "cell_type": "markdown",
   "source": [
    "## Создание таблицы в Postgres"
   ],
   "metadata": {
    "collapsed": false,
    "pycharm": {
     "name": "#%% md\n"
    }
   }
  },
  {
   "cell_type": "code",
   "execution_count": null,
   "outputs": [],
   "source": [],
   "metadata": {
    "collapsed": false,
    "pycharm": {
     "name": "#%%\n"
    }
   }
  }
 ],
 "metadata": {
  "kernelspec": {
   "display_name": "Python 3",
   "language": "python",
   "name": "python3"
  },
  "language_info": {
   "codemirror_mode": {
    "name": "ipython",
    "version": 2
   },
   "file_extension": ".py",
   "mimetype": "text/x-python",
   "name": "python",
   "nbconvert_exporter": "python",
   "pygments_lexer": "ipython2",
   "version": "2.7.6"
  }
 },
 "nbformat": 4,
 "nbformat_minor": 0
}